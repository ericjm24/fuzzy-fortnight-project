{
 "cells": [
  {
   "cell_type": "code",
   "execution_count": 2,
   "metadata": {},
   "outputs": [],
   "source": [
    "import twitterGraph as tg\n",
    "import numpy as np\n",
    "import random as rand\n",
    "import tweepy\n",
    "from config import tw_key, tw_secret\n",
    "#graph = tg.twitterGraph()\n",
    "auth = tweepy.AppAuthHandler(tw_key, tw_secret)\n",
    "api = tweepy.API(auth)"
   ]
  },
  {
   "cell_type": "code",
   "execution_count": 20,
   "metadata": {},
   "outputs": [],
   "source": [
    "house_rep = api.lists_all(\"HouseGOP\")[0]\n",
    "senate_rep = api.lists_all(\"SenateGOP\")[-1]\n",
    "house_dems = api.lists_all(\"HouseDemocrats\")[-1]\n",
    "senate_dems = api.lists_all(\"SenateDems\")[-1]"
   ]
  },
  {
   "cell_type": "code",
   "execution_count": 47,
   "metadata": {},
   "outputs": [
    {
     "data": {
      "text/plain": [
       "'House Republicans'"
      ]
     },
     "execution_count": 47,
     "metadata": {},
     "output_type": "execute_result"
    }
   ],
   "source": [
    "house_rep.name"
   ]
  },
  {
   "cell_type": "code",
   "execution_count": 27,
   "metadata": {},
   "outputs": [],
   "source": [
    "reps = []\n",
    "for item in tweepy.Cursor(api.list_members, list_id=house_rep.id).items():\n",
    "    reps.append(item)\n",
    "for item in tweepy.Cursor(api.list_members, list_id=senate_rep.id).items():\n",
    "    reps.append(item)\n",
    "dems = []\n",
    "for item in tweepy.Cursor(api.list_members, list_id=house_dems.id).items():\n",
    "    dems.append(item)\n",
    "for item in tweepy.Cursor(api.list_members, list_id=senate_dems.id).items():\n",
    "    dems.append(item)"
   ]
  },
  {
   "cell_type": "code",
   "execution_count": 32,
   "metadata": {},
   "outputs": [],
   "source": [
    "reps = [x.id for x in reps]\n",
    "dems = [x.id for x in dems]"
   ]
  },
  {
   "cell_type": "code",
   "execution_count": 33,
   "metadata": {},
   "outputs": [],
   "source": [
    "import json"
   ]
  },
  {
   "cell_type": "code",
   "execution_count": 40,
   "metadata": {},
   "outputs": [
    {
     "name": "stderr",
     "output_type": "stream",
     "text": [
      "\n",
      "KeyboardInterrupt\n"
     ]
    },
    {
     "ename": "KeyboardInterrupt",
     "evalue": "",
     "output_type": "error",
     "traceback": [
      "\u001b[1;31m---------------------------------------------------------------------------\u001b[0m",
      "\u001b[1;31mKeyboardInterrupt\u001b[0m                         Traceback (most recent call last)",
      "\u001b[1;32m~\\Anaconda3\\lib\\site-packages\\IPython\\core\\interactiveshell.py\u001b[0m in \u001b[0;36mrun_code\u001b[1;34m(self, code_obj, result, async_)\u001b[0m\n\u001b[0;32m   3325\u001b[0m                 \u001b[1;32melse\u001b[0m\u001b[1;33m:\u001b[0m\u001b[1;33m\u001b[0m\u001b[1;33m\u001b[0m\u001b[0m\n\u001b[1;32m-> 3326\u001b[1;33m                     \u001b[0mexec\u001b[0m\u001b[1;33m(\u001b[0m\u001b[0mcode_obj\u001b[0m\u001b[1;33m,\u001b[0m \u001b[0mself\u001b[0m\u001b[1;33m.\u001b[0m\u001b[0muser_global_ns\u001b[0m\u001b[1;33m,\u001b[0m \u001b[0mself\u001b[0m\u001b[1;33m.\u001b[0m\u001b[0muser_ns\u001b[0m\u001b[1;33m)\u001b[0m\u001b[1;33m\u001b[0m\u001b[1;33m\u001b[0m\u001b[0m\n\u001b[0m\u001b[0;32m   3327\u001b[0m             \u001b[1;32mfinally\u001b[0m\u001b[1;33m:\u001b[0m\u001b[1;33m\u001b[0m\u001b[1;33m\u001b[0m\u001b[0m\n",
      "\u001b[1;32m<ipython-input-40-fb12481cb235>\u001b[0m in \u001b[0;36m<module>\u001b[1;34m\u001b[0m\n\u001b[0;32m     11\u001b[0m         \u001b[1;32mfor\u001b[0m \u001b[0mid\u001b[0m \u001b[1;32min\u001b[0m \u001b[0mjs_data\u001b[0m\u001b[1;33m[\u001b[0m\u001b[1;34m'followers_ids'\u001b[0m\u001b[1;33m]\u001b[0m\u001b[1;33m:\u001b[0m\u001b[1;33m\u001b[0m\u001b[1;33m\u001b[0m\u001b[0m\n\u001b[1;32m---> 12\u001b[1;33m             \u001b[1;32mif\u001b[0m \u001b[0musers_dict\u001b[0m\u001b[1;33m.\u001b[0m\u001b[0mget\u001b[0m\u001b[1;33m(\u001b[0m\u001b[0mid\u001b[0m\u001b[1;33m,\u001b[0m \u001b[1;32mFalse\u001b[0m\u001b[1;33m)\u001b[0m\u001b[1;33m:\u001b[0m\u001b[1;33m\u001b[0m\u001b[1;33m\u001b[0m\u001b[0m\n\u001b[0m\u001b[0;32m     13\u001b[0m                 \u001b[0musers_dict\u001b[0m\u001b[1;33m[\u001b[0m\u001b[0mid\u001b[0m\u001b[1;33m]\u001b[0m\u001b[1;33m[\u001b[0m\u001b[1;34m'pol_value'\u001b[0m\u001b[1;33m]\u001b[0m \u001b[1;33m+=\u001b[0m \u001b[0mpol_value\u001b[0m\u001b[1;33m\u001b[0m\u001b[1;33m\u001b[0m\u001b[0m\n",
      "\u001b[1;31mKeyboardInterrupt\u001b[0m: ",
      "\nDuring handling of the above exception, another exception occurred:\n",
      "\u001b[1;31mKeyboardInterrupt\u001b[0m                         Traceback (most recent call last)",
      "\u001b[1;32m~\\Anaconda3\\lib\\site-packages\\IPython\\core\\interactiveshell.py\u001b[0m in \u001b[0;36mshowtraceback\u001b[1;34m(self, exc_tuple, filename, tb_offset, exception_only, running_compiled_code)\u001b[0m\n\u001b[0;32m   2015\u001b[0m \u001b[1;33m\u001b[0m\u001b[0m\n\u001b[1;32m-> 2016\u001b[1;33m         \u001b[1;32mtry\u001b[0m\u001b[1;33m:\u001b[0m\u001b[1;33m\u001b[0m\u001b[1;33m\u001b[0m\u001b[0m\n\u001b[0m\u001b[0;32m   2017\u001b[0m             \u001b[1;32mtry\u001b[0m\u001b[1;33m:\u001b[0m\u001b[1;33m\u001b[0m\u001b[1;33m\u001b[0m\u001b[0m\n",
      "\u001b[1;31mKeyboardInterrupt\u001b[0m: ",
      "\nDuring handling of the above exception, another exception occurred:\n",
      "\u001b[1;31mKeyboardInterrupt\u001b[0m                         Traceback (most recent call last)",
      "\u001b[1;32m~\\Anaconda3\\lib\\site-packages\\IPython\\core\\interactiveshell.py\u001b[0m in \u001b[0;36mrun_code\u001b[1;34m(self, code_obj, result, async_)\u001b[0m\n\u001b[0;32m   3341\u001b[0m             \u001b[1;32mif\u001b[0m \u001b[0mresult\u001b[0m \u001b[1;32mis\u001b[0m \u001b[1;32mnot\u001b[0m \u001b[1;32mNone\u001b[0m\u001b[1;33m:\u001b[0m\u001b[1;33m\u001b[0m\u001b[1;33m\u001b[0m\u001b[0m\n\u001b[0;32m   3342\u001b[0m                 \u001b[0mresult\u001b[0m\u001b[1;33m.\u001b[0m\u001b[0merror_in_exec\u001b[0m \u001b[1;33m=\u001b[0m \u001b[0msys\u001b[0m\u001b[1;33m.\u001b[0m\u001b[0mexc_info\u001b[0m\u001b[1;33m(\u001b[0m\u001b[1;33m)\u001b[0m\u001b[1;33m[\u001b[0m\u001b[1;36m1\u001b[0m\u001b[1;33m]\u001b[0m\u001b[1;33m\u001b[0m\u001b[1;33m\u001b[0m\u001b[0m\n\u001b[1;32m-> 3343\u001b[1;33m             \u001b[0mself\u001b[0m\u001b[1;33m.\u001b[0m\u001b[0mshowtraceback\u001b[0m\u001b[1;33m(\u001b[0m\u001b[0mrunning_compiled_code\u001b[0m\u001b[1;33m=\u001b[0m\u001b[1;32mTrue\u001b[0m\u001b[1;33m)\u001b[0m\u001b[1;33m\u001b[0m\u001b[1;33m\u001b[0m\u001b[0m\n\u001b[0m\u001b[0;32m   3344\u001b[0m         \u001b[1;32melse\u001b[0m\u001b[1;33m:\u001b[0m\u001b[1;33m\u001b[0m\u001b[1;33m\u001b[0m\u001b[0m\n\u001b[0;32m   3345\u001b[0m             \u001b[0moutflag\u001b[0m \u001b[1;33m=\u001b[0m \u001b[1;32mFalse\u001b[0m\u001b[1;33m\u001b[0m\u001b[1;33m\u001b[0m\u001b[0m\n",
      "\u001b[1;32m~\\Anaconda3\\lib\\site-packages\\IPython\\core\\interactiveshell.py\u001b[0m in \u001b[0;36mshowtraceback\u001b[1;34m(self, exc_tuple, filename, tb_offset, exception_only, running_compiled_code)\u001b[0m\n\u001b[0;32m   2053\u001b[0m \u001b[1;33m\u001b[0m\u001b[0m\n\u001b[0;32m   2054\u001b[0m         \u001b[1;32mexcept\u001b[0m \u001b[0mKeyboardInterrupt\u001b[0m\u001b[1;33m:\u001b[0m\u001b[1;33m\u001b[0m\u001b[1;33m\u001b[0m\u001b[0m\n\u001b[1;32m-> 2055\u001b[1;33m             \u001b[0mprint\u001b[0m\u001b[1;33m(\u001b[0m\u001b[1;34m'\\n'\u001b[0m \u001b[1;33m+\u001b[0m \u001b[0mself\u001b[0m\u001b[1;33m.\u001b[0m\u001b[0mget_exception_only\u001b[0m\u001b[1;33m(\u001b[0m\u001b[1;33m)\u001b[0m\u001b[1;33m,\u001b[0m \u001b[0mfile\u001b[0m\u001b[1;33m=\u001b[0m\u001b[0msys\u001b[0m\u001b[1;33m.\u001b[0m\u001b[0mstderr\u001b[0m\u001b[1;33m)\u001b[0m\u001b[1;33m\u001b[0m\u001b[1;33m\u001b[0m\u001b[0m\n\u001b[0m\u001b[0;32m   2056\u001b[0m \u001b[1;33m\u001b[0m\u001b[0m\n\u001b[0;32m   2057\u001b[0m     \u001b[1;32mdef\u001b[0m \u001b[0m_showtraceback\u001b[0m\u001b[1;33m(\u001b[0m\u001b[0mself\u001b[0m\u001b[1;33m,\u001b[0m \u001b[0metype\u001b[0m\u001b[1;33m,\u001b[0m \u001b[0mevalue\u001b[0m\u001b[1;33m,\u001b[0m \u001b[0mstb\u001b[0m\u001b[1;33m)\u001b[0m\u001b[1;33m:\u001b[0m\u001b[1;33m\u001b[0m\u001b[1;33m\u001b[0m\u001b[0m\n",
      "\u001b[1;32m~\\Anaconda3\\lib\\site-packages\\ipykernel\\iostream.py\u001b[0m in \u001b[0;36mwrite\u001b[1;34m(self, string)\u001b[0m\n\u001b[0;32m    400\u001b[0m             \u001b[0mis_child\u001b[0m \u001b[1;33m=\u001b[0m \u001b[1;33m(\u001b[0m\u001b[1;32mnot\u001b[0m \u001b[0mself\u001b[0m\u001b[1;33m.\u001b[0m\u001b[0m_is_master_process\u001b[0m\u001b[1;33m(\u001b[0m\u001b[1;33m)\u001b[0m\u001b[1;33m)\u001b[0m\u001b[1;33m\u001b[0m\u001b[1;33m\u001b[0m\u001b[0m\n\u001b[0;32m    401\u001b[0m             \u001b[1;31m# only touch the buffer in the IO thread to avoid races\u001b[0m\u001b[1;33m\u001b[0m\u001b[1;33m\u001b[0m\u001b[1;33m\u001b[0m\u001b[0m\n\u001b[1;32m--> 402\u001b[1;33m             \u001b[0mself\u001b[0m\u001b[1;33m.\u001b[0m\u001b[0mpub_thread\u001b[0m\u001b[1;33m.\u001b[0m\u001b[0mschedule\u001b[0m\u001b[1;33m(\u001b[0m\u001b[1;32mlambda\u001b[0m \u001b[1;33m:\u001b[0m \u001b[0mself\u001b[0m\u001b[1;33m.\u001b[0m\u001b[0m_buffer\u001b[0m\u001b[1;33m.\u001b[0m\u001b[0mwrite\u001b[0m\u001b[1;33m(\u001b[0m\u001b[0mstring\u001b[0m\u001b[1;33m)\u001b[0m\u001b[1;33m)\u001b[0m\u001b[1;33m\u001b[0m\u001b[1;33m\u001b[0m\u001b[0m\n\u001b[0m\u001b[0;32m    403\u001b[0m             \u001b[1;32mif\u001b[0m \u001b[0mis_child\u001b[0m\u001b[1;33m:\u001b[0m\u001b[1;33m\u001b[0m\u001b[1;33m\u001b[0m\u001b[0m\n\u001b[0;32m    404\u001b[0m                 \u001b[1;31m# newlines imply flush in subprocesses\u001b[0m\u001b[1;33m\u001b[0m\u001b[1;33m\u001b[0m\u001b[1;33m\u001b[0m\u001b[0m\n",
      "\u001b[1;32m~\\Anaconda3\\lib\\site-packages\\ipykernel\\iostream.py\u001b[0m in \u001b[0;36mschedule\u001b[1;34m(self, f)\u001b[0m\n\u001b[0;32m    203\u001b[0m             \u001b[0mself\u001b[0m\u001b[1;33m.\u001b[0m\u001b[0m_events\u001b[0m\u001b[1;33m.\u001b[0m\u001b[0mappend\u001b[0m\u001b[1;33m(\u001b[0m\u001b[0mf\u001b[0m\u001b[1;33m)\u001b[0m\u001b[1;33m\u001b[0m\u001b[1;33m\u001b[0m\u001b[0m\n\u001b[0;32m    204\u001b[0m             \u001b[1;31m# wake event thread (message content is ignored)\u001b[0m\u001b[1;33m\u001b[0m\u001b[1;33m\u001b[0m\u001b[1;33m\u001b[0m\u001b[0m\n\u001b[1;32m--> 205\u001b[1;33m             \u001b[0mself\u001b[0m\u001b[1;33m.\u001b[0m\u001b[0m_event_pipe\u001b[0m\u001b[1;33m.\u001b[0m\u001b[0msend\u001b[0m\u001b[1;33m(\u001b[0m\u001b[1;34mb''\u001b[0m\u001b[1;33m)\u001b[0m\u001b[1;33m\u001b[0m\u001b[1;33m\u001b[0m\u001b[0m\n\u001b[0m\u001b[0;32m    206\u001b[0m         \u001b[1;32melse\u001b[0m\u001b[1;33m:\u001b[0m\u001b[1;33m\u001b[0m\u001b[1;33m\u001b[0m\u001b[0m\n\u001b[0;32m    207\u001b[0m             \u001b[0mf\u001b[0m\u001b[1;33m(\u001b[0m\u001b[1;33m)\u001b[0m\u001b[1;33m\u001b[0m\u001b[1;33m\u001b[0m\u001b[0m\n",
      "\u001b[1;32m~\\Anaconda3\\lib\\site-packages\\zmq\\sugar\\socket.py\u001b[0m in \u001b[0;36msend\u001b[1;34m(self, data, flags, copy, track, routing_id, group)\u001b[0m\n\u001b[0;32m    398\u001b[0m                                  copy_threshold=self.copy_threshold)\n\u001b[0;32m    399\u001b[0m             \u001b[0mdata\u001b[0m\u001b[1;33m.\u001b[0m\u001b[0mgroup\u001b[0m \u001b[1;33m=\u001b[0m \u001b[0mgroup\u001b[0m\u001b[1;33m\u001b[0m\u001b[1;33m\u001b[0m\u001b[0m\n\u001b[1;32m--> 400\u001b[1;33m         \u001b[1;32mreturn\u001b[0m \u001b[0msuper\u001b[0m\u001b[1;33m(\u001b[0m\u001b[0mSocket\u001b[0m\u001b[1;33m,\u001b[0m \u001b[0mself\u001b[0m\u001b[1;33m)\u001b[0m\u001b[1;33m.\u001b[0m\u001b[0msend\u001b[0m\u001b[1;33m(\u001b[0m\u001b[0mdata\u001b[0m\u001b[1;33m,\u001b[0m \u001b[0mflags\u001b[0m\u001b[1;33m=\u001b[0m\u001b[0mflags\u001b[0m\u001b[1;33m,\u001b[0m \u001b[0mcopy\u001b[0m\u001b[1;33m=\u001b[0m\u001b[0mcopy\u001b[0m\u001b[1;33m,\u001b[0m \u001b[0mtrack\u001b[0m\u001b[1;33m=\u001b[0m\u001b[0mtrack\u001b[0m\u001b[1;33m)\u001b[0m\u001b[1;33m\u001b[0m\u001b[1;33m\u001b[0m\u001b[0m\n\u001b[0m\u001b[0;32m    401\u001b[0m \u001b[1;33m\u001b[0m\u001b[0m\n\u001b[0;32m    402\u001b[0m     \u001b[1;32mdef\u001b[0m \u001b[0msend_multipart\u001b[0m\u001b[1;33m(\u001b[0m\u001b[0mself\u001b[0m\u001b[1;33m,\u001b[0m \u001b[0mmsg_parts\u001b[0m\u001b[1;33m,\u001b[0m \u001b[0mflags\u001b[0m\u001b[1;33m=\u001b[0m\u001b[1;36m0\u001b[0m\u001b[1;33m,\u001b[0m \u001b[0mcopy\u001b[0m\u001b[1;33m=\u001b[0m\u001b[1;32mTrue\u001b[0m\u001b[1;33m,\u001b[0m \u001b[0mtrack\u001b[0m\u001b[1;33m=\u001b[0m\u001b[1;32mFalse\u001b[0m\u001b[1;33m,\u001b[0m \u001b[1;33m**\u001b[0m\u001b[0mkwargs\u001b[0m\u001b[1;33m)\u001b[0m\u001b[1;33m:\u001b[0m\u001b[1;33m\u001b[0m\u001b[1;33m\u001b[0m\u001b[0m\n",
      "\u001b[1;32mzmq/backend/cython/socket.pyx\u001b[0m in \u001b[0;36mzmq.backend.cython.socket.Socket.send\u001b[1;34m()\u001b[0m\n",
      "\u001b[1;32mzmq/backend/cython/socket.pyx\u001b[0m in \u001b[0;36mzmq.backend.cython.socket.Socket.send\u001b[1;34m()\u001b[0m\n",
      "\u001b[1;32mzmq/backend/cython/socket.pyx\u001b[0m in \u001b[0;36mzmq.backend.cython.socket._send_copy\u001b[1;34m()\u001b[0m\n",
      "\u001b[1;32m~\\Anaconda3\\lib\\site-packages\\zmq\\backend\\cython\\checkrc.pxd\u001b[0m in \u001b[0;36mzmq.backend.cython.checkrc._check_rc\u001b[1;34m()\u001b[0m\n",
      "\u001b[1;31mKeyboardInterrupt\u001b[0m: "
     ]
    }
   ],
   "source": [
    "users_dict = {}\n",
    "with open(\"data/pol_json_data\", \"r\") as f:\n",
    "    for line in f:\n",
    "        js_data = json.loads(line)\n",
    "        pol_value = 1.0\n",
    "        part_value = 0.0\n",
    "        if js_data['id'] in reps:\n",
    "            part_value = 1.0\n",
    "        elif js_data['id'] in dems:\n",
    "            part_value = -1.0\n",
    "        for id in js_data['followers_ids']:\n",
    "            if users_dict.get(id, False):\n",
    "                users_dict[id]['pol_value'] += pol_value\n",
    "                users_dict[id]['part_value'] += part_value\n",
    "            else:\n",
    "                users_dict[id] = {'pol_value':pol_value, 'part_value':part_value}"
   ]
  },
  {
   "cell_type": "code",
   "execution_count": 46,
   "metadata": {},
   "outputs": [
    {
     "name": "stdout",
     "output_type": "stream",
     "text": [
      "{'pol_value': 196.0, 'part_value': 169.0}\n",
      "{'pol_value': 38.0, 'part_value': 33.0}\n",
      "{'pol_value': 14.0, 'part_value': 13.0}\n",
      "{'pol_value': 1.0, 'part_value': 0.0}\n",
      "{'pol_value': 30.0, 'part_value': 28.0}\n",
      "{'pol_value': 56.0, 'part_value': 40.0}\n",
      "{'pol_value': 50.0, 'part_value': 48.0}\n",
      "{'pol_value': 25.0, 'part_value': 23.0}\n",
      "{'pol_value': 10.0, 'part_value': 0.0}\n",
      "{'pol_value': 28.0, 'part_value': 26.0}\n",
      "{'pol_value': 273.0, 'part_value': -58.0}\n",
      "{'pol_value': 21.0, 'part_value': 20.0}\n",
      "{'pol_value': 59.0, 'part_value': 46.0}\n",
      "{'pol_value': 16.0, 'part_value': 15.0}\n",
      "{'pol_value': 16.0, 'part_value': 14.0}\n",
      "{'pol_value': 20.0, 'part_value': 17.0}\n",
      "{'pol_value': 76.0, 'part_value': 34.0}\n",
      "{'pol_value': 25.0, 'part_value': 23.0}\n",
      "{'pol_value': 30.0, 'part_value': 26.0}\n",
      "{'pol_value': 32.0, 'part_value': 30.0}\n",
      "{'pol_value': 142.0, 'part_value': -75.0}\n",
      "{'pol_value': 29.0, 'part_value': 23.0}\n",
      "{'pol_value': 53.0, 'part_value': 0.0}\n",
      "{'pol_value': 123.0, 'part_value': 111.0}\n",
      "{'pol_value': 2.0, 'part_value': 1.0}\n",
      "{'pol_value': 206.0, 'part_value': 24.0}\n",
      "{'pol_value': 93.0, 'part_value': 82.0}\n",
      "{'pol_value': 23.0, 'part_value': 22.0}\n",
      "{'pol_value': 13.0, 'part_value': 12.0}\n",
      "{'pol_value': 38.0, 'part_value': 30.0}\n",
      "{'pol_value': 8.0, 'part_value': 7.0}\n",
      "{'pol_value': 11.0, 'part_value': 9.0}\n",
      "{'pol_value': 44.0, 'part_value': 42.0}\n",
      "{'pol_value': 108.0, 'part_value': 98.0}\n",
      "{'pol_value': 42.0, 'part_value': 5.0}\n",
      "{'pol_value': 13.0, 'part_value': 6.0}\n",
      "{'pol_value': 10.0, 'part_value': 9.0}\n",
      "{'pol_value': 21.0, 'part_value': 12.0}\n",
      "{'pol_value': 3.0, 'part_value': 2.0}\n",
      "{'pol_value': 12.0, 'part_value': 4.0}\n",
      "{'pol_value': 151.0, 'part_value': 118.0}\n",
      "{'pol_value': 4.0, 'part_value': 0.0}\n",
      "{'pol_value': 89.0, 'part_value': 81.0}\n",
      "{'pol_value': 37.0, 'part_value': 35.0}\n",
      "{'pol_value': 125.0, 'part_value': -1.0}\n",
      "{'pol_value': 37.0, 'part_value': 34.0}\n",
      "{'pol_value': 306.0, 'part_value': 153.0}\n",
      "{'pol_value': 5.0, 'part_value': 4.0}\n",
      "{'pol_value': 11.0, 'part_value': 10.0}\n",
      "{'pol_value': 13.0, 'part_value': 0.0}\n",
      "{'pol_value': 7.0, 'part_value': 6.0}\n",
      "{'pol_value': 30.0, 'part_value': 29.0}\n",
      "{'pol_value': 45.0, 'part_value': 32.0}\n",
      "{'pol_value': 4.0, 'part_value': 3.0}\n",
      "{'pol_value': 33.0, 'part_value': 29.0}\n",
      "{'pol_value': 12.0, 'part_value': 9.0}\n",
      "{'pol_value': 9.0, 'part_value': 7.0}\n",
      "{'pol_value': 3.0, 'part_value': 2.0}\n",
      "{'pol_value': 42.0, 'part_value': 27.0}\n",
      "{'pol_value': 7.0, 'part_value': 6.0}\n",
      "{'pol_value': 61.0, 'part_value': -16.0}\n",
      "{'pol_value': 10.0, 'part_value': 7.0}\n",
      "{'pol_value': 64.0, 'part_value': 57.0}\n",
      "{'pol_value': 36.0, 'part_value': 31.0}\n",
      "{'pol_value': 32.0, 'part_value': 30.0}\n",
      "{'pol_value': 20.0, 'part_value': 19.0}\n",
      "{'pol_value': 27.0, 'part_value': 12.0}\n",
      "{'pol_value': 22.0, 'part_value': 21.0}\n",
      "{'pol_value': 19.0, 'part_value': 17.0}\n",
      "{'pol_value': 52.0, 'part_value': 46.0}\n",
      "{'pol_value': 23.0, 'part_value': 22.0}\n",
      "{'pol_value': 39.0, 'part_value': 35.0}\n",
      "{'pol_value': 31.0, 'part_value': 30.0}\n",
      "{'pol_value': 41.0, 'part_value': 39.0}\n",
      "{'pol_value': 23.0, 'part_value': 20.0}\n",
      "{'pol_value': 25.0, 'part_value': 7.0}\n",
      "{'pol_value': 1.0, 'part_value': 0.0}\n",
      "{'pol_value': 20.0, 'part_value': 11.0}\n",
      "{'pol_value': 136.0, 'part_value': -86.0}\n",
      "{'pol_value': 26.0, 'part_value': 19.0}\n",
      "{'pol_value': 88.0, 'part_value': -46.0}\n",
      "{'pol_value': 7.0, 'part_value': 2.0}\n",
      "{'pol_value': 21.0, 'part_value': 20.0}\n",
      "{'pol_value': 43.0, 'part_value': 9.0}\n",
      "{'pol_value': 35.0, 'part_value': 11.0}\n",
      "{'pol_value': 27.0, 'part_value': 23.0}\n",
      "{'pol_value': 50.0, 'part_value': 46.0}\n",
      "{'pol_value': 5.0, 'part_value': 4.0}\n",
      "{'pol_value': 6.0, 'part_value': 5.0}\n",
      "{'pol_value': 73.0, 'part_value': 56.0}\n",
      "{'pol_value': 49.0, 'part_value': 47.0}\n",
      "{'pol_value': 34.0, 'part_value': 6.0}\n",
      "{'pol_value': 4.0, 'part_value': 3.0}\n",
      "{'pol_value': 38.0, 'part_value': 18.0}\n",
      "{'pol_value': 120.0, 'part_value': 43.0}\n",
      "{'pol_value': 304.0, 'part_value': 66.0}\n",
      "{'pol_value': 367.0, 'part_value': 49.0}\n",
      "{'pol_value': 102.0, 'part_value': 93.0}\n",
      "{'pol_value': 32.0, 'part_value': 25.0}\n",
      "{'pol_value': 16.0, 'part_value': 15.0}\n",
      "{'pol_value': 35.0, 'part_value': 21.0}\n"
     ]
    }
   ],
   "source": [
    "k = 0\n",
    "for val in users_dict.values():\n",
    "    k += 1\n",
    "    print(val)\n",
    "    if k>100:\n",
    "        break\n"
   ]
  },
  {
   "cell_type": "code",
   "execution_count": 5,
   "metadata": {},
   "outputs": [],
   "source": [
    "congress = lists[16]\n",
    "governors = lists[18]"
   ]
  },
  {
   "cell_type": "code",
   "execution_count": 6,
   "metadata": {},
   "outputs": [],
   "source": [
    "politicians = []"
   ]
  },
  {
   "cell_type": "code",
   "execution_count": 7,
   "metadata": {},
   "outputs": [],
   "source": [
    "for item in tweepy.Cursor(api.list_members, list_id=congress.id).items():\n",
    "    politicians.append(item)"
   ]
  },
  {
   "cell_type": "code",
   "execution_count": 8,
   "metadata": {},
   "outputs": [],
   "source": [
    "for item in tweepy.Cursor(api.list_members, list_id=governors.id).items():\n",
    "    politicians.append(item)"
   ]
  },
  {
   "cell_type": "code",
   "execution_count": 9,
   "metadata": {},
   "outputs": [
    {
     "data": {
      "text/plain": [
       "['_api',\n",
       " '_json',\n",
       " 'id',\n",
       " 'id_str',\n",
       " 'name',\n",
       " 'screen_name',\n",
       " 'location',\n",
       " 'description',\n",
       " 'url',\n",
       " 'entities',\n",
       " 'protected',\n",
       " 'followers_count',\n",
       " 'friends_count',\n",
       " 'listed_count',\n",
       " 'created_at',\n",
       " 'favourites_count',\n",
       " 'utc_offset',\n",
       " 'time_zone',\n",
       " 'geo_enabled',\n",
       " 'verified',\n",
       " 'statuses_count',\n",
       " 'lang',\n",
       " 'status',\n",
       " 'contributors_enabled',\n",
       " 'is_translator',\n",
       " 'is_translation_enabled',\n",
       " 'profile_background_color',\n",
       " 'profile_background_image_url',\n",
       " 'profile_background_image_url_https',\n",
       " 'profile_background_tile',\n",
       " 'profile_image_url',\n",
       " 'profile_image_url_https',\n",
       " 'profile_banner_url',\n",
       " 'profile_link_color',\n",
       " 'profile_sidebar_border_color',\n",
       " 'profile_sidebar_fill_color',\n",
       " 'profile_text_color',\n",
       " 'profile_use_background_image',\n",
       " 'has_extended_profile',\n",
       " 'default_profile',\n",
       " 'default_profile_image',\n",
       " 'can_media_tag',\n",
       " 'followed_by',\n",
       " 'following',\n",
       " 'follow_request_sent',\n",
       " 'notifications',\n",
       " 'translator_type',\n",
       " '__module__',\n",
       " 'parse',\n",
       " 'parse_list',\n",
       " 'timeline',\n",
       " 'friends',\n",
       " 'followers',\n",
       " 'follow',\n",
       " 'unfollow',\n",
       " 'lists_memberships',\n",
       " 'lists_subscriptions',\n",
       " 'lists',\n",
       " 'followers_ids',\n",
       " '__eq__',\n",
       " '__ne__',\n",
       " '__doc__',\n",
       " '__hash__',\n",
       " '__init__',\n",
       " '__getstate__',\n",
       " '__repr__',\n",
       " '__dict__',\n",
       " '__weakref__',\n",
       " '__str__',\n",
       " '__getattribute__',\n",
       " '__setattr__',\n",
       " '__delattr__',\n",
       " '__lt__',\n",
       " '__le__',\n",
       " '__gt__',\n",
       " '__ge__',\n",
       " '__new__',\n",
       " '__reduce_ex__',\n",
       " '__reduce__',\n",
       " '__subclasshook__',\n",
       " '__init_subclass__',\n",
       " '__format__',\n",
       " '__sizeof__',\n",
       " '__dir__',\n",
       " '__class__']"
      ]
     },
     "execution_count": 9,
     "metadata": {},
     "output_type": "execute_result"
    }
   ],
   "source": [
    "politicians[0].__dir__()"
   ]
  },
  {
   "cell_type": "code",
   "execution_count": 40,
   "metadata": {},
   "outputs": [],
   "source": [
    "k = 0\n",
    "dat = []\n",
    "for page in tweepy.Cursor(api.user_timeline,id=politicians[0].id_str, tweet_mode='extended', count=200).pages():\n",
    "    dat += page\n",
    "    k += 1\n",
    "    if k >= 3:\n",
    "        break\n"
   ]
  },
  {
   "cell_type": "code",
   "execution_count": 42,
   "metadata": {},
   "outputs": [
    {
     "data": {
      "text/plain": [
       "datetime.datetime(2019, 6, 5, 0, 25, 3)"
      ]
     },
     "execution_count": 42,
     "metadata": {},
     "output_type": "execute_result"
    }
   ],
   "source": [
    "dat[-1].created_at"
   ]
  },
  {
   "cell_type": "code",
   "execution_count": 12,
   "metadata": {},
   "outputs": [],
   "source": [
    "temp = 0\n",
    "for x in politicians:\n",
    "    temp += x.followers_count"
   ]
  },
  {
   "cell_type": "code",
   "execution_count": 16,
   "metadata": {},
   "outputs": [],
   "source": [
    "inFileName = \"data/pol_json_data\""
   ]
  },
  {
   "cell_type": "code",
   "execution_count": 18,
   "metadata": {},
   "outputs": [],
   "source": [
    "pols_data = []\n",
    "with open(inFileName, \"r\") as f:\n",
    "    for line in f:\n",
    "        pols_data.append(json.loads(line))"
   ]
  },
  {
   "cell_type": "code",
   "execution_count": 26,
   "metadata": {},
   "outputs": [
    {
     "data": {
      "text/plain": [
       "[4643,\n",
       " 2562,\n",
       " 3065,\n",
       " 3012,\n",
       " 11911,\n",
       " 4688,\n",
       " 6051,\n",
       " 9570,\n",
       " 24956,\n",
       " 6994,\n",
       " 13163,\n",
       " 22567,\n",
       " 7513,\n",
       " 525501]"
      ]
     },
     "execution_count": 26,
     "metadata": {},
     "output_type": "execute_result"
    }
   ],
   "source": [
    "[x[\"followers_count\"] for x in pols_data]"
   ]
  },
  {
   "cell_type": "code",
   "execution_count": 24,
   "metadata": {},
   "outputs": [
    {
     "data": {
      "text/plain": [
       "105.0"
      ]
     },
     "execution_count": 24,
     "metadata": {},
     "output_type": "execute_result"
    }
   ],
   "source": [
    "525000/5000"
   ]
  },
  {
   "cell_type": "code",
   "execution_count": 10,
   "metadata": {},
   "outputs": [],
   "source": [
    "def politician_scrape(pol_id):\n",
    "    from math import ceil\n",
    "    from time import sleep\n",
    "    try:\n",
    "        pol = api.get_user(id=pol_id)\n",
    "    except:\n",
    "        return None\n",
    "    num_mins = ceil(max(pol.followers_count, pol.friends_count)/5000)\n",
    "    k = 0\n",
    "    statuses = []\n",
    "    followers = []\n",
    "    friends=[]\n",
    "    fol_cur = tweepy.Cursor(api.followers_ids,id=pol.id_str, count=5000).pages()\n",
    "    fr_cur = tweepy.Cursor(api.friends_ids,id=pol.id_str, count = 5000).pages()\n",
    "    stat_cur = tweepy.Cursor(api.user_timeline,id=pol.id_str, tweet_mode=\"extended\", count=200).pages()\n",
    "    while k < num_mins:\n",
    "        t_stat = [p._json for p in next(stat_cur)]\n",
    "        for t in t_stat:\n",
    "            t.pop('user')\n",
    "        statuses += t_stat\n",
    "        friends += next(fr_cur)\n",
    "        followers += next(fol_cur)\n",
    "        try:\n",
    "            k += 1\n",
    "            if k < num_mins:\n",
    "                time.sleep(1)\n",
    "        except:\n",
    "            pass\n",
    "    \n",
    "    out = {\n",
    "        'id':pol.id,\n",
    "        'id_str':pol.id_str,\n",
    "        'name':pol.name,\n",
    "        'screen_name':pol.screen_name,\n",
    "        'location':pol.location,\n",
    "        'description':pol.description,\n",
    "        'friends_count':pol.friends_count,\n",
    "        'followers_count':pol.followers_count,\n",
    "        'created_at':pol.created_at,\n",
    "        'friends_ids':friends,\n",
    "        'followers_ids':followers,\n",
    "        'statuses':statuses\n",
    "    }\n",
    "    return out"
   ]
  },
  {
   "cell_type": "code",
   "execution_count": 43,
   "metadata": {},
   "outputs": [],
   "source": [
    "tweets = []\n",
    "for page in tweepy.Cursor(api.user_timeline,id=politicians[0].id_str, count=20, tweet_mode='extended').pages():\n",
    "    tweets += page\n",
    "    break"
   ]
  },
  {
   "cell_type": "code",
   "execution_count": 46,
   "metadata": {},
   "outputs": [
    {
     "data": {
      "text/plain": [
       "False"
      ]
     },
     "execution_count": 46,
     "metadata": {},
     "output_type": "execute_result"
    }
   ],
   "source": [
    "tweets[0]._json['truncated']"
   ]
  },
  {
   "cell_type": "code",
   "execution_count": 35,
   "metadata": {},
   "outputs": [
    {
     "data": {
      "text/plain": [
       "False"
      ]
     },
     "execution_count": 35,
     "metadata": {},
     "output_type": "execute_result"
    }
   ],
   "source": [
    "tweets[84]._json['truncated']"
   ]
  },
  {
   "cell_type": "code",
   "execution_count": null,
   "metadata": {},
   "outputs": [],
   "source": [
    "for politician in politicians:\n",
    "    if politician.id in democrats_list:\n",
    "        politician['party'] = 'D'\n",
    "    elif politician.id in republicans_list:\n",
    "        politician['party'] = 'R'\n",
    "    else:\n",
    "        politician['party'] = 'I'\n"
   ]
  },
  {
   "cell_type": "code",
   "execution_count": 53,
   "metadata": {},
   "outputs": [],
   "source": [
    "oldPoliticians = [graph.getUser(x.id) for x in politicians if graph.getUser(x.id)]"
   ]
  },
  {
   "cell_type": "code",
   "execution_count": 58,
   "metadata": {},
   "outputs": [
    {
     "data": {
      "text/plain": [
       "121"
      ]
     },
     "execution_count": 58,
     "metadata": {},
     "output_type": "execute_result"
    }
   ],
   "source": [
    "len(oldPoliticians)"
   ]
  },
  {
   "cell_type": "code",
   "execution_count": 47,
   "metadata": {},
   "outputs": [
    {
     "data": {
      "text/plain": [
       "4"
      ]
     },
     "execution_count": 47,
     "metadata": {},
     "output_type": "execute_result"
    }
   ],
   "source": [
    "max(4,1)"
   ]
  },
  {
   "cell_type": "code",
   "execution_count": 26,
   "metadata": {},
   "outputs": [
    {
     "data": {
      "text/plain": [
       "{'hashtags': [],\n",
       " 'symbols': [],\n",
       " 'user_mentions': [{'screen_name': 'HouseDemocrats',\n",
       "   'name': 'House Democrats',\n",
       "   'id': 43963249,\n",
       "   'id_str': '43963249',\n",
       "   'indices': [94, 109]}],\n",
       " 'urls': [{'url': 'https://t.co/iS7mYJAhmz',\n",
       "   'expanded_url': 'https://twitter.com/i/web/status/1194740892155994119',\n",
       "   'display_url': 'twitter.com/i/web/status/1…',\n",
       "   'indices': [116, 139]}]}"
      ]
     },
     "execution_count": 26,
     "metadata": {},
     "output_type": "execute_result"
    }
   ],
   "source": [
    "status._json['entities']"
   ]
  },
  {
   "cell_type": "code",
   "execution_count": 22,
   "metadata": {},
   "outputs": [
    {
     "data": {
      "text/plain": [
       "['_api',\n",
       " '_json',\n",
       " 'created_at',\n",
       " 'id',\n",
       " 'id_str',\n",
       " 'text',\n",
       " 'truncated',\n",
       " 'entities',\n",
       " 'source',\n",
       " 'source_url',\n",
       " 'in_reply_to_status_id',\n",
       " 'in_reply_to_status_id_str',\n",
       " 'in_reply_to_user_id',\n",
       " 'in_reply_to_user_id_str',\n",
       " 'in_reply_to_screen_name',\n",
       " 'geo',\n",
       " 'coordinates',\n",
       " 'place',\n",
       " 'contributors',\n",
       " 'is_quote_status',\n",
       " 'retweet_count',\n",
       " 'favorite_count',\n",
       " 'favorited',\n",
       " 'retweeted',\n",
       " 'possibly_sensitive',\n",
       " 'lang']"
      ]
     },
     "execution_count": 22,
     "metadata": {},
     "output_type": "execute_result"
    }
   ],
   "source": [
    "list(status.__dict__.keys())"
   ]
  },
  {
   "cell_type": "code",
   "execution_count": 13,
   "metadata": {},
   "outputs": [],
   "source": [
    "tweet = out['statuses'][0]"
   ]
  },
  {
   "cell_type": "code",
   "execution_count": 26,
   "metadata": {},
   "outputs": [],
   "source": [
    "my_data = {\n",
    "    'id_str':tweet['id_str'],\n",
    "    'geo':tweet['geo'],\n",
    "    'text':tweet['full_text']}"
   ]
  },
  {
   "cell_type": "code",
   "execution_count": 27,
   "metadata": {},
   "outputs": [
    {
     "data": {
      "text/plain": [
       "{'id_str': '1194362516165541888',\n",
       " 'geo': None,\n",
       " 'text': 'Congratulations to \\u2066@FarmBureau\\u2069 on celebrating your Centennial today! Your commitment to advocacy for our nation’s agriculture industry has been appreciated by the farmers in #PA12! https://t.co/jIg3qaVdfe'}"
      ]
     },
     "execution_count": 27,
     "metadata": {},
     "output_type": "execute_result"
    }
   ],
   "source": [
    "my_data"
   ]
  },
  {
   "cell_type": "code",
   "execution_count": 44,
   "metadata": {},
   "outputs": [],
   "source": [
    "congr115 = pd.read_csv(\"C:/Users/ericj/Downloads/115th-Congress-House-seeds.csv\", header = None, names=[\"name\", \"id\"], dtype=str)"
   ]
  },
  {
   "cell_type": "code",
   "execution_count": 45,
   "metadata": {},
   "outputs": [],
   "source": [
    "sen115 = pd.read_csv(\"C:/Users/ericj/Downloads/115th-Congress-Senate-seeds.csv\", header = None, names=[\"name\", \"id\"], dtype=str)"
   ]
  },
  {
   "cell_type": "code",
   "execution_count": 47,
   "metadata": {},
   "outputs": [],
   "source": [
    "for p in list(pd.concat([congr115, sen115], axis=0).reset_index()[\"id\"]):\n",
    "    if p not in pol_ids:\n",
    "        pol_ids.append(p)"
   ]
  },
  {
   "cell_type": "code",
   "execution_count": 48,
   "metadata": {},
   "outputs": [
    {
     "data": {
      "text/plain": [
       "772"
      ]
     },
     "execution_count": 48,
     "metadata": {},
     "output_type": "execute_result"
    }
   ],
   "source": [
    "len(pol_ids)"
   ]
  },
  {
   "cell_type": "code",
   "execution_count": 50,
   "metadata": {},
   "outputs": [],
   "source": [
    "pols_sr = pd.Series(pol_ids)"
   ]
  },
  {
   "cell_type": "code",
   "execution_count": 54,
   "metadata": {},
   "outputs": [],
   "source": [
    "f = open(\"data/politicians_list\", \"w\")\n",
    "for p in pol_ids:\n",
    "    f.write(p + '\\n')\n",
    "f.close()"
   ]
  },
  {
   "cell_type": "code",
   "execution_count": null,
   "metadata": {},
   "outputs": [],
   "source": []
  }
 ],
 "metadata": {
  "kernelspec": {
   "display_name": "Python 3",
   "language": "python",
   "name": "python3"
  },
  "language_info": {
   "codemirror_mode": {
    "name": "ipython",
    "version": 3
   },
   "file_extension": ".py",
   "mimetype": "text/x-python",
   "name": "python",
   "nbconvert_exporter": "python",
   "pygments_lexer": "ipython3",
   "version": "3.7.4"
  }
 },
 "nbformat": 4,
 "nbformat_minor": 4
}
