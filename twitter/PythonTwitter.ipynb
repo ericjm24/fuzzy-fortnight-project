{
 "cells": [
  {
   "cell_type": "code",
   "execution_count": 1,
   "metadata": {},
   "outputs": [],
   "source": [
    "import twitterGraph as tg\n",
    "import numpy as np\n",
    "import random as rand\n",
    "import tweepy\n",
    "from config import tw_key, tw_secret\n",
    "#graph = tg.twitterGraph()\n",
    "auth = tweepy.AppAuthHandler(tw_key, tw_secret)\n",
    "api = tweepy.API(auth)"
   ]
  },
  {
   "cell_type": "code",
   "execution_count": 2,
   "metadata": {},
   "outputs": [],
   "source": [
    "lists = api.lists_all(\"CSPAN\")"
   ]
  },
  {
   "cell_type": "code",
   "execution_count": 17,
   "metadata": {},
   "outputs": [],
   "source": [
    "import json"
   ]
  },
  {
   "cell_type": "code",
   "execution_count": null,
   "metadata": {},
   "outputs": [],
   "source": [
    "[x.name for x in lists]"
   ]
  },
  {
   "cell_type": "code",
   "execution_count": 5,
   "metadata": {},
   "outputs": [],
   "source": [
    "congress = lists[16]\n",
    "governors = lists[18]"
   ]
  },
  {
   "cell_type": "code",
   "execution_count": 6,
   "metadata": {},
   "outputs": [],
   "source": [
    "politicians = []"
   ]
  },
  {
   "cell_type": "code",
   "execution_count": 7,
   "metadata": {},
   "outputs": [],
   "source": [
    "for item in tweepy.Cursor(api.list_members, list_id=congress.id).items():\n",
    "    politicians.append(item)"
   ]
  },
  {
   "cell_type": "code",
   "execution_count": 8,
   "metadata": {},
   "outputs": [],
   "source": [
    "for item in tweepy.Cursor(api.list_members, list_id=governors.id).items():\n",
    "    politicians.append(item)"
   ]
  },
  {
   "cell_type": "code",
   "execution_count": 9,
   "metadata": {},
   "outputs": [
    {
     "data": {
      "text/plain": [
       "['_api',\n",
       " '_json',\n",
       " 'id',\n",
       " 'id_str',\n",
       " 'name',\n",
       " 'screen_name',\n",
       " 'location',\n",
       " 'description',\n",
       " 'url',\n",
       " 'entities',\n",
       " 'protected',\n",
       " 'followers_count',\n",
       " 'friends_count',\n",
       " 'listed_count',\n",
       " 'created_at',\n",
       " 'favourites_count',\n",
       " 'utc_offset',\n",
       " 'time_zone',\n",
       " 'geo_enabled',\n",
       " 'verified',\n",
       " 'statuses_count',\n",
       " 'lang',\n",
       " 'status',\n",
       " 'contributors_enabled',\n",
       " 'is_translator',\n",
       " 'is_translation_enabled',\n",
       " 'profile_background_color',\n",
       " 'profile_background_image_url',\n",
       " 'profile_background_image_url_https',\n",
       " 'profile_background_tile',\n",
       " 'profile_image_url',\n",
       " 'profile_image_url_https',\n",
       " 'profile_banner_url',\n",
       " 'profile_link_color',\n",
       " 'profile_sidebar_border_color',\n",
       " 'profile_sidebar_fill_color',\n",
       " 'profile_text_color',\n",
       " 'profile_use_background_image',\n",
       " 'has_extended_profile',\n",
       " 'default_profile',\n",
       " 'default_profile_image',\n",
       " 'can_media_tag',\n",
       " 'followed_by',\n",
       " 'following',\n",
       " 'follow_request_sent',\n",
       " 'notifications',\n",
       " 'translator_type',\n",
       " '__module__',\n",
       " 'parse',\n",
       " 'parse_list',\n",
       " 'timeline',\n",
       " 'friends',\n",
       " 'followers',\n",
       " 'follow',\n",
       " 'unfollow',\n",
       " 'lists_memberships',\n",
       " 'lists_subscriptions',\n",
       " 'lists',\n",
       " 'followers_ids',\n",
       " '__eq__',\n",
       " '__ne__',\n",
       " '__doc__',\n",
       " '__hash__',\n",
       " '__init__',\n",
       " '__getstate__',\n",
       " '__repr__',\n",
       " '__dict__',\n",
       " '__weakref__',\n",
       " '__str__',\n",
       " '__getattribute__',\n",
       " '__setattr__',\n",
       " '__delattr__',\n",
       " '__lt__',\n",
       " '__le__',\n",
       " '__gt__',\n",
       " '__ge__',\n",
       " '__new__',\n",
       " '__reduce_ex__',\n",
       " '__reduce__',\n",
       " '__subclasshook__',\n",
       " '__init_subclass__',\n",
       " '__format__',\n",
       " '__sizeof__',\n",
       " '__dir__',\n",
       " '__class__']"
      ]
     },
     "execution_count": 9,
     "metadata": {},
     "output_type": "execute_result"
    }
   ],
   "source": [
    "politicians[0].__dir__()"
   ]
  },
  {
   "cell_type": "code",
   "execution_count": 40,
   "metadata": {},
   "outputs": [],
   "source": [
    "k = 0\n",
    "dat = []\n",
    "for page in tweepy.Cursor(api.user_timeline,id=politicians[0].id_str, tweet_mode='extended', count=200).pages():\n",
    "    dat += page\n",
    "    k += 1\n",
    "    if k >= 3:\n",
    "        break\n"
   ]
  },
  {
   "cell_type": "code",
   "execution_count": 42,
   "metadata": {},
   "outputs": [
    {
     "data": {
      "text/plain": [
       "datetime.datetime(2019, 6, 5, 0, 25, 3)"
      ]
     },
     "execution_count": 42,
     "metadata": {},
     "output_type": "execute_result"
    }
   ],
   "source": [
    "dat[-1].created_at"
   ]
  },
  {
   "cell_type": "code",
   "execution_count": 12,
   "metadata": {},
   "outputs": [],
   "source": [
    "temp = 0\n",
    "for x in politicians:\n",
    "    temp += x.followers_count"
   ]
  },
  {
   "cell_type": "code",
   "execution_count": 16,
   "metadata": {},
   "outputs": [],
   "source": [
    "inFileName = \"data/pol_json_data\""
   ]
  },
  {
   "cell_type": "code",
   "execution_count": 18,
   "metadata": {},
   "outputs": [],
   "source": [
    "pols_data = []\n",
    "with open(inFileName, \"r\") as f:\n",
    "    for line in f:\n",
    "        pols_data.append(json.loads(line))"
   ]
  },
  {
   "cell_type": "code",
   "execution_count": 26,
   "metadata": {},
   "outputs": [
    {
     "data": {
      "text/plain": [
       "[4643,\n",
       " 2562,\n",
       " 3065,\n",
       " 3012,\n",
       " 11911,\n",
       " 4688,\n",
       " 6051,\n",
       " 9570,\n",
       " 24956,\n",
       " 6994,\n",
       " 13163,\n",
       " 22567,\n",
       " 7513,\n",
       " 525501]"
      ]
     },
     "execution_count": 26,
     "metadata": {},
     "output_type": "execute_result"
    }
   ],
   "source": [
    "[x[\"followers_count\"] for x in pols_data]"
   ]
  },
  {
   "cell_type": "code",
   "execution_count": 24,
   "metadata": {},
   "outputs": [
    {
     "data": {
      "text/plain": [
       "105.0"
      ]
     },
     "execution_count": 24,
     "metadata": {},
     "output_type": "execute_result"
    }
   ],
   "source": [
    "525000/5000"
   ]
  },
  {
   "cell_type": "code",
   "execution_count": 10,
   "metadata": {},
   "outputs": [],
   "source": [
    "def politician_scrape(pol_id):\n",
    "    from math import ceil\n",
    "    from time import sleep\n",
    "    try:\n",
    "        pol = api.get_user(id=pol_id)\n",
    "    except:\n",
    "        return None\n",
    "    num_mins = ceil(max(pol.followers_count, pol.friends_count)/5000)\n",
    "    k = 0\n",
    "    statuses = []\n",
    "    followers = []\n",
    "    friends=[]\n",
    "    fol_cur = tweepy.Cursor(api.followers_ids,id=pol.id_str, count=5000).pages()\n",
    "    fr_cur = tweepy.Cursor(api.friends_ids,id=pol.id_str, count = 5000).pages()\n",
    "    stat_cur = tweepy.Cursor(api.user_timeline,id=pol.id_str, tweet_mode=\"extended\", count=200).pages()\n",
    "    while k < num_mins:\n",
    "        t_stat = [p._json for p in next(stat_cur)]\n",
    "        for t in t_stat:\n",
    "            t.pop('user')\n",
    "        statuses += t_stat\n",
    "        friends += next(fr_cur)\n",
    "        followers += next(fol_cur)\n",
    "        try:\n",
    "            k += 1\n",
    "            if k < num_mins:\n",
    "                time.sleep(1)\n",
    "        except:\n",
    "            pass\n",
    "    \n",
    "    out = {\n",
    "        'id':pol.id,\n",
    "        'id_str':pol.id_str,\n",
    "        'name':pol.name,\n",
    "        'screen_name':pol.screen_name,\n",
    "        'location':pol.location,\n",
    "        'description':pol.description,\n",
    "        'friends_count':pol.friends_count,\n",
    "        'followers_count':pol.followers_count,\n",
    "        'created_at':pol.created_at,\n",
    "        'friends_ids':friends,\n",
    "        'followers_ids':followers,\n",
    "        'statuses':statuses\n",
    "    }\n",
    "    return out"
   ]
  },
  {
   "cell_type": "code",
   "execution_count": 43,
   "metadata": {},
   "outputs": [],
   "source": [
    "tweets = []\n",
    "for page in tweepy.Cursor(api.user_timeline,id=politicians[0].id_str, count=20, tweet_mode='extended').pages():\n",
    "    tweets += page\n",
    "    break"
   ]
  },
  {
   "cell_type": "code",
   "execution_count": 46,
   "metadata": {},
   "outputs": [
    {
     "data": {
      "text/plain": [
       "False"
      ]
     },
     "execution_count": 46,
     "metadata": {},
     "output_type": "execute_result"
    }
   ],
   "source": [
    "tweets[0]._json['truncated']"
   ]
  },
  {
   "cell_type": "code",
   "execution_count": 35,
   "metadata": {},
   "outputs": [
    {
     "data": {
      "text/plain": [
       "False"
      ]
     },
     "execution_count": 35,
     "metadata": {},
     "output_type": "execute_result"
    }
   ],
   "source": [
    "tweets[84]._json['truncated']"
   ]
  },
  {
   "cell_type": "code",
   "execution_count": null,
   "metadata": {},
   "outputs": [],
   "source": [
    "for politician in politicians:\n",
    "    if politician.id in democrats_list:\n",
    "        politician['party'] = 'D'\n",
    "    elif politician.id in republicans_list:\n",
    "        politician['party'] = 'R'\n",
    "    else:\n",
    "        politician['party'] = 'I'\n"
   ]
  },
  {
   "cell_type": "code",
   "execution_count": 53,
   "metadata": {},
   "outputs": [],
   "source": [
    "oldPoliticians = [graph.getUser(x.id) for x in politicians if graph.getUser(x.id)]"
   ]
  },
  {
   "cell_type": "code",
   "execution_count": 58,
   "metadata": {},
   "outputs": [
    {
     "data": {
      "text/plain": [
       "121"
      ]
     },
     "execution_count": 58,
     "metadata": {},
     "output_type": "execute_result"
    }
   ],
   "source": [
    "len(oldPoliticians)"
   ]
  },
  {
   "cell_type": "code",
   "execution_count": 47,
   "metadata": {},
   "outputs": [
    {
     "data": {
      "text/plain": [
       "4"
      ]
     },
     "execution_count": 47,
     "metadata": {},
     "output_type": "execute_result"
    }
   ],
   "source": [
    "max(4,1)"
   ]
  },
  {
   "cell_type": "code",
   "execution_count": 26,
   "metadata": {},
   "outputs": [
    {
     "data": {
      "text/plain": [
       "{'hashtags': [],\n",
       " 'symbols': [],\n",
       " 'user_mentions': [{'screen_name': 'HouseDemocrats',\n",
       "   'name': 'House Democrats',\n",
       "   'id': 43963249,\n",
       "   'id_str': '43963249',\n",
       "   'indices': [94, 109]}],\n",
       " 'urls': [{'url': 'https://t.co/iS7mYJAhmz',\n",
       "   'expanded_url': 'https://twitter.com/i/web/status/1194740892155994119',\n",
       "   'display_url': 'twitter.com/i/web/status/1…',\n",
       "   'indices': [116, 139]}]}"
      ]
     },
     "execution_count": 26,
     "metadata": {},
     "output_type": "execute_result"
    }
   ],
   "source": [
    "status._json['entities']"
   ]
  },
  {
   "cell_type": "code",
   "execution_count": 22,
   "metadata": {},
   "outputs": [
    {
     "data": {
      "text/plain": [
       "['_api',\n",
       " '_json',\n",
       " 'created_at',\n",
       " 'id',\n",
       " 'id_str',\n",
       " 'text',\n",
       " 'truncated',\n",
       " 'entities',\n",
       " 'source',\n",
       " 'source_url',\n",
       " 'in_reply_to_status_id',\n",
       " 'in_reply_to_status_id_str',\n",
       " 'in_reply_to_user_id',\n",
       " 'in_reply_to_user_id_str',\n",
       " 'in_reply_to_screen_name',\n",
       " 'geo',\n",
       " 'coordinates',\n",
       " 'place',\n",
       " 'contributors',\n",
       " 'is_quote_status',\n",
       " 'retweet_count',\n",
       " 'favorite_count',\n",
       " 'favorited',\n",
       " 'retweeted',\n",
       " 'possibly_sensitive',\n",
       " 'lang']"
      ]
     },
     "execution_count": 22,
     "metadata": {},
     "output_type": "execute_result"
    }
   ],
   "source": [
    "list(status.__dict__.keys())"
   ]
  },
  {
   "cell_type": "code",
   "execution_count": 13,
   "metadata": {},
   "outputs": [],
   "source": [
    "tweet = out['statuses'][0]"
   ]
  },
  {
   "cell_type": "code",
   "execution_count": 26,
   "metadata": {},
   "outputs": [],
   "source": [
    "my_data = {\n",
    "    'id_str':tweet['id_str'],\n",
    "    'geo':tweet['geo'],\n",
    "    'text':tweet['full_text']}"
   ]
  },
  {
   "cell_type": "code",
   "execution_count": 27,
   "metadata": {},
   "outputs": [
    {
     "data": {
      "text/plain": [
       "{'id_str': '1194362516165541888',\n",
       " 'geo': None,\n",
       " 'text': 'Congratulations to \\u2066@FarmBureau\\u2069 on celebrating your Centennial today! Your commitment to advocacy for our nation’s agriculture industry has been appreciated by the farmers in #PA12! https://t.co/jIg3qaVdfe'}"
      ]
     },
     "execution_count": 27,
     "metadata": {},
     "output_type": "execute_result"
    }
   ],
   "source": [
    "my_data"
   ]
  },
  {
   "cell_type": "code",
   "execution_count": 44,
   "metadata": {},
   "outputs": [],
   "source": [
    "congr115 = pd.read_csv(\"C:/Users/ericj/Downloads/115th-Congress-House-seeds.csv\", header = None, names=[\"name\", \"id\"], dtype=str)"
   ]
  },
  {
   "cell_type": "code",
   "execution_count": 45,
   "metadata": {},
   "outputs": [],
   "source": [
    "sen115 = pd.read_csv(\"C:/Users/ericj/Downloads/115th-Congress-Senate-seeds.csv\", header = None, names=[\"name\", \"id\"], dtype=str)"
   ]
  },
  {
   "cell_type": "code",
   "execution_count": 47,
   "metadata": {},
   "outputs": [],
   "source": [
    "for p in list(pd.concat([congr115, sen115], axis=0).reset_index()[\"id\"]):\n",
    "    if p not in pol_ids:\n",
    "        pol_ids.append(p)"
   ]
  },
  {
   "cell_type": "code",
   "execution_count": 48,
   "metadata": {},
   "outputs": [
    {
     "data": {
      "text/plain": [
       "772"
      ]
     },
     "execution_count": 48,
     "metadata": {},
     "output_type": "execute_result"
    }
   ],
   "source": [
    "len(pol_ids)"
   ]
  },
  {
   "cell_type": "code",
   "execution_count": 50,
   "metadata": {},
   "outputs": [],
   "source": [
    "pols_sr = pd.Series(pol_ids)"
   ]
  },
  {
   "cell_type": "code",
   "execution_count": 54,
   "metadata": {},
   "outputs": [],
   "source": [
    "f = open(\"data/politicians_list\", \"w\")\n",
    "for p in pol_ids:\n",
    "    f.write(p + '\\n')\n",
    "f.close()"
   ]
  },
  {
   "cell_type": "code",
   "execution_count": null,
   "metadata": {},
   "outputs": [],
   "source": []
  }
 ],
 "metadata": {
  "kernelspec": {
   "display_name": "Python 3",
   "language": "python",
   "name": "python3"
  },
  "language_info": {
   "codemirror_mode": {
    "name": "ipython",
    "version": 3
   },
   "file_extension": ".py",
   "mimetype": "text/x-python",
   "name": "python",
   "nbconvert_exporter": "python",
   "pygments_lexer": "ipython3",
   "version": "3.7.4"
  }
 },
 "nbformat": 4,
 "nbformat_minor": 4
}
