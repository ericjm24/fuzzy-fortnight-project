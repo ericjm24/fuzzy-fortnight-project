{
 "cells": [
  {
   "cell_type": "code",
   "execution_count": null,
   "metadata": {},
   "outputs": [],
   "source": [
    "import twitterGraph as tg\n",
    "import numpy as np\n",
    "import random as rand\n",
    "import tweepy\n",
    "from config import tw_key, tw_secret\n",
    "graph = tg.twitterGraph()\n",
    "auth = auth = tweepy.AppAuthHandler(tw_key, tw_secret)\n",
    "api = tweepy.API(auth)"
   ]
  },
  {
   "cell_type": "code",
   "execution_count": 5,
   "metadata": {},
   "outputs": [],
   "source": [
    "lists = api.lists_all(\"CSPAN\")"
   ]
  },
  {
   "cell_type": "code",
   "execution_count": null,
   "metadata": {},
   "outputs": [],
   "source": [
    "import json\n",
    "with "
   ]
  },
  {
   "cell_type": "code",
   "execution_count": 38,
   "metadata": {},
   "outputs": [
    {
     "data": {
      "text/plain": [
       "['Impeachment',\n",
       " 'Select Cmte Leaders',\n",
       " 'House Leadership',\n",
       " 'Senate Leadership',\n",
       " 'POTUS',\n",
       " 'House Intelligence Cmte',\n",
       " 'House Judiciary Cmte',\n",
       " 'More from C-SPAN staff',\n",
       " 'Senate Judiciary Cmte',\n",
       " 'The Cabinet',\n",
       " 'New Members of Congress',\n",
       " 'Political Reporters',\n",
       " 'Presidential Candidates',\n",
       " 'Foreign Leaders',\n",
       " 'Supreme Court Reporters',\n",
       " 'Congressional Committees',\n",
       " 'Members of Congress',\n",
       " 'Congressional Media',\n",
       " 'Governors',\n",
       " 'U.S. Representatives',\n",
       " 'Senators',\n",
       " 'C-SPAN Twitter feeds']"
      ]
     },
     "execution_count": 38,
     "metadata": {},
     "output_type": "execute_result"
    }
   ],
   "source": [
    "[x.name for x in lists]"
   ]
  },
  {
   "cell_type": "code",
   "execution_count": 26,
   "metadata": {},
   "outputs": [
    {
     "data": {
      "text/plain": [
       "['_api',\n",
       " '_json',\n",
       " 'id',\n",
       " 'id_str',\n",
       " 'name',\n",
       " 'uri',\n",
       " 'subscriber_count',\n",
       " 'member_count',\n",
       " 'mode',\n",
       " 'description',\n",
       " 'slug',\n",
       " 'full_name',\n",
       " 'created_at',\n",
       " 'following',\n",
       " 'user',\n",
       " '__module__',\n",
       " 'parse',\n",
       " 'parse_list',\n",
       " 'update',\n",
       " 'destroy',\n",
       " 'timeline',\n",
       " 'add_member',\n",
       " 'remove_member',\n",
       " 'members',\n",
       " 'is_member',\n",
       " 'subscribe',\n",
       " 'unsubscribe',\n",
       " 'subscribers',\n",
       " 'is_subscribed',\n",
       " '__doc__',\n",
       " '__init__',\n",
       " '__getstate__',\n",
       " '__repr__',\n",
       " '__dict__',\n",
       " '__weakref__',\n",
       " '__hash__',\n",
       " '__str__',\n",
       " '__getattribute__',\n",
       " '__setattr__',\n",
       " '__delattr__',\n",
       " '__lt__',\n",
       " '__le__',\n",
       " '__eq__',\n",
       " '__ne__',\n",
       " '__gt__',\n",
       " '__ge__',\n",
       " '__new__',\n",
       " '__reduce_ex__',\n",
       " '__reduce__',\n",
       " '__subclasshook__',\n",
       " '__init_subclass__',\n",
       " '__format__',\n",
       " '__sizeof__',\n",
       " '__dir__',\n",
       " '__class__']"
      ]
     },
     "execution_count": 26,
     "metadata": {},
     "output_type": "execute_result"
    }
   ],
   "source": [
    "lists[16].__dir__()"
   ]
  },
  {
   "cell_type": "code",
   "execution_count": 37,
   "metadata": {},
   "outputs": [],
   "source": [
    "for item in tweepy.Cursor(api.list_members, list_id=lists[18].id).items():\n",
    "    politicians.append(item)"
   ]
  },
  {
   "cell_type": "code",
   "execution_count": 39,
   "metadata": {},
   "outputs": [
    {
     "data": {
      "text/plain": [
       "611"
      ]
     },
     "execution_count": 39,
     "metadata": {},
     "output_type": "execute_result"
    }
   ],
   "source": [
    "len(politicians)"
   ]
  },
  {
   "cell_type": "code",
   "execution_count": 40,
   "metadata": {},
   "outputs": [
    {
     "data": {
      "text/plain": [
       "['_api',\n",
       " '_json',\n",
       " 'id',\n",
       " 'id_str',\n",
       " 'name',\n",
       " 'screen_name',\n",
       " 'location',\n",
       " 'description',\n",
       " 'url',\n",
       " 'entities',\n",
       " 'protected',\n",
       " 'followers_count',\n",
       " 'friends_count',\n",
       " 'listed_count',\n",
       " 'created_at',\n",
       " 'favourites_count',\n",
       " 'utc_offset',\n",
       " 'time_zone',\n",
       " 'geo_enabled',\n",
       " 'verified',\n",
       " 'statuses_count',\n",
       " 'lang',\n",
       " 'status',\n",
       " 'contributors_enabled',\n",
       " 'is_translator',\n",
       " 'is_translation_enabled',\n",
       " 'profile_background_color',\n",
       " 'profile_background_image_url',\n",
       " 'profile_background_image_url_https',\n",
       " 'profile_background_tile',\n",
       " 'profile_image_url',\n",
       " 'profile_image_url_https',\n",
       " 'profile_banner_url',\n",
       " 'profile_link_color',\n",
       " 'profile_sidebar_border_color',\n",
       " 'profile_sidebar_fill_color',\n",
       " 'profile_text_color',\n",
       " 'profile_use_background_image',\n",
       " 'has_extended_profile',\n",
       " 'default_profile',\n",
       " 'default_profile_image',\n",
       " 'following',\n",
       " 'follow_request_sent',\n",
       " 'notifications',\n",
       " 'translator_type',\n",
       " '__module__',\n",
       " 'parse',\n",
       " 'parse_list',\n",
       " 'timeline',\n",
       " 'friends',\n",
       " 'followers',\n",
       " 'follow',\n",
       " 'unfollow',\n",
       " 'lists_memberships',\n",
       " 'lists_subscriptions',\n",
       " 'lists',\n",
       " 'followers_ids',\n",
       " '__eq__',\n",
       " '__ne__',\n",
       " '__doc__',\n",
       " '__hash__',\n",
       " '__init__',\n",
       " '__getstate__',\n",
       " '__repr__',\n",
       " '__dict__',\n",
       " '__weakref__',\n",
       " '__str__',\n",
       " '__getattribute__',\n",
       " '__setattr__',\n",
       " '__delattr__',\n",
       " '__lt__',\n",
       " '__le__',\n",
       " '__gt__',\n",
       " '__ge__',\n",
       " '__new__',\n",
       " '__reduce_ex__',\n",
       " '__reduce__',\n",
       " '__subclasshook__',\n",
       " '__init_subclass__',\n",
       " '__format__',\n",
       " '__sizeof__',\n",
       " '__dir__',\n",
       " '__class__']"
      ]
     },
     "execution_count": 40,
     "metadata": {},
     "output_type": "execute_result"
    }
   ],
   "source": [
    "politicians[0].__dir__()"
   ]
  },
  {
   "cell_type": "code",
   "execution_count": 51,
   "metadata": {},
   "outputs": [],
   "source": [
    "dat = pd.DataFrame({\n",
    "    \"id\":[x.id for x in politicians],\n",
    "    'name':[x.name for x in politicians],\n",
    "    'screen_name':[x.screen_name for x in politicians],\n",
    "    'location':[x.location for x in politicians],\n",
    "    'desc':[x.description for x in politicians],\n",
    "    'created_at':[x.created_at for x in politicians],\n",
    "    'url':[x.url for x in politicians]\n",
    "})"
   ]
  },
  {
   "cell_type": "code",
   "execution_count": 57,
   "metadata": {},
   "outputs": [
    {
     "data": {
      "text/plain": [
       "(30174586, 18, 4093808892, 56, 2703416108)"
      ]
     },
     "execution_count": 57,
     "metadata": {},
     "output_type": "execute_result"
    }
   ],
   "source": [
    "graph.getUser(30174586)"
   ]
  },
  {
   "cell_type": "code",
   "execution_count": 53,
   "metadata": {},
   "outputs": [],
   "source": [
    "oldPoliticians = [graph.getUser(x.id) for x in politicians if graph.getUser(x.id)]"
   ]
  },
  {
   "cell_type": "code",
   "execution_count": 58,
   "metadata": {},
   "outputs": [
    {
     "data": {
      "text/plain": [
       "121"
      ]
     },
     "execution_count": 58,
     "metadata": {},
     "output_type": "execute_result"
    }
   ],
   "source": [
    "len(oldPoliticians)"
   ]
  },
  {
   "cell_type": "code",
   "execution_count": null,
   "metadata": {},
   "outputs": [],
   "source": []
  }
 ],
 "metadata": {
  "kernelspec": {
   "display_name": "Python 3",
   "language": "python",
   "name": "python3"
  },
  "language_info": {
   "codemirror_mode": {
    "name": "ipython",
    "version": 3
   },
   "file_extension": ".py",
   "mimetype": "text/x-python",
   "name": "python",
   "nbconvert_exporter": "python",
   "pygments_lexer": "ipython3",
   "version": "3.7.3"
  }
 },
 "nbformat": 4,
 "nbformat_minor": 4
}
