{
 "cells": [
  {
   "cell_type": "code",
   "execution_count": 4,
   "metadata": {},
   "outputs": [
    {
     "data": {
      "text/plain": [
       "'/Users/ginamagdaleno/Google Drive/GD_UC Davis/UCD PROJECT/fuzzy-fortnight-project/twitter'"
      ]
     },
     "execution_count": 4,
     "metadata": {},
     "output_type": "execute_result"
    }
   ],
   "source": [
    "pwd"
   ]
  },
  {
   "cell_type": "code",
   "execution_count": 12,
   "metadata": {},
   "outputs": [
    {
     "data": {
      "text/plain": [
       "dtype([('id', '<u4'), ('followers', '<u4'), ('followersPosition', '<u8'), ('friends', '<u4'), ('friendsPosition', '<u8')])"
      ]
     },
     "execution_count": 12,
     "metadata": {},
     "output_type": "execute_result"
    }
   ],
   "source": [
    "tg.twitterID   # refer to twitterGraph.py for Class \"twitterID\""
   ]
  },
  {
   "cell_type": "code",
   "execution_count": 92,
   "metadata": {},
   "outputs": [
    {
     "name": "stdout",
     "output_type": "stream",
     "text": [
      "ID  | Followers 2010 | Follow Position | Friends 2010 | Friends Position: \n",
      " (50271011, 10, 5756793920, 22, 4892912696)\n"
     ]
    },
    {
     "data": {
      "text/plain": [
       "[None,\n",
       " None,\n",
       " None,\n",
       " None,\n",
       " None,\n",
       " None,\n",
       " None,\n",
       " None,\n",
       " None,\n",
       " (36764880, 7, 4671668264, 1, 3272474316),\n",
       " None,\n",
       " None,\n",
       " None,\n",
       " None,\n",
       " None,\n",
       " None,\n",
       " None,\n",
       " None,\n",
       " None,\n",
       " None,\n",
       " None,\n",
       " None,\n",
       " None,\n",
       " None,\n",
       " (53893940, 20, 5934039316, 425, 5427708980),\n",
       " (49230909, 78, 5694585728, 1986, 4700461172),\n",
       " (46553206, 229, 5504144660, 1454, 4265752296),\n",
       " (49725519, 98, 5723723600, 244, 4810415088)]"
      ]
     },
     "execution_count": 92,
     "metadata": {},
     "output_type": "execute_result"
    }
   ],
   "source": [
    "# cd \"/Users/ginamagdaleno/Google Drive/GD_UC Davis/UCD PROJECT\" / git pull\n",
    "import twitterGraph as tg\n",
    "import numpy as np\n",
    "import random as rand\n",
    "import tweepy\n",
    "from  config import consumer_key, consumer_secret, access_token, access_token_secret\n",
    "\n",
    "auth = tweepy.OAuthHandler(consumer_key, consumer_secret)\n",
    "auth.set_access_token(access_token, access_token_secret)\n",
    "api = tweepy.API(auth, wait_on_rate_limit=True, wait_on_rate_limit_notify=True)\n",
    "\n",
    "#----------------------------------------------------------------------------------------------------#\n",
    "# graph=tg.twitterGraph()   # Comment Out After Initial Run***\n",
    "# graph.numUsers\n",
    "# graph.getRandomUser\n",
    "# graph.getFollowers(temp)\n",
    "# graph.getFriends(temp)\n",
    "# graph.userIDs[:5]\n",
    "# graph.__dir__()  \n",
    "    # 'numUsers','userData','_indexFileName','_friendsFileName','_followersFileName', 'userIDs',\n",
    "    # '__module__', '__init__','getUser','getFollowers', 'getFriends','getRandomUser', '__dict__',\n",
    "    # '__weakref__','__doc__', '__repr__', '__hash__', '__str__', '__getattribute__', '__setattr__',\n",
    "    # '__delattr__', '__lt__', '__le__', '__eq__', '__ne__', '__gt__', '__ge__','__new__','__reduce_ex__',\n",
    "    # '__reduce__', '__subclasshook__', '__init_subclass__','__format__', '__sizeof__','__dir__', '__class__'\n",
    "\n",
    "    \n",
    "#----------------------------------------------------------------------------------------------------#\n",
    "# user='49918484'\n",
    "\n",
    "temp=graph.getRandomUser()   #see tg.twitterID for column info / refer to twitterGraph.py for Class \"twitterID\"\n",
    "print( \"ID  | Followers 2010 | Follow Position | Friends 2010 | Friends Position:\", '\\n', temp )\n",
    "# print( \"ID  | Followers 2010 | Follow Position | Friends 2010 | Friends Position:\", '\\n', user )\n",
    "\n",
    "#----------------------------------------------------------------------------------------------------#\n",
    "templist=api.followers_ids(temp[\"id\"])            #FOLLOWERS_IDS\n",
    "# templist=api.followers_ids(user)                  #FOLLOWERS_IDS\n",
    "# templist=api.friends_ids(temp[\"id\"])              #FRIENDS_IDS\n",
    "# len( api.friends_ids(temp[\"id\"]) )\n",
    "# templist=len( api.user_timeline(temp[\"id\"]) )     #USER_TIMELINE\n",
    "\n",
    "templist\n",
    "\n",
    "# [x in templist for x in graph.getFollowers(temp)]\n",
    "\n",
    "\n",
    "[graph.getUser(x)  for x in templist]  # if true, we had their data in 2010 and current / is not None for x in templist / for x in templist\n",
    "# [graph.getUser(x) is not None for x in templist]  # if true, we had their data in 2010 and current / is not None for x in templist / for x in templist\n",
    "\n"
   ]
  },
  {
   "cell_type": "code",
   "execution_count": 101,
   "metadata": {},
   "outputs": [
    {
     "ename": "ValueError",
     "evalue": "invalid literal for int() with base 10: 'id'",
     "output_type": "error",
     "traceback": [
      "\u001b[0;31m---------------------------------------------------------------------------\u001b[0m",
      "\u001b[0;31mValueError\u001b[0m                                Traceback (most recent call last)",
      "\u001b[0;32m<ipython-input-101-5f54ea1531d2>\u001b[0m in \u001b[0;36m<module>\u001b[0;34m\u001b[0m\n\u001b[1;32m      1\u001b[0m \u001b[0;31m# graph.getUser(int(user))\u001b[0m\u001b[0;34m\u001b[0m\u001b[0;34m\u001b[0m\u001b[0;34m\u001b[0m\u001b[0m\n\u001b[0;32m----> 2\u001b[0;31m \u001b[0mgraph\u001b[0m\u001b[0;34m.\u001b[0m\u001b[0mgetUser\u001b[0m\u001b[0;34m(\u001b[0m\u001b[0mint\u001b[0m\u001b[0;34m(\u001b[0m\u001b[0;34m'id'\u001b[0m\u001b[0;34m)\u001b[0m\u001b[0;34m)\u001b[0m\u001b[0;34m\u001b[0m\u001b[0;34m\u001b[0m\u001b[0m\n\u001b[0m",
      "\u001b[0;31mValueError\u001b[0m: invalid literal for int() with base 10: 'id'"
     ]
    }
   ],
   "source": [
    "# graph.getUser(int(user))\n",
    "graph.getUser(int('id'))"
   ]
  },
  {
   "cell_type": "code",
   "execution_count": 94,
   "metadata": {},
   "outputs": [
    {
     "data": {
      "text/plain": [
       "[3198645428,\n",
       " 2839092455,\n",
       " 399573732,\n",
       " 2740777488,\n",
       " 139676429,\n",
       " 1229887820,\n",
       " 2531927937,\n",
       " 369862455,\n",
       " 2313340672,\n",
       " 36764880,\n",
       " 2158866675,\n",
       " 986614796,\n",
       " 1692189337,\n",
       " 1522944361,\n",
       " 80308649,\n",
       " 475009063,\n",
       " 965185296,\n",
       " 944794860,\n",
       " 511089484,\n",
       " 424936215,\n",
       " 413585925,\n",
       " 158649346,\n",
       " 378724678,\n",
       " 370172818,\n",
       " 53893940,\n",
       " 49230909,\n",
       " 46553206,\n",
       " 49725519]"
      ]
     },
     "execution_count": 94,
     "metadata": {},
     "output_type": "execute_result"
    }
   ],
   "source": [
    "templist"
   ]
  },
  {
   "cell_type": "code",
   "execution_count": null,
   "metadata": {},
   "outputs": [],
   "source": []
  }
 ],
 "metadata": {
  "kernelspec": {
   "display_name": "Python 3",
   "language": "python",
   "name": "python3"
  },
  "language_info": {
   "codemirror_mode": {
    "name": "ipython",
    "version": 3
   },
   "file_extension": ".py",
   "mimetype": "text/x-python",
   "name": "python",
   "nbconvert_exporter": "python",
   "pygments_lexer": "ipython3",
   "version": "3.7.3"
  }
 },
 "nbformat": 4,
 "nbformat_minor": 2
}
