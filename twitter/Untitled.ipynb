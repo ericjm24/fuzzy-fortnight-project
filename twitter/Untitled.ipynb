{
 "cells": [
  {
   "cell_type": "code",
   "execution_count": null,
   "metadata": {},
   "outputs": [
    {
     "name": "stdout",
     "output_type": "stream",
     "text": [
      "Found data on 271 politicians so far.\n",
      "\n",
      "Getting data on Elizabeth Warren. Followers: 5496641\n",
      "Getting data on Rep. Eric Swalwell. Followers: 628704\n",
      "Found 628704 followers\n",
      "\n",
      "Congressperson number 272: 942156122\n",
      "\n",
      "Getting data on Rep. Mike Kelly. Followers: 18541\n",
      "Found 18541 followers\n",
      "\n",
      "Congressperson number 273: 935368364\n",
      "\n",
      "Getting data on Richard Hudson. Followers: 19260\n",
      "Found 19260 followers\n",
      "\n",
      "Congressperson number 274: 935033864\n",
      "\n",
      "Getting data on Pat Tiberi. Followers: 15162\n",
      "Found 15162 followers\n",
      "\n",
      "Congressperson number 275: 912608010\n",
      "\n",
      "Getting data on Sensenbrenner Press. Followers: 10147\n",
      "Found 10147 followers\n",
      "\n",
      "Congressperson number 276: 851621377\n",
      "\n",
      "Getting data on James Comer. Followers: 12893\n",
      "Found 12893 followers\n",
      "\n",
      "Congressperson number 277: 838462994\n",
      "\n",
      "Getting data on David Rouzer. Followers: 11232\n",
      "Found 11232 followers\n",
      "\n",
      "Congressperson number 278: 834069080\n",
      "\n",
      "Getting data on Rep. Danny K. Davis. Followers: 13394\n",
      "Found 13394 followers\n",
      "\n",
      "Congressperson number 279: 789244177\n",
      "\n",
      "Getting data on Elijah E. Cummings. Followers: 537916\n"
     ]
    }
   ],
   "source": [
    "import tweepy\n",
    "from config import tw_key, tw_secret\n",
    "import pandas as pd\n",
    "import json\n",
    "auth = tweepy.AppAuthHandler(tw_key, tw_secret)\n",
    "api = tweepy.API(auth, wait_on_rate_limit=True)\n",
    "politician_ids = []\n",
    "with open(\"data/politicians_list\", \"r\") as f:\n",
    "    for line in f:\n",
    "        politician_ids.append(line.strip())\n",
    "\n",
    "has_data = []\n",
    "try:\n",
    "    with open(\"data/pol_json_data\",\"r\") as f:\n",
    "        for line in f:\n",
    "            pol_obj = json.loads(line)\n",
    "            has_data.append(pol_obj[\"id_str\"])\n",
    "except:\n",
    "    has_data = []\n",
    "json_data_file = \"data/pol_json_data\"\n",
    "print(\"Found data on \" + str(len(has_data)) + \" politicians so far.\\n\")\n",
    "\n",
    "def politician_scrape(pol_id):\n",
    "    from datetime import datetime\n",
    "    try:\n",
    "        pol = api.get_user(user_id=pol_id)\n",
    "        print(\"Getting data on \" + pol.name + \". Followers: \" + str(pol.followers_count))\n",
    "    except:\n",
    "        print(\"Getting data on id \" + pol_id + \" failed\")\n",
    "        return None\n",
    "    if pol.name == 'Elizabeth Warren':\n",
    "        return None\n",
    "    followers = []\n",
    "    friends=[]\n",
    "    for page_fol in tweepy.Cursor(api.followers_ids,id=pol.id_str, count=5000).pages():\n",
    "        followers += page_fol\n",
    "    for page_fr in tweepy.Cursor(api.friends_ids,id=pol.id_str, count = 5000).pages():\n",
    "        friends += page_fr\n",
    "    out = {\n",
    "        'id':pol.id,\n",
    "        'id_str':pol.id_str,\n",
    "        'name':pol.name,\n",
    "        'screen_name':pol.screen_name,\n",
    "        'location':pol.location,\n",
    "        'description':pol.description,\n",
    "        'friends_count':pol.friends_count,\n",
    "        'followers_count':pol.followers_count,\n",
    "        'created_at':pol.created_at.strftime(\"%Y/%m/%d\"),\n",
    "        'friends_ids':friends,\n",
    "        'followers_ids':followers,\n",
    "    }\n",
    "    print(\"Found \" + str(out[\"followers_count\"]) + \" followers\\n\")\n",
    "    return out\n",
    "\n",
    "for id in politician_ids:\n",
    "    if id in has_data:\n",
    "        continue\n",
    "    next_pol = politician_scrape(id)\n",
    "    if next_pol:\n",
    "        has_data.append(next_pol[\"id_str\"])\n",
    "        print(\"Congressperson number \" + str(len(has_data)) + \": \" + next_pol[\"id_str\"]+'\\n')\n",
    "        with open(json_data_file, \"a\") as f:\n",
    "            json.dump(next_pol, f)\n",
    "            f.write('\\n')\n"
   ]
  },
  {
   "cell_type": "code",
   "execution_count": 1,
   "metadata": {},
   "outputs": [],
   "source": [
    "import tweepy\n",
    "from config import tw_key, tw_secret\n",
    "import pandas as pd\n",
    "import json\n",
    "auth = tweepy.AppAuthHandler(tw_key, tw_secret)\n",
    "api = tweepy.API(auth)"
   ]
  },
  {
   "cell_type": "code",
   "execution_count": 6,
   "metadata": {},
   "outputs": [],
   "source": [
    "pol = api.get_user(id=1082311988926124036)"
   ]
  },
  {
   "cell_type": "code",
   "execution_count": 1,
   "metadata": {},
   "outputs": [
    {
     "ename": "NameError",
     "evalue": "name 'pol' is not defined",
     "output_type": "error",
     "traceback": [
      "\u001b[1;31m---------------------------------------------------------------------------\u001b[0m",
      "\u001b[1;31mNameError\u001b[0m                                 Traceback (most recent call last)",
      "\u001b[1;32m<ipython-input-1-423f966af056>\u001b[0m in \u001b[0;36m<module>\u001b[1;34m\u001b[0m\n\u001b[1;32m----> 1\u001b[1;33m \u001b[0mpol\u001b[0m\u001b[1;33m.\u001b[0m\u001b[0mname\u001b[0m\u001b[1;33m\u001b[0m\u001b[1;33m\u001b[0m\u001b[0m\n\u001b[0m",
      "\u001b[1;31mNameError\u001b[0m: name 'pol' is not defined"
     ]
    }
   ],
   "source": [
    "pol.name"
   ]
  },
  {
   "cell_type": "code",
   "execution_count": null,
   "metadata": {},
   "outputs": [],
   "source": []
  }
 ],
 "metadata": {
  "kernelspec": {
   "display_name": "Python 3",
   "language": "python",
   "name": "python3"
  },
  "language_info": {
   "codemirror_mode": {
    "name": "ipython",
    "version": 3
   },
   "file_extension": ".py",
   "mimetype": "text/x-python",
   "name": "python",
   "nbconvert_exporter": "python",
   "pygments_lexer": "ipython3",
   "version": "3.7.4"
  }
 },
 "nbformat": 4,
 "nbformat_minor": 4
}
