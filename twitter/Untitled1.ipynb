{
 "cells": [
  {
   "cell_type": "code",
   "execution_count": 29,
   "metadata": {},
   "outputs": [],
   "source": [
    "import numpy as np\n",
    "mat = np.genfromtxt(\"influenceMatrix0.5.csv\", delimiter=',')"
   ]
  },
  {
   "cell_type": "code",
   "execution_count": 30,
   "metadata": {},
   "outputs": [
    {
     "data": {
      "text/plain": [
       "array([[4.98706187e+03, 4.39591664e+02, 6.49810921e+01, ...,\n",
       "        9.11358556e+02, 2.04593215e+00, 1.51237655e+00],\n",
       "       [4.39591664e+02, 1.15113254e+03, 8.57655205e+01, ...,\n",
       "        6.42285184e+02, 1.16219514e+00, 1.13930304e+00],\n",
       "       [6.49810921e+01, 8.57655205e+01, 1.52162756e+02, ...,\n",
       "        6.17386213e+01, 1.02312958e+00, 2.39324575e-02],\n",
       "       ...,\n",
       "       [9.11358556e+02, 6.42285184e+02, 6.17386213e+01, ...,\n",
       "        3.37838872e+03, 1.74568904e+00, 6.43983254e-01],\n",
       "       [2.04593215e+00, 1.16219514e+00, 1.02312958e+00, ...,\n",
       "        1.74568904e+00, 3.07949074e+01, 3.08643072e-04],\n",
       "       [1.51237655e+00, 1.13930304e+00, 2.39324575e-02, ...,\n",
       "        6.43983254e-01, 3.08643072e-04, 2.78408576e+01]])"
      ]
     },
     "execution_count": 30,
     "metadata": {},
     "output_type": "execute_result"
    }
   ],
   "source": [
    "mat"
   ]
  },
  {
   "cell_type": "code",
   "execution_count": 31,
   "metadata": {},
   "outputs": [],
   "source": [
    "eigvals, eigvecs = np.linalg.eigh(mat)"
   ]
  },
  {
   "cell_type": "code",
   "execution_count": 32,
   "metadata": {},
   "outputs": [],
   "source": [
    "for k in range(182):\n",
    "    if sum(eigvecs[:,k])<0:\n",
    "        eigvecs[:,k] *= -1"
   ]
  },
  {
   "cell_type": "code",
   "execution_count": 34,
   "metadata": {},
   "outputs": [
    {
     "data": {
      "text/plain": [
       "1.0112887956581165"
      ]
     },
     "execution_count": 34,
     "metadata": {},
     "output_type": "execute_result"
    }
   ],
   "source": [
    "sum(eigvecs[:,1])"
   ]
  },
  {
   "cell_type": "code",
   "execution_count": 36,
   "metadata": {},
   "outputs": [
    {
     "data": {
      "text/plain": [
       "array([-7.44231223e-15, -4.64154343e-15, -5.62050406e-15])"
      ]
     },
     "execution_count": 36,
     "metadata": {},
     "output_type": "execute_result"
    }
   ],
   "source": [
    "eigvecs[[5,8,1],1]"
   ]
  },
  {
   "cell_type": "code",
   "execution_count": null,
   "metadata": {},
   "outputs": [],
   "source": []
  }
 ],
 "metadata": {
  "kernelspec": {
   "display_name": "Python 3",
   "language": "python",
   "name": "python3"
  },
  "language_info": {
   "codemirror_mode": {
    "name": "ipython",
    "version": 3
   },
   "file_extension": ".py",
   "mimetype": "text/x-python",
   "name": "python",
   "nbconvert_exporter": "python",
   "pygments_lexer": "ipython3",
   "version": "3.7.4"
  }
 },
 "nbformat": 4,
 "nbformat_minor": 4
}
