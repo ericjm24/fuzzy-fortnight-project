{
 "cells": [
  {
   "cell_type": "code",
   "execution_count": 1,
   "metadata": {},
   "outputs": [
    {
     "data": {
      "text/plain": [
       "makeIndexFile (generic function with 1 method)"
      ]
     },
     "execution_count": 1,
     "metadata": {},
     "output_type": "execute_result"
    }
   ],
   "source": [
    "include(\"twitterJL.jl\")"
   ]
  },
  {
   "cell_type": "code",
   "execution_count": 2,
   "metadata": {},
   "outputs": [
    {
     "data": {
      "text/plain": [
       "41652229-element Array{twitterID,1}:\n",
       " twitterID(0x0000000c, 0x000f4665, 0x0000000000000000, 0x0000024a, 0x0000000000000000)\n",
       " twitterID(0x0000000d, 0x000fbe96, 0x00000000003d199c, 0x000000f3, 0x0000000000000930)\n",
       " twitterID(0x0000000e, 0x00002268, 0x00000000007c13fc, 0x0000006a, 0x0000000000000d04)\n",
       " twitterID(0x0000000f, 0x00003806, 0x00000000007c9da4, 0x00000113, 0x0000000000000eb4)\n",
       " twitterID(0x00000010, 0x000000da, 0x00000000007d7dc4, 0x00000111, 0x0000000000001308)\n",
       " twitterID(0x00000011, 0x00001b24, 0x00000000007d8134, 0x000000c0, 0x0000000000001754)\n",
       " twitterID(0x00000012, 0x00001984, 0x00000000007dedcc, 0x00000057, 0x0000000000001a5c)\n",
       " twitterID(0x00000014, 0x0012855b, 0x00000000007e53e4, 0x00000390, 0x0000000000001bc0)\n",
       " twitterID(0x00000015, 0x00002343, 0x0000000000c86958, 0x000001ef, 0x0000000000002a08)\n",
       " twitterID(0x00000016, 0x00000ecf, 0x0000000000c8f66c, 0x00000110, 0x00000000000031cc)\n",
       " twitterID(0x00000017, 0x00000a43, 0x0000000000c931b0, 0x00000049, 0x0000000000003614)\n",
       " twitterID(0x00000018, 0x00000029, 0x0000000000c95ac4, 0x00000038, 0x0000000000003740)\n",
       " twitterID(0x0000001f, 0x000009bd, 0x0000000000c95b70, 0x00000063, 0x0000000000003828)\n",
       " ⋮                                                                                    \n",
       " twitterID(0x03ab9af2, 0x00000001, 0x00000001713550e4, 0x00000010, 0x000000016f1a7840)\n",
       " twitterID(0x03ab9b03, 0x00000001, 0x00000001713550f0, 0x00000013, 0x000000016f1a7888)\n",
       " twitterID(0x03ab9b15, 0x00000001, 0x00000001713550fc, 0x00000013, 0x000000016f1a78dc)\n",
       " twitterID(0x03ab9b1a, 0x00000001, 0x0000000171355108, 0x00000014, 0x000000016f1a7930)\n",
       " twitterID(0x03ab9b35, 0x00000001, 0x0000000171355114, 0x00000000, 0x0000000000000000)\n",
       " twitterID(0x03ab9b38, 0x00000001, 0x0000000171355120, 0x00000013, 0x000000016f1a7988)\n",
       " twitterID(0x03ab9b3c, 0x00000001, 0x000000017135512c, 0x00000013, 0x000000016f1a79dc)\n",
       " twitterID(0x03ab9b67, 0x00000001, 0x0000000171355138, 0x00000014, 0x000000016f1a7a30)\n",
       " twitterID(0x03ab9b7c, 0x00000001, 0x0000000171355144, 0x00000012, 0x000000016f1a7a88)\n",
       " twitterID(0x03ab9b86, 0x00000001, 0x0000000171355150, 0x00000011, 0x000000016f1a7ad8)\n",
       " twitterID(0x03ab9b90, 0x00000001, 0x000000017135515c, 0x00000013, 0x000000016f1a7b24)\n",
       " twitterID(0x03ab9bba, 0x00000001, 0x0000000171355168, 0x00000007, 0x000000016f1a7b78)"
      ]
     },
     "execution_count": 2,
     "metadata": {},
     "output_type": "execute_result"
    }
   ],
   "source": [
    "temp = readIndexFile()"
   ]
  },
  {
   "cell_type": "code",
   "execution_count": 3,
   "metadata": {},
   "outputs": [],
   "source": [
    "a = Vector{Float64}(undef, length(temp))\n",
    "for k = 1:length(a)\n",
    "    if rand(1:10)==2\n",
    "        a[k] = rand()\n",
    "    else\n",
    "        a[k] = Float64(0)\n",
    "    end\n",
    "end"
   ]
  },
  {
   "cell_type": "code",
   "execution_count": 9,
   "metadata": {},
   "outputs": [
    {
     "ename": "BoundsError",
     "evalue": "BoundsError: attempt to access 41652229-element Array{Float64,1} at index [42623349]",
     "output_type": "error",
     "traceback": [
      "BoundsError: attempt to access 41652229-element Array{Float64,1} at index [42623349]",
      "",
      "Stacktrace:",
      " [1] getindex at .\\array.jl:729 [inlined]",
      " [2] getindex(::Array{Float64,1}, ::UInt32) at .\\multidimensional.jl:458",
      " [3] friendsMultiplyMV(::Array{twitterID,1}, ::Array{Float64,1}) at C:\\Users\\ericj\\Documents\\fuzzy-fortnight-project\\twitter\\twitterJL.jl:119",
      " [4] top-level scope at In[9]:1"
     ]
    }
   ],
   "source": [
    "b = friendsMultiplyMV(temp, a)"
   ]
  },
  {
   "cell_type": "code",
   "execution_count": 16,
   "metadata": {},
   "outputs": [
    {
     "data": {
      "text/plain": [
       "0.06748630328811589"
      ]
     },
     "execution_count": 16,
     "metadata": {},
     "output_type": "execute_result"
    }
   ],
   "source": [
    "rand()"
   ]
  },
  {
   "cell_type": "code",
   "execution_count": 22,
   "metadata": {},
   "outputs": [
    {
     "data": {
      "text/plain": [
       "Float64"
      ]
     },
     "execution_count": 22,
     "metadata": {},
     "output_type": "execute_result"
    }
   ],
   "source": [
    "typeof(a[1])"
   ]
  },
  {
   "cell_type": "code",
   "execution_count": 7,
   "metadata": {},
   "outputs": [
    {
     "data": {
      "text/plain": [
       "0.0"
      ]
     },
     "execution_count": 7,
     "metadata": {},
     "output_type": "execute_result"
    }
   ],
   "source": [
    "a[4]"
   ]
  },
  {
   "cell_type": "code",
   "execution_count": 10,
   "metadata": {},
   "outputs": [
    {
     "data": {
      "text/plain": [
       "twitterID(0x03ab9bba, 0x00000001, 0x0000000171355168, 0x00000007, 0x000000016f1a7b78)"
      ]
     },
     "execution_count": 10,
     "metadata": {},
     "output_type": "execute_result"
    }
   ],
   "source": [
    "temp[end]"
   ]
  },
  {
   "cell_type": "code",
   "execution_count": null,
   "metadata": {},
   "outputs": [],
   "source": []
  }
 ],
 "metadata": {
  "kernelspec": {
   "display_name": "Julia 1.1.1",
   "language": "julia",
   "name": "julia-1.1"
  },
  "language_info": {
   "file_extension": ".jl",
   "mimetype": "application/julia",
   "name": "julia",
   "version": "1.1.1"
  }
 },
 "nbformat": 4,
 "nbformat_minor": 4
}
