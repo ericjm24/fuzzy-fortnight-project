{
 "cells": [
  {
   "cell_type": "code",
   "execution_count": 1,
   "metadata": {},
   "outputs": [
    {
     "data": {
      "text/plain": [
       "makeIndexFile (generic function with 1 method)"
      ]
     },
     "execution_count": 1,
     "metadata": {},
     "output_type": "execute_result"
    }
   ],
   "source": [
    "include(\"twitterJL.jl\")"
   ]
  },
  {
   "cell_type": "code",
   "execution_count": null,
   "metadata": {},
   "outputs": [],
   "source": [
    "tempV = Vector{Float64}(undef, 50)"
   ]
  },
  {
   "cell_type": "code",
   "execution_count": 4,
   "metadata": {},
   "outputs": [],
   "source": [
    "for k = 1:length(tempV)\n",
    "    if rand(1:10)==2\n",
    "        tempV[k] = rand()\n",
    "    else\n",
    "        tempV[k] = Float64(0)\n",
    "    end\n",
    "end"
   ]
  },
  {
   "cell_type": "code",
   "execution_count": 7,
   "metadata": {},
   "outputs": [
    {
     "ename": "MethodError",
     "evalue": "MethodError: no method matching sparseAdjacencyMultiplyMV(::String, ::Array{Float64,1})\nClosest candidates are:\n  sparseAdjacencyMultiplyMV(!Matched::Array{UInt32,1}, ::Array{T,1} where T) at C:\\Users\\ericj\\Documents\\fuzzy-fortnight-project\\twitter\\twitterJL.jl:56",
     "output_type": "error",
     "traceback": [
      "MethodError: no method matching sparseAdjacencyMultiplyMV(::String, ::Array{Float64,1})\nClosest candidates are:\n  sparseAdjacencyMultiplyMV(!Matched::Array{UInt32,1}, ::Array{T,1} where T) at C:\\Users\\ericj\\Documents\\fuzzy-fortnight-project\\twitter\\twitterJL.jl:56",
      "",
      "Stacktrace:",
      " [1] top-level scope at In[7]:1"
     ]
    }
   ],
   "source": [
    "b = sparseAdjacencyMultiplyMV(\"data/supersmall_test\", tempV)"
   ]
  },
  {
   "cell_type": "code",
   "execution_count": 16,
   "metadata": {},
   "outputs": [
    {
     "data": {
      "text/plain": [
       "0.06748630328811589"
      ]
     },
     "execution_count": 16,
     "metadata": {},
     "output_type": "execute_result"
    }
   ],
   "source": [
    "rand()"
   ]
  },
  {
   "cell_type": "code",
   "execution_count": 22,
   "metadata": {},
   "outputs": [
    {
     "data": {
      "text/plain": [
       "Float64"
      ]
     },
     "execution_count": 22,
     "metadata": {},
     "output_type": "execute_result"
    }
   ],
   "source": [
    "typeof(a[1])"
   ]
  },
  {
   "cell_type": "code",
   "execution_count": 7,
   "metadata": {},
   "outputs": [
    {
     "data": {
      "text/plain": [
       "0.0"
      ]
     },
     "execution_count": 7,
     "metadata": {},
     "output_type": "execute_result"
    }
   ],
   "source": [
    "a[4]"
   ]
  },
  {
   "cell_type": "code",
   "execution_count": 10,
   "metadata": {},
   "outputs": [
    {
     "data": {
      "text/plain": [
       "twitterID(0x03ab9bba, 0x00000001, 0x0000000171355168, 0x00000007, 0x000000016f1a7b78)"
      ]
     },
     "execution_count": 10,
     "metadata": {},
     "output_type": "execute_result"
    }
   ],
   "source": [
    "temp[end]"
   ]
  },
  {
   "cell_type": "code",
   "execution_count": 1,
   "metadata": {},
   "outputs": [],
   "source": [
    "edge_file = \"data/twitter_rv.net\"\n",
    "out_file = \"data/twitter_gephi.csv\"\n",
    "file = open(edge_file, \"r\")\n",
    "out_f = open(out_file, \"w\")\n",
    "line = readline(file)\n",
    "a,b = split(line, '\\t')\n",
    "a0 = chomp(a)\n",
    "b0 = chomp(b)\n",
    "write(out_f, a0*','*b0)\n",
    "while !eof(file)\n",
    "    line = readline(file)\n",
    "    a,b = split(line, '\\t')\n",
    "    a = chomp(a)\n",
    "    b = chomp(b)\n",
    "    if a == a0\n",
    "        write(out_f, ','*b)\n",
    "    else\n",
    "        write(out_f, '\\n'*a*','*b)\n",
    "        a0 = a\n",
    "    end\n",
    "end\n",
    "close(file)\n",
    "close(out_f)"
   ]
  },
  {
   "cell_type": "code",
   "execution_count": 4,
   "metadata": {},
   "outputs": [
    {
     "data": {
      "text/plain": [
       "15"
      ]
     },
     "execution_count": 4,
     "metadata": {},
     "output_type": "execute_result"
    }
   ],
   "source": [
    "parse(Int64, \"15\")"
   ]
  },
  {
   "cell_type": "code",
   "execution_count": null,
   "metadata": {},
   "outputs": [],
   "source": []
  }
 ],
 "metadata": {
  "kernelspec": {
   "display_name": "Julia 1.1.1",
   "language": "julia",
   "name": "julia-1.1"
  },
  "language_info": {
   "file_extension": ".jl",
   "mimetype": "application/julia",
   "name": "julia",
   "version": "1.1.1"
  }
 },
 "nbformat": 4,
 "nbformat_minor": 4
}
