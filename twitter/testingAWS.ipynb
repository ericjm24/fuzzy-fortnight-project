{
 "cells": [
  {
   "cell_type": "code",
   "execution_count": 1,
   "metadata": {},
   "outputs": [],
   "source": [
    "import boto3\n",
    "import tweepy\n",
    "from config import tw_key, tw_secret\n",
    "auth = auth = tweepy.AppAuthHandler(tw_key, tw_secret)\n",
    "api = tweepy.API(auth)"
   ]
  },
  {
   "cell_type": "code",
   "execution_count": 13,
   "metadata": {},
   "outputs": [],
   "source": [
    "import json"
   ]
  },
  {
   "cell_type": "code",
   "execution_count": 19,
   "metadata": {},
   "outputs": [
    {
     "data": {
      "text/plain": [
       "['_api',\n",
       " '_json',\n",
       " 'id',\n",
       " 'id_str',\n",
       " 'name',\n",
       " 'screen_name',\n",
       " 'location',\n",
       " 'profile_location',\n",
       " 'description',\n",
       " 'url',\n",
       " 'entities',\n",
       " 'protected',\n",
       " 'followers_count',\n",
       " 'friends_count',\n",
       " 'listed_count',\n",
       " 'created_at',\n",
       " 'favourites_count',\n",
       " 'utc_offset',\n",
       " 'time_zone',\n",
       " 'geo_enabled',\n",
       " 'verified',\n",
       " 'statuses_count',\n",
       " 'lang',\n",
       " 'status',\n",
       " 'contributors_enabled',\n",
       " 'is_translator',\n",
       " 'is_translation_enabled',\n",
       " 'profile_background_color',\n",
       " 'profile_background_image_url',\n",
       " 'profile_background_image_url_https',\n",
       " 'profile_background_tile',\n",
       " 'profile_image_url',\n",
       " 'profile_image_url_https',\n",
       " 'profile_banner_url',\n",
       " 'profile_link_color',\n",
       " 'profile_sidebar_border_color',\n",
       " 'profile_sidebar_fill_color',\n",
       " 'profile_text_color',\n",
       " 'profile_use_background_image',\n",
       " 'has_extended_profile',\n",
       " 'default_profile',\n",
       " 'default_profile_image',\n",
       " 'following',\n",
       " 'follow_request_sent',\n",
       " 'notifications',\n",
       " 'translator_type',\n",
       " '__module__',\n",
       " 'parse',\n",
       " 'parse_list',\n",
       " 'timeline',\n",
       " 'friends',\n",
       " 'followers',\n",
       " 'follow',\n",
       " 'unfollow',\n",
       " 'lists_memberships',\n",
       " 'lists_subscriptions',\n",
       " 'lists',\n",
       " 'followers_ids',\n",
       " '__eq__',\n",
       " '__ne__',\n",
       " '__doc__',\n",
       " '__hash__',\n",
       " '__init__',\n",
       " '__getstate__',\n",
       " '__repr__',\n",
       " '__dict__',\n",
       " '__weakref__',\n",
       " '__str__',\n",
       " '__getattribute__',\n",
       " '__setattr__',\n",
       " '__delattr__',\n",
       " '__lt__',\n",
       " '__le__',\n",
       " '__gt__',\n",
       " '__ge__',\n",
       " '__new__',\n",
       " '__reduce_ex__',\n",
       " '__reduce__',\n",
       " '__subclasshook__',\n",
       " '__init_subclass__',\n",
       " '__format__',\n",
       " '__sizeof__',\n",
       " '__dir__',\n",
       " '__class__']"
      ]
     },
     "execution_count": 19,
     "metadata": {},
     "output_type": "execute_result"
    }
   ],
   "source": [
    "out.__dir__()"
   ]
  },
  {
   "cell_type": "code",
   "execution_count": 31,
   "metadata": {},
   "outputs": [],
   "source": [
    "followers = []\n",
    "for page in tweepy.Cursor(api.friends_ids, user_id=12).pages():\n",
    "    followers += page"
   ]
  },
  {
   "cell_type": "code",
   "execution_count": 33,
   "metadata": {},
   "outputs": [
    {
     "data": {
      "text/plain": [
       "12"
      ]
     },
     "execution_count": 33,
     "metadata": {},
     "output_type": "execute_result"
    }
   ],
   "source": [
    "api."
   ]
  },
  {
   "cell_type": "code",
   "execution_count": 13,
   "metadata": {},
   "outputs": [
    {
     "data": {
      "text/plain": [
       "{'TableNames': ['currentTwitter'],\n",
       " 'ResponseMetadata': {'RequestId': '4CHLQGR5E64S5S80UGNOHA96CVVV4KQNSO5AEMVJF66Q9ASUAAJG',\n",
       "  'HTTPStatusCode': 200,\n",
       "  'HTTPHeaders': {'server': 'Server',\n",
       "   'date': 'Tue, 22 Oct 2019 04:41:05 GMT',\n",
       "   'content-type': 'application/x-amz-json-1.0',\n",
       "   'content-length': '33',\n",
       "   'connection': 'keep-alive',\n",
       "   'x-amzn-requestid': '4CHLQGR5E64S5S80UGNOHA96CVVV4KQNSO5AEMVJF66Q9ASUAAJG',\n",
       "   'x-amz-crc32': '2625081442'},\n",
       "  'RetryAttempts': 0}}"
      ]
     },
     "execution_count": 13,
     "metadata": {},
     "output_type": "execute_result"
    }
   ],
   "source": [
    "client.list_tables()"
   ]
  },
  {
   "cell_type": "code",
   "execution_count": 6,
   "metadata": {},
   "outputs": [],
   "source": [
    "from flask import jsonify"
   ]
  },
  {
   "cell_type": "code",
   "execution_count": 11,
   "metadata": {},
   "outputs": [
    {
     "data": {
      "text/plain": [
       "{'TableNames': ['currentTwitter'],\n",
       " 'ResponseMetadata': {'RequestId': '129JFL4M9FVGFGJHPOFNSUJIGBVV4KQNSO5AEMVJF66Q9ASUAAJG',\n",
       "  'HTTPStatusCode': 200,\n",
       "  'HTTPHeaders': {'server': 'Server',\n",
       "   'date': 'Tue, 22 Oct 2019 22:40:17 GMT',\n",
       "   'content-type': 'application/x-amz-json-1.0',\n",
       "   'content-length': '33',\n",
       "   'connection': 'keep-alive',\n",
       "   'x-amzn-requestid': '129JFL4M9FVGFGJHPOFNSUJIGBVV4KQNSO5AEMVJF66Q9ASUAAJG',\n",
       "   'x-amz-crc32': '2625081442'},\n",
       "  'RetryAttempts': 0}}"
      ]
     },
     "execution_count": 11,
     "metadata": {},
     "output_type": "execute_result"
    }
   ],
   "source": [
    "client.list_tables()"
   ]
  },
  {
   "cell_type": "code",
   "execution_count": 19,
   "metadata": {},
   "outputs": [
    {
     "data": {
      "text/plain": [
       "{'ResponseMetadata': {'RequestId': 'IQ4LSL9UP6O98FP9AM3M8DPQSJVV4KQNSO5AEMVJF66Q9ASUAAJG',\n",
       "  'HTTPStatusCode': 200,\n",
       "  'HTTPHeaders': {'server': 'Server',\n",
       "   'date': 'Tue, 22 Oct 2019 22:47:34 GMT',\n",
       "   'content-type': 'application/x-amz-json-1.0',\n",
       "   'content-length': '2',\n",
       "   'connection': 'keep-alive',\n",
       "   'x-amzn-requestid': 'IQ4LSL9UP6O98FP9AM3M8DPQSJVV4KQNSO5AEMVJF66Q9ASUAAJG',\n",
       "   'x-amz-crc32': '2745614147'},\n",
       "  'RetryAttempts': 0}}"
      ]
     },
     "execution_count": 19,
     "metadata": {},
     "output_type": "execute_result"
    }
   ],
   "source": [
    "client.put_item(TableName = 'currentTwitter', Item = {\"userID\":{\"N\":str(75)}, \"friends\":{'NS':[str(x) for x in api.friends_ids(75)]}})"
   ]
  },
  {
   "cell_type": "code",
   "execution_count": 37,
   "metadata": {},
   "outputs": [
    {
     "data": {
      "text/plain": [
       "{'ResponseMetadata': {'RequestId': '44C5TJPFF01T34E32LK9V7FR4JVV4KQNSO5AEMVJF66Q9ASUAAJG',\n",
       "  'HTTPStatusCode': 200,\n",
       "  'HTTPHeaders': {'server': 'Server',\n",
       "   'date': 'Tue, 22 Oct 2019 22:52:32 GMT',\n",
       "   'content-type': 'application/x-amz-json-1.0',\n",
       "   'content-length': '2',\n",
       "   'connection': 'keep-alive',\n",
       "   'x-amzn-requestid': '44C5TJPFF01T34E32LK9V7FR4JVV4KQNSO5AEMVJF66Q9ASUAAJG',\n",
       "   'x-amz-crc32': '2745614147'},\n",
       "  'RetryAttempts': 0}}"
      ]
     },
     "execution_count": 37,
     "metadata": {},
     "output_type": "execute_result"
    }
   ],
   "source": [
    "client.get_item(TableName = 'currentTwitter', Key={\"userID\":{\"N\":\"75\"}})"
   ]
  },
  {
   "cell_type": "code",
   "execution_count": null,
   "metadata": {},
   "outputs": [],
   "source": []
  }
 ],
 "metadata": {
  "kernelspec": {
   "display_name": "Python 3",
   "language": "python",
   "name": "python3"
  },
  "language_info": {
   "codemirror_mode": {
    "name": "ipython",
    "version": 3
   },
   "file_extension": ".py",
   "mimetype": "text/x-python",
   "name": "python",
   "nbconvert_exporter": "python",
   "pygments_lexer": "ipython3",
   "version": "3.7.3"
  }
 },
 "nbformat": 4,
 "nbformat_minor": 4
}
