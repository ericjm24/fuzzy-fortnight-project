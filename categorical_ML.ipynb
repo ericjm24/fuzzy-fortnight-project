{
 "cells": [
  {
   "cell_type": "code",
   "execution_count": 1,
   "metadata": {},
   "outputs": [],
   "source": [
    "from sklearn.ensemble import RandomForestClassifier\n",
    "from sklearn.model_selection import train_test_split\n",
    "from sklearn.preprocessing import StandardScaler\n",
    "import pandas as pd"
   ]
  },
  {
   "cell_type": "code",
   "execution_count": 2,
   "metadata": {},
   "outputs": [],
   "source": [
    "df = pd.read_csv(\"data/tableau_import.csv\")"
   ]
  },
  {
   "cell_type": "code",
   "execution_count": 43,
   "metadata": {},
   "outputs": [],
   "source": [
    "RF_classifier = RandomForestClassifier(n_estimators=100)\n",
    "RF_classifier_2 = RandomForestClassifier(n_estimators=100)"
   ]
  },
  {
   "cell_type": "code",
   "execution_count": 3,
   "metadata": {},
   "outputs": [
    {
     "data": {
      "text/plain": [
       "0        -1.000000\n",
       "1        -1.000000\n",
       "2        -0.777778\n",
       "3        -1.000000\n",
       "4        -0.333333\n",
       "            ...   \n",
       "227272    0.000000\n",
       "227273   -1.000000\n",
       "227274   -1.000000\n",
       "227275   -1.000000\n",
       "227276   -1.000000\n",
       "Name: partisanship_change, Length: 227277, dtype: float64"
      ]
     },
     "execution_count": 3,
     "metadata": {},
     "output_type": "execute_result"
    }
   ],
   "source": [
    "df['partisanship_change']"
   ]
  },
  {
   "cell_type": "code",
   "execution_count": 11,
   "metadata": {},
   "outputs": [
    {
     "data": {
      "text/plain": [
       "4"
      ]
     },
     "execution_count": 11,
     "metadata": {},
     "output_type": "execute_result"
    }
   ],
   "source": []
  },
  {
   "cell_type": "code",
   "execution_count": 4,
   "metadata": {},
   "outputs": [],
   "source": [
    "def return_change_class(input, weight):\n",
    "    weight = abs(weight)\n",
    "    if input < -weight:\n",
    "        return 'D'\n",
    "    elif input > weight:\n",
    "        return 'R'\n",
    "    else:\n",
    "        return 'N'"
   ]
  },
  {
   "cell_type": "code",
   "execution_count": 6,
   "metadata": {},
   "outputs": [
    {
     "data": {
      "text/plain": [
       "0    0.0\n",
       "1    0.0\n",
       "2   -1.0\n",
       "3    0.0\n",
       "4    0.0\n",
       "Name: partisanship_2010, dtype: float64"
      ]
     },
     "execution_count": 6,
     "metadata": {},
     "output_type": "execute_result"
    }
   ],
   "source": [
    "df['partisanship_2010'].head()"
   ]
  },
  {
   "cell_type": "code",
   "execution_count": 7,
   "metadata": {},
   "outputs": [],
   "source": [
    "df['categorization'] = df['partisanship_2010'].apply(lambda x:return_change_class(x, 0.5))"
   ]
  },
  {
   "cell_type": "code",
   "execution_count": 8,
   "metadata": {},
   "outputs": [],
   "source": [
    "df['categorization'] += 's'"
   ]
  },
  {
   "cell_type": "code",
   "execution_count": 10,
   "metadata": {},
   "outputs": [],
   "source": [
    "df['categorization'] += df['partisanship_change'].apply(lambda x:return_change_class(x,0.12))"
   ]
  },
  {
   "cell_type": "code",
   "execution_count": 12,
   "metadata": {},
   "outputs": [
    {
     "data": {
      "text/plain": [
       "categorization\n",
       "DsD      4378\n",
       "DsN      1519\n",
       "DsR      3573\n",
       "NsD    128738\n",
       "NsN     25357\n",
       "NsR     36539\n",
       "RsD     20725\n",
       "RsN      2727\n",
       "RsR      3721\n",
       "Name: id, dtype: int64"
      ]
     },
     "execution_count": 12,
     "metadata": {},
     "output_type": "execute_result"
    }
   ],
   "source": [
    "df.groupby('categorization')['id'].count()"
   ]
  },
  {
   "cell_type": "code",
   "execution_count": 16,
   "metadata": {},
   "outputs": [],
   "source": [
    "df2 = pd.concat(list(map(lambda x: df.loc[df['categorization']==x,:].sample(n=10000, replace=True),['DsD', 'DsN', 'DsR', 'NsD', 'NsN', 'NsR', 'RsD', 'RsN', 'RsR'])))\n",
    "df2 = df2.drop(columns=['political_interest_2019', 'partisanship_2019', 'partisanship_change', 'id'])"
   ]
  },
  {
   "cell_type": "code",
   "execution_count": 4,
   "metadata": {},
   "outputs": [],
   "source": [
    "df['partisanship_change_class'] = df['partisanship_change'].apply(lambda x:return_change_class(x,0.12))"
   ]
  },
  {
   "cell_type": "code",
   "execution_count": 5,
   "metadata": {},
   "outputs": [],
   "source": [
    "df2 = df.drop(columns=['political_interest_2019', 'partisanship_2019', 'partisanship_change', 'id'])"
   ]
  },
  {
   "cell_type": "code",
   "execution_count": 87,
   "metadata": {},
   "outputs": [
    {
     "data": {
      "text/plain": [
       "StandardScaler(copy=True, with_mean=True, with_std=True)"
      ]
     },
     "execution_count": 87,
     "metadata": {},
     "output_type": "execute_result"
    }
   ],
   "source": [
    "scaler = StandardScaler()\n",
    "scaler.fit(df2.drop(columns=['categorization', 'density', 'armed_forces_population']))"
   ]
  },
  {
   "cell_type": "code",
   "execution_count": 108,
   "metadata": {},
   "outputs": [],
   "source": [
    "train, test = train_test_split(df2, test_size=0.2)"
   ]
  },
  {
   "cell_type": "code",
   "execution_count": 36,
   "metadata": {},
   "outputs": [],
   "source": []
  },
  {
   "cell_type": "code",
   "execution_count": 15,
   "metadata": {},
   "outputs": [],
   "source": [
    "Y_train = train['partisanship_change_class']\n",
    "X_train = train.drop(columns=['partisanship_change_class'])\n",
    "Y_test = test['partisanship_change_class']\n",
    "X_test = test.drop(columns=['partisanship_change_class'])"
   ]
  },
  {
   "cell_type": "code",
   "execution_count": 16,
   "metadata": {},
   "outputs": [
    {
     "ename": "NameError",
     "evalue": "name 'OHE' is not defined",
     "output_type": "error",
     "traceback": [
      "\u001b[1;31m---------------------------------------------------------------------------\u001b[0m",
      "\u001b[1;31mNameError\u001b[0m                                 Traceback (most recent call last)",
      "\u001b[1;32m<ipython-input-16-ee7e11ae4b7f>\u001b[0m in \u001b[0;36m<module>\u001b[1;34m\u001b[0m\n\u001b[1;32m----> 1\u001b[1;33m \u001b[0mY_train\u001b[0m \u001b[1;33m=\u001b[0m \u001b[0mOHE\u001b[0m\u001b[1;33m.\u001b[0m\u001b[0mfit_transform\u001b[0m\u001b[1;33m(\u001b[0m\u001b[0mY_train\u001b[0m\u001b[1;33m.\u001b[0m\u001b[0mto_numpy\u001b[0m\u001b[1;33m(\u001b[0m\u001b[1;33m)\u001b[0m\u001b[1;33m.\u001b[0m\u001b[0mreshape\u001b[0m\u001b[1;33m(\u001b[0m\u001b[1;33m-\u001b[0m\u001b[1;36m1\u001b[0m\u001b[1;33m,\u001b[0m\u001b[1;36m1\u001b[0m\u001b[1;33m)\u001b[0m\u001b[1;33m)\u001b[0m\u001b[1;33m\u001b[0m\u001b[1;33m\u001b[0m\u001b[0m\n\u001b[0m\u001b[0;32m      2\u001b[0m \u001b[0mY_test\u001b[0m \u001b[1;33m=\u001b[0m \u001b[0mOHE\u001b[0m\u001b[1;33m.\u001b[0m\u001b[0mtransform\u001b[0m\u001b[1;33m(\u001b[0m\u001b[0mY_test\u001b[0m\u001b[1;33m.\u001b[0m\u001b[0mto_numpy\u001b[0m\u001b[1;33m(\u001b[0m\u001b[1;33m)\u001b[0m\u001b[1;33m.\u001b[0m\u001b[0mreshape\u001b[0m\u001b[1;33m(\u001b[0m\u001b[1;33m-\u001b[0m\u001b[1;36m1\u001b[0m\u001b[1;33m,\u001b[0m\u001b[1;36m1\u001b[0m\u001b[1;33m)\u001b[0m\u001b[1;33m)\u001b[0m\u001b[1;33m\u001b[0m\u001b[1;33m\u001b[0m\u001b[0m\n",
      "\u001b[1;31mNameError\u001b[0m: name 'OHE' is not defined"
     ]
    }
   ],
   "source": [
    "Y_train = OHE.fit_transform(Y_train.to_numpy().reshape(-1,1))\n",
    "Y_test = OHE.transform(Y_test.to_numpy().reshape(-1,1))"
   ]
  },
  {
   "cell_type": "code",
   "execution_count": 63,
   "metadata": {},
   "outputs": [
    {
     "name": "stdout",
     "output_type": "stream",
     "text": [
      "[]\n"
     ]
    }
   ],
   "source": [
    "drop_list = [x for x in X_train.columns if 'eigvec' in x and int(x.split(\"eigvec_\")[1]) < 0]\n",
    "print(drop_list)\n",
    "#RF_classifier.fit(X_train.drop(columns=drop_list), Y_train)"
   ]
  },
  {
   "cell_type": "code",
   "execution_count": 20,
   "metadata": {},
   "outputs": [
    {
     "ename": "ValueError",
     "evalue": "operands could not be broadcast together with shapes (2,10) (183,) (2,10) ",
     "output_type": "error",
     "traceback": [
      "\u001b[1;31m---------------------------------------------------------------------------\u001b[0m",
      "\u001b[1;31mValueError\u001b[0m                                Traceback (most recent call last)",
      "\u001b[1;32m<ipython-input-20-04e47a1a1349>\u001b[0m in \u001b[0;36m<module>\u001b[1;34m\u001b[0m\n\u001b[1;32m----> 1\u001b[1;33m \u001b[0mscaler\u001b[0m\u001b[1;33m.\u001b[0m\u001b[0mtransform\u001b[0m\u001b[1;33m(\u001b[0m\u001b[0mX_train\u001b[0m\u001b[1;33m.\u001b[0m\u001b[0miloc\u001b[0m\u001b[1;33m[\u001b[0m\u001b[1;36m1\u001b[0m\u001b[1;33m:\u001b[0m\u001b[1;36m3\u001b[0m\u001b[1;33m,\u001b[0m\u001b[1;33m:\u001b[0m\u001b[1;36m10\u001b[0m\u001b[1;33m]\u001b[0m\u001b[1;33m)\u001b[0m\u001b[1;33m\u001b[0m\u001b[1;33m\u001b[0m\u001b[0m\n\u001b[0m",
      "\u001b[1;32m~\\Anaconda3\\lib\\site-packages\\sklearn\\preprocessing\\data.py\u001b[0m in \u001b[0;36mtransform\u001b[1;34m(self, X, copy)\u001b[0m\n\u001b[0;32m    767\u001b[0m         \u001b[1;32melse\u001b[0m\u001b[1;33m:\u001b[0m\u001b[1;33m\u001b[0m\u001b[1;33m\u001b[0m\u001b[0m\n\u001b[0;32m    768\u001b[0m             \u001b[1;32mif\u001b[0m \u001b[0mself\u001b[0m\u001b[1;33m.\u001b[0m\u001b[0mwith_mean\u001b[0m\u001b[1;33m:\u001b[0m\u001b[1;33m\u001b[0m\u001b[1;33m\u001b[0m\u001b[0m\n\u001b[1;32m--> 769\u001b[1;33m                 \u001b[0mX\u001b[0m \u001b[1;33m-=\u001b[0m \u001b[0mself\u001b[0m\u001b[1;33m.\u001b[0m\u001b[0mmean_\u001b[0m\u001b[1;33m\u001b[0m\u001b[1;33m\u001b[0m\u001b[0m\n\u001b[0m\u001b[0;32m    770\u001b[0m             \u001b[1;32mif\u001b[0m \u001b[0mself\u001b[0m\u001b[1;33m.\u001b[0m\u001b[0mwith_std\u001b[0m\u001b[1;33m:\u001b[0m\u001b[1;33m\u001b[0m\u001b[1;33m\u001b[0m\u001b[0m\n\u001b[0;32m    771\u001b[0m                 \u001b[0mX\u001b[0m \u001b[1;33m/=\u001b[0m \u001b[0mself\u001b[0m\u001b[1;33m.\u001b[0m\u001b[0mscale_\u001b[0m\u001b[1;33m\u001b[0m\u001b[1;33m\u001b[0m\u001b[0m\n",
      "\u001b[1;31mValueError\u001b[0m: operands could not be broadcast together with shapes (2,10) (183,) (2,10) "
     ]
    }
   ],
   "source": []
  },
  {
   "cell_type": "code",
   "execution_count": 32,
   "metadata": {},
   "outputs": [
    {
     "data": {
      "text/plain": [
       "RandomForestClassifier(bootstrap=True, class_weight=None, criterion='gini',\n",
       "                       max_depth=None, max_features='auto', max_leaf_nodes=None,\n",
       "                       min_impurity_decrease=0.0, min_impurity_split=None,\n",
       "                       min_samples_leaf=1, min_samples_split=2,\n",
       "                       min_weight_fraction_leaf=0.0, n_estimators=100,\n",
       "                       n_jobs=None, oob_score=False, random_state=None,\n",
       "                       verbose=0, warm_start=False)"
      ]
     },
     "execution_count": 32,
     "metadata": {},
     "output_type": "execute_result"
    }
   ],
   "source": [
    "RF_classifier_2.fit(X_train.drop(columns=[x for x in X_train.columns if 'eigvec' in x]), Y_train)"
   ]
  },
  {
   "cell_type": "code",
   "execution_count": 55,
   "metadata": {},
   "outputs": [
    {
     "data": {
      "text/plain": [
       "0.4885333333333333"
      ]
     },
     "execution_count": 55,
     "metadata": {},
     "output_type": "execute_result"
    }
   ],
   "source": [
    "RF_classifier.score(X_test.drop(columns=drop_list), Y_test)"
   ]
  },
  {
   "cell_type": "code",
   "execution_count": 34,
   "metadata": {},
   "outputs": [
    {
     "data": {
      "text/plain": [
       "0.4488"
      ]
     },
     "execution_count": 34,
     "metadata": {},
     "output_type": "execute_result"
    }
   ],
   "source": [
    "RF_classifier_2.score(X_test.drop(columns=[x for x in X_test.columns if 'eigvec' in x]), Y_test)"
   ]
  },
  {
   "cell_type": "code",
   "execution_count": 84,
   "metadata": {},
   "outputs": [],
   "source": [
    "k = range(115,160)[::3]"
   ]
  },
  {
   "cell_type": "code",
   "execution_count": 85,
   "metadata": {},
   "outputs": [],
   "source": [
    "k = list(k) + [160]"
   ]
  },
  {
   "cell_type": "code",
   "execution_count": 86,
   "metadata": {},
   "outputs": [],
   "source": [
    "k = [0,10,20,30,40,50,60,70,80,90,100,110] + k"
   ]
  },
  {
   "cell_type": "code",
   "execution_count": 31,
   "metadata": {},
   "outputs": [],
   "source": [
    "RF_classifier = RandomForestClassifier(n_estimators=100, n_jobs = -1)"
   ]
  },
  {
   "cell_type": "code",
   "execution_count": 109,
   "metadata": {},
   "outputs": [],
   "source": [
    "Y_train = train['categorization']\n",
    "X_train = train.drop(columns=['categorization', 'density', 'armed_forces_population'])\n",
    "X_train = pd.DataFrame(scaler.transform(X_train), columns=X_train.columns)\n",
    "Y_test = test['categorization']\n",
    "X_test = pd.DataFrame(scaler.transform(test.drop(columns=['categorization', 'density', 'armed_forces_population'])), columns=X_train.columns)"
   ]
  },
  {
   "cell_type": "code",
   "execution_count": 92,
   "metadata": {},
   "outputs": [
    {
     "name": "stdout",
     "output_type": "stream",
     "text": [
      "0 0.8180555555555555\n",
      "10 0.8172777777777778\n",
      "20 0.8177777777777778\n",
      "30 0.8192777777777778\n",
      "40 0.8156111111111111\n",
      "50 0.8187222222222222\n",
      "60 0.8215555555555556\n",
      "70 0.8168333333333333\n",
      "80 0.8192777777777778\n",
      "90 0.821\n",
      "100 0.8193888888888889\n",
      "110 0.8190555555555555\n",
      "115 0.8192222222222222\n",
      "118 0.819\n",
      "121 0.8191666666666667\n",
      "124 0.8203888888888888\n",
      "127 0.8192222222222222\n",
      "130 0.8187222222222222\n",
      "133 0.8167777777777778\n",
      "136 0.8166666666666667\n",
      "139 0.819\n",
      "142 0.8158888888888889\n",
      "145 0.8147777777777778\n",
      "148 0.8173888888888889\n",
      "151 0.8147777777777778\n",
      "154 0.8115\n",
      "157 0.8040555555555555\n",
      "160 0.7893333333333333\n"
     ]
    }
   ],
   "source": [
    "scores = []\n",
    "for k_item in k:\n",
    "    RF_classifier = RandomForestClassifier(n_estimators=100, n_jobs = -1)\n",
    "    x_train_temp = X_train.drop(columns = [x for x in X_train.columns if 'eigvec' in x and int(x.split('eigvec_')[1]) < k_item])\n",
    "    x_test_temp = X_test[x_train_temp.columns]\n",
    "    RF_classifier.fit(x_train_temp, Y_train)\n",
    "    temp = RF_classifier.score(x_test_temp, Y_test)\n",
    "    print(k_item, temp)\n",
    "    scores.append(temp)"
   ]
  },
  {
   "cell_type": "code",
   "execution_count": 94,
   "metadata": {},
   "outputs": [
    {
     "name": "stdout",
     "output_type": "stream",
     "text": [
      "0.5502222222222222\n"
     ]
    }
   ],
   "source": [
    "x_train_temp = X_train.drop(columns = [x for x in X_train.columns if 'eigvec' in x or 'influence' in x])\n",
    "x_test_temp = X_test[x_train_temp.columns]\n",
    "RF_classifier = RandomForestClassifier(n_estimators=100, n_jobs = -1)\n",
    "RF_classifier.fit(x_train_temp, Y_train)\n",
    "print(RF_classifier.score(x_test_temp, Y_test))"
   ]
  },
  {
   "cell_type": "code",
   "execution_count": 104,
   "metadata": {},
   "outputs": [],
   "source": [
    "x_cols = [x for x in X_train.columns if 'eigvec' not in x]\n",
    "eigs = [x for x in X_train.columns if 'eigvec' in x]"
   ]
  },
  {
   "cell_type": "code",
   "execution_count": 107,
   "metadata": {},
   "outputs": [
    {
     "data": {
      "text/plain": [
       "[]"
      ]
     },
     "execution_count": 107,
     "metadata": {},
     "output_type": "execute_result"
    }
   ],
   "source": [
    "list(pd.Series(eigs).sample(0))"
   ]
  },
  {
   "cell_type": "code",
   "execution_count": 100,
   "metadata": {},
   "outputs": [],
   "source": [
    "x_cols_2 = [x for x in x_cols if 'influence' not in x]"
   ]
  },
  {
   "cell_type": "code",
   "execution_count": 116,
   "metadata": {},
   "outputs": [
    {
     "name": "stdout",
     "output_type": "stream",
     "text": [
      "[0, 1, 2, 3, 4, 5, 6, 7, 8, 9, 10]\n",
      "['total_population', 'non_white_population', 'hispanic_population', 'foreign_born_population', 'median_household_income', 'mean_household_income', 'poverty_population', 'total_housing_units', 'units_paying_rent', 'agriculture_industry', 'information_industry', 'financial_industry', 'entertainment_industry', 'government_employee', 'degree', 'veteran_population', 'incarcerated', 'political_interest_2010', 'partisanship_2010']\n",
      "0.5507222222222222\n",
      "['total_population', 'non_white_population', 'hispanic_population', 'foreign_born_population', 'median_household_income', 'mean_household_income', 'poverty_population', 'total_housing_units', 'units_paying_rent', 'agriculture_industry', 'information_industry', 'financial_industry', 'entertainment_industry', 'government_employee', 'degree', 'veteran_population', 'incarcerated', 'political_interest_2010', 'partisanship_2010']\n",
      "0.5501111111111111\n",
      "['total_population', 'non_white_population', 'hispanic_population', 'foreign_born_population', 'median_household_income', 'mean_household_income', 'poverty_population', 'total_housing_units', 'units_paying_rent', 'agriculture_industry', 'information_industry', 'financial_industry', 'entertainment_industry', 'government_employee', 'degree', 'veteran_population', 'incarcerated', 'political_interest_2010', 'partisanship_2010']\n",
      "0.5501111111111111\n",
      "['total_population', 'non_white_population', 'hispanic_population', 'foreign_born_population', 'median_household_income', 'mean_household_income', 'poverty_population', 'total_housing_units', 'units_paying_rent', 'agriculture_industry', 'information_industry', 'financial_industry', 'entertainment_industry', 'government_employee', 'degree', 'veteran_population', 'incarcerated', 'political_interest_2010', 'partisanship_2010']\n",
      "0.5496666666666666\n",
      "['total_population', 'non_white_population', 'hispanic_population', 'foreign_born_population', 'median_household_income', 'mean_household_income', 'poverty_population', 'total_housing_units', 'units_paying_rent', 'agriculture_industry', 'information_industry', 'financial_industry', 'entertainment_industry', 'government_employee', 'degree', 'veteran_population', 'incarcerated', 'political_interest_2010', 'partisanship_2010']\n",
      "0.5498888888888889\n",
      "['total_population', 'non_white_population', 'hispanic_population', 'foreign_born_population', 'median_household_income', 'mean_household_income', 'poverty_population', 'total_housing_units', 'units_paying_rent', 'agriculture_industry', 'information_industry', 'financial_industry', 'entertainment_industry', 'government_employee', 'degree', 'veteran_population', 'incarcerated', 'political_interest_2010', 'partisanship_2010']\n",
      "0.5508888888888889\n",
      "['total_population', 'non_white_population', 'hispanic_population', 'foreign_born_population', 'median_household_income', 'mean_household_income', 'poverty_population', 'total_housing_units', 'units_paying_rent', 'agriculture_industry', 'information_industry', 'financial_industry', 'entertainment_industry', 'government_employee', 'degree', 'veteran_population', 'incarcerated', 'political_interest_2010', 'partisanship_2010']\n",
      "0.5496666666666666\n",
      "['total_population', 'non_white_population', 'hispanic_population', 'foreign_born_population', 'median_household_income', 'mean_household_income', 'poverty_population', 'total_housing_units', 'units_paying_rent', 'agriculture_industry', 'information_industry', 'financial_industry', 'entertainment_industry', 'government_employee', 'degree', 'veteran_population', 'incarcerated', 'political_interest_2010', 'partisanship_2010']\n",
      "0.5485\n",
      "['total_population', 'non_white_population', 'hispanic_population', 'foreign_born_population', 'median_household_income', 'mean_household_income', 'poverty_population', 'total_housing_units', 'units_paying_rent', 'agriculture_industry', 'information_industry', 'financial_industry', 'entertainment_industry', 'government_employee', 'degree', 'veteran_population', 'incarcerated', 'political_interest_2010', 'partisanship_2010']\n",
      "0.5495\n",
      "['total_population', 'non_white_population', 'hispanic_population', 'foreign_born_population', 'median_household_income', 'mean_household_income', 'poverty_population', 'total_housing_units', 'units_paying_rent', 'agriculture_industry', 'information_industry', 'financial_industry', 'entertainment_industry', 'government_employee', 'degree', 'veteran_population', 'incarcerated', 'political_interest_2010', 'partisanship_2010']\n",
      "0.5501111111111111\n",
      "['total_population', 'non_white_population', 'hispanic_population', 'foreign_born_population', 'median_household_income', 'mean_household_income', 'poverty_population', 'total_housing_units', 'units_paying_rent', 'agriculture_industry', 'information_industry', 'financial_industry', 'entertainment_industry', 'government_employee', 'degree', 'veteran_population', 'incarcerated', 'political_interest_2010', 'partisanship_2010']\n",
      "0.5496111111111112\n",
      "['total_population', 'non_white_population', 'hispanic_population', 'foreign_born_population', 'median_household_income', 'mean_household_income', 'poverty_population', 'total_housing_units', 'units_paying_rent', 'agriculture_industry', 'information_industry', 'financial_industry', 'entertainment_industry', 'government_employee', 'degree', 'veteran_population', 'incarcerated', 'political_interest_2010', 'partisanship_2010']\n",
      "0.5491111111111111\n",
      "['total_population', 'non_white_population', 'hispanic_population', 'foreign_born_population', 'median_household_income', 'mean_household_income', 'poverty_population', 'total_housing_units', 'units_paying_rent', 'agriculture_industry', 'information_industry', 'financial_industry', 'entertainment_industry', 'government_employee', 'degree', 'veteran_population', 'incarcerated', 'political_interest_2010', 'partisanship_2010']\n",
      "0.5488333333333333\n",
      "['total_population', 'non_white_population', 'hispanic_population', 'foreign_born_population', 'median_household_income', 'mean_household_income', 'poverty_population', 'total_housing_units', 'units_paying_rent', 'agriculture_industry', 'information_industry', 'financial_industry', 'entertainment_industry', 'government_employee', 'degree', 'veteran_population', 'incarcerated', 'political_interest_2010', 'partisanship_2010']\n",
      "0.5488333333333333\n",
      "['total_population', 'non_white_population', 'hispanic_population', 'foreign_born_population', 'median_household_income', 'mean_household_income', 'poverty_population', 'total_housing_units', 'units_paying_rent', 'agriculture_industry', 'information_industry', 'financial_industry', 'entertainment_industry', 'government_employee', 'degree', 'veteran_population', 'incarcerated', 'political_interest_2010', 'partisanship_2010']\n",
      "0.5488888888888889\n",
      "[0.5507222222222222, 0.5501111111111111, 0.5501111111111111, 0.5496666666666666, 0.5498888888888889, 0.5508888888888889, 0.5496666666666666, 0.5485, 0.5495, 0.5501111111111111, 0.5496111111111112, 0.5491111111111111, 0.5488333333333333, 0.5488333333333333, 0.5488888888888889]\n",
      "['total_population', 'non_white_population', 'hispanic_population', 'foreign_born_population', 'median_household_income', 'mean_household_income', 'poverty_population', 'total_housing_units', 'units_paying_rent', 'agriculture_industry', 'information_industry', 'financial_industry', 'entertainment_industry', 'government_employee', 'degree', 'veteran_population', 'incarcerated', 'political_interest_2010', 'partisanship_2010', 'eigvec_104']\n",
      "0.7838333333333334\n",
      "['total_population', 'non_white_population', 'hispanic_population', 'foreign_born_population', 'median_household_income', 'mean_household_income', 'poverty_population', 'total_housing_units', 'units_paying_rent', 'agriculture_industry', 'information_industry', 'financial_industry', 'entertainment_industry', 'government_employee', 'degree', 'veteran_population', 'incarcerated', 'political_interest_2010', 'partisanship_2010', 'eigvec_153']\n",
      "0.7813888888888889\n",
      "['total_population', 'non_white_population', 'hispanic_population', 'foreign_born_population', 'median_household_income', 'mean_household_income', 'poverty_population', 'total_housing_units', 'units_paying_rent', 'agriculture_industry', 'information_industry', 'financial_industry', 'entertainment_industry', 'government_employee', 'degree', 'veteran_population', 'incarcerated', 'political_interest_2010', 'partisanship_2010', 'eigvec_81']\n",
      "0.7822777777777777\n",
      "['total_population', 'non_white_population', 'hispanic_population', 'foreign_born_population', 'median_household_income', 'mean_household_income', 'poverty_population', 'total_housing_units', 'units_paying_rent', 'agriculture_industry', 'information_industry', 'financial_industry', 'entertainment_industry', 'government_employee', 'degree', 'veteran_population', 'incarcerated', 'political_interest_2010', 'partisanship_2010', 'eigvec_39']\n",
      "0.7771111111111111\n",
      "['total_population', 'non_white_population', 'hispanic_population', 'foreign_born_population', 'median_household_income', 'mean_household_income', 'poverty_population', 'total_housing_units', 'units_paying_rent', 'agriculture_industry', 'information_industry', 'financial_industry', 'entertainment_industry', 'government_employee', 'degree', 'veteran_population', 'incarcerated', 'political_interest_2010', 'partisanship_2010', 'eigvec_21']\n",
      "0.775\n",
      "['total_population', 'non_white_population', 'hispanic_population', 'foreign_born_population', 'median_household_income', 'mean_household_income', 'poverty_population', 'total_housing_units', 'units_paying_rent', 'agriculture_industry', 'information_industry', 'financial_industry', 'entertainment_industry', 'government_employee', 'degree', 'veteran_population', 'incarcerated', 'political_interest_2010', 'partisanship_2010', 'eigvec_134']\n",
      "0.7809444444444444\n",
      "['total_population', 'non_white_population', 'hispanic_population', 'foreign_born_population', 'median_household_income', 'mean_household_income', 'poverty_population', 'total_housing_units', 'units_paying_rent', 'agriculture_industry', 'information_industry', 'financial_industry', 'entertainment_industry', 'government_employee', 'degree', 'veteran_population', 'incarcerated', 'political_interest_2010', 'partisanship_2010', 'eigvec_37']\n",
      "0.7808333333333334\n",
      "['total_population', 'non_white_population', 'hispanic_population', 'foreign_born_population', 'median_household_income', 'mean_household_income', 'poverty_population', 'total_housing_units', 'units_paying_rent', 'agriculture_industry', 'information_industry', 'financial_industry', 'entertainment_industry', 'government_employee', 'degree', 'veteran_population', 'incarcerated', 'political_interest_2010', 'partisanship_2010', 'eigvec_102']\n",
      "0.7793888888888889\n",
      "['total_population', 'non_white_population', 'hispanic_population', 'foreign_born_population', 'median_household_income', 'mean_household_income', 'poverty_population', 'total_housing_units', 'units_paying_rent', 'agriculture_industry', 'information_industry', 'financial_industry', 'entertainment_industry', 'government_employee', 'degree', 'veteran_population', 'incarcerated', 'political_interest_2010', 'partisanship_2010', 'eigvec_9']\n",
      "0.776\n",
      "['total_population', 'non_white_population', 'hispanic_population', 'foreign_born_population', 'median_household_income', 'mean_household_income', 'poverty_population', 'total_housing_units', 'units_paying_rent', 'agriculture_industry', 'information_industry', 'financial_industry', 'entertainment_industry', 'government_employee', 'degree', 'veteran_population', 'incarcerated', 'political_interest_2010', 'partisanship_2010', 'eigvec_150']\n",
      "0.7821666666666667\n",
      "['total_population', 'non_white_population', 'hispanic_population', 'foreign_born_population', 'median_household_income', 'mean_household_income', 'poverty_population', 'total_housing_units', 'units_paying_rent', 'agriculture_industry', 'information_industry', 'financial_industry', 'entertainment_industry', 'government_employee', 'degree', 'veteran_population', 'incarcerated', 'political_interest_2010', 'partisanship_2010', 'eigvec_132']\n",
      "0.7789444444444444\n",
      "['total_population', 'non_white_population', 'hispanic_population', 'foreign_born_population', 'median_household_income', 'mean_household_income', 'poverty_population', 'total_housing_units', 'units_paying_rent', 'agriculture_industry', 'information_industry', 'financial_industry', 'entertainment_industry', 'government_employee', 'degree', 'veteran_population', 'incarcerated', 'political_interest_2010', 'partisanship_2010', 'eigvec_141']\n",
      "0.7814444444444445\n",
      "['total_population', 'non_white_population', 'hispanic_population', 'foreign_born_population', 'median_household_income', 'mean_household_income', 'poverty_population', 'total_housing_units', 'units_paying_rent', 'agriculture_industry', 'information_industry', 'financial_industry', 'entertainment_industry', 'government_employee', 'degree', 'veteran_population', 'incarcerated', 'political_interest_2010', 'partisanship_2010', 'eigvec_20']\n",
      "0.7807222222222222\n",
      "['total_population', 'non_white_population', 'hispanic_population', 'foreign_born_population', 'median_household_income', 'mean_household_income', 'poverty_population', 'total_housing_units', 'units_paying_rent', 'agriculture_industry', 'information_industry', 'financial_industry', 'entertainment_industry', 'government_employee', 'degree', 'veteran_population', 'incarcerated', 'political_interest_2010', 'partisanship_2010', 'eigvec_89']\n",
      "0.7778888888888889\n",
      "['total_population', 'non_white_population', 'hispanic_population', 'foreign_born_population', 'median_household_income', 'mean_household_income', 'poverty_population', 'total_housing_units', 'units_paying_rent', 'agriculture_industry', 'information_industry', 'financial_industry', 'entertainment_industry', 'government_employee', 'degree', 'veteran_population', 'incarcerated', 'political_interest_2010', 'partisanship_2010', 'eigvec_75']\n",
      "0.7775555555555556\n",
      "[0.7838333333333334, 0.7813888888888889, 0.7822777777777777, 0.7771111111111111, 0.775, 0.7809444444444444, 0.7808333333333334, 0.7793888888888889, 0.776, 0.7821666666666667, 0.7789444444444444, 0.7814444444444445, 0.7807222222222222, 0.7778888888888889, 0.7775555555555556]\n",
      "['total_population', 'non_white_population', 'hispanic_population', 'foreign_born_population', 'median_household_income', 'mean_household_income', 'poverty_population', 'total_housing_units', 'units_paying_rent', 'agriculture_industry', 'information_industry', 'financial_industry', 'entertainment_industry', 'government_employee', 'degree', 'veteran_population', 'incarcerated', 'political_interest_2010', 'partisanship_2010', 'eigvec_137', 'eigvec_120']\n",
      "0.7903888888888889\n",
      "['total_population', 'non_white_population', 'hispanic_population', 'foreign_born_population', 'median_household_income', 'mean_household_income', 'poverty_population', 'total_housing_units', 'units_paying_rent', 'agriculture_industry', 'information_industry', 'financial_industry', 'entertainment_industry', 'government_employee', 'degree', 'veteran_population', 'incarcerated', 'political_interest_2010', 'partisanship_2010', 'eigvec_17', 'eigvec_58']\n",
      "0.7905555555555556\n",
      "['total_population', 'non_white_population', 'hispanic_population', 'foreign_born_population', 'median_household_income', 'mean_household_income', 'poverty_population', 'total_housing_units', 'units_paying_rent', 'agriculture_industry', 'information_industry', 'financial_industry', 'entertainment_industry', 'government_employee', 'degree', 'veteran_population', 'incarcerated', 'political_interest_2010', 'partisanship_2010', 'eigvec_73', 'eigvec_70']\n",
      "0.7879444444444444\n",
      "['total_population', 'non_white_population', 'hispanic_population', 'foreign_born_population', 'median_household_income', 'mean_household_income', 'poverty_population', 'total_housing_units', 'units_paying_rent', 'agriculture_industry', 'information_industry', 'financial_industry', 'entertainment_industry', 'government_employee', 'degree', 'veteran_population', 'incarcerated', 'political_interest_2010', 'partisanship_2010', 'eigvec_31', 'eigvec_100']\n",
      "0.7877777777777778\n",
      "['total_population', 'non_white_population', 'hispanic_population', 'foreign_born_population', 'median_household_income', 'mean_household_income', 'poverty_population', 'total_housing_units', 'units_paying_rent', 'agriculture_industry', 'information_industry', 'financial_industry', 'entertainment_industry', 'government_employee', 'degree', 'veteran_population', 'incarcerated', 'political_interest_2010', 'partisanship_2010', 'eigvec_118', 'eigvec_59']\n",
      "0.7939444444444445\n",
      "['total_population', 'non_white_population', 'hispanic_population', 'foreign_born_population', 'median_household_income', 'mean_household_income', 'poverty_population', 'total_housing_units', 'units_paying_rent', 'agriculture_industry', 'information_industry', 'financial_industry', 'entertainment_industry', 'government_employee', 'degree', 'veteran_population', 'incarcerated', 'political_interest_2010', 'partisanship_2010', 'eigvec_63', 'eigvec_123']\n",
      "0.7876666666666666\n",
      "['total_population', 'non_white_population', 'hispanic_population', 'foreign_born_population', 'median_household_income', 'mean_household_income', 'poverty_population', 'total_housing_units', 'units_paying_rent', 'agriculture_industry', 'information_industry', 'financial_industry', 'entertainment_industry', 'government_employee', 'degree', 'veteran_population', 'incarcerated', 'political_interest_2010', 'partisanship_2010', 'eigvec_3', 'eigvec_2']\n",
      "0.7880555555555555\n",
      "['total_population', 'non_white_population', 'hispanic_population', 'foreign_born_population', 'median_household_income', 'mean_household_income', 'poverty_population', 'total_housing_units', 'units_paying_rent', 'agriculture_industry', 'information_industry', 'financial_industry', 'entertainment_industry', 'government_employee', 'degree', 'veteran_population', 'incarcerated', 'political_interest_2010', 'partisanship_2010', 'eigvec_91', 'eigvec_64']\n",
      "0.787\n",
      "['total_population', 'non_white_population', 'hispanic_population', 'foreign_born_population', 'median_household_income', 'mean_household_income', 'poverty_population', 'total_housing_units', 'units_paying_rent', 'agriculture_industry', 'information_industry', 'financial_industry', 'entertainment_industry', 'government_employee', 'degree', 'veteran_population', 'incarcerated', 'political_interest_2010', 'partisanship_2010', 'eigvec_155', 'eigvec_62']\n",
      "0.793\n",
      "['total_population', 'non_white_population', 'hispanic_population', 'foreign_born_population', 'median_household_income', 'mean_household_income', 'poverty_population', 'total_housing_units', 'units_paying_rent', 'agriculture_industry', 'information_industry', 'financial_industry', 'entertainment_industry', 'government_employee', 'degree', 'veteran_population', 'incarcerated', 'political_interest_2010', 'partisanship_2010', 'eigvec_95', 'eigvec_111']\n",
      "0.7866111111111111\n",
      "['total_population', 'non_white_population', 'hispanic_population', 'foreign_born_population', 'median_household_income', 'mean_household_income', 'poverty_population', 'total_housing_units', 'units_paying_rent', 'agriculture_industry', 'information_industry', 'financial_industry', 'entertainment_industry', 'government_employee', 'degree', 'veteran_population', 'incarcerated', 'political_interest_2010', 'partisanship_2010', 'eigvec_9', 'eigvec_135']\n",
      "0.7890555555555555\n",
      "['total_population', 'non_white_population', 'hispanic_population', 'foreign_born_population', 'median_household_income', 'mean_household_income', 'poverty_population', 'total_housing_units', 'units_paying_rent', 'agriculture_industry', 'information_industry', 'financial_industry', 'entertainment_industry', 'government_employee', 'degree', 'veteran_population', 'incarcerated', 'political_interest_2010', 'partisanship_2010', 'eigvec_112', 'eigvec_157']\n",
      "0.7942777777777777\n",
      "['total_population', 'non_white_population', 'hispanic_population', 'foreign_born_population', 'median_household_income', 'mean_household_income', 'poverty_population', 'total_housing_units', 'units_paying_rent', 'agriculture_industry', 'information_industry', 'financial_industry', 'entertainment_industry', 'government_employee', 'degree', 'veteran_population', 'incarcerated', 'political_interest_2010', 'partisanship_2010', 'eigvec_94', 'eigvec_30']\n",
      "0.7854444444444444\n",
      "['total_population', 'non_white_population', 'hispanic_population', 'foreign_born_population', 'median_household_income', 'mean_household_income', 'poverty_population', 'total_housing_units', 'units_paying_rent', 'agriculture_industry', 'information_industry', 'financial_industry', 'entertainment_industry', 'government_employee', 'degree', 'veteran_population', 'incarcerated', 'political_interest_2010', 'partisanship_2010', 'eigvec_32', 'eigvec_58']\n",
      "0.7892777777777777\n",
      "['total_population', 'non_white_population', 'hispanic_population', 'foreign_born_population', 'median_household_income', 'mean_household_income', 'poverty_population', 'total_housing_units', 'units_paying_rent', 'agriculture_industry', 'information_industry', 'financial_industry', 'entertainment_industry', 'government_employee', 'degree', 'veteran_population', 'incarcerated', 'political_interest_2010', 'partisanship_2010', 'eigvec_132', 'eigvec_20']\n",
      "0.7912222222222223\n",
      "[0.7903888888888889, 0.7905555555555556, 0.7879444444444444, 0.7877777777777778, 0.7939444444444445, 0.7876666666666666, 0.7880555555555555, 0.787, 0.793, 0.7866111111111111, 0.7890555555555555, 0.7942777777777777, 0.7854444444444444, 0.7892777777777777, 0.7912222222222223]\n",
      "['total_population', 'non_white_population', 'hispanic_population', 'foreign_born_population', 'median_household_income', 'mean_household_income', 'poverty_population', 'total_housing_units', 'units_paying_rent', 'agriculture_industry', 'information_industry', 'financial_industry', 'entertainment_industry', 'government_employee', 'degree', 'veteran_population', 'incarcerated', 'political_interest_2010', 'partisanship_2010', 'eigvec_112', 'eigvec_97', 'eigvec_40']\n",
      "0.7942777777777777\n",
      "['total_population', 'non_white_population', 'hispanic_population', 'foreign_born_population', 'median_household_income', 'mean_household_income', 'poverty_population', 'total_housing_units', 'units_paying_rent', 'agriculture_industry', 'information_industry', 'financial_industry', 'entertainment_industry', 'government_employee', 'degree', 'veteran_population', 'incarcerated', 'political_interest_2010', 'partisanship_2010', 'eigvec_16', 'eigvec_17', 'eigvec_136']\n",
      "0.7997777777777778\n",
      "['total_population', 'non_white_population', 'hispanic_population', 'foreign_born_population', 'median_household_income', 'mean_household_income', 'poverty_population', 'total_housing_units', 'units_paying_rent', 'agriculture_industry', 'information_industry', 'financial_industry', 'entertainment_industry', 'government_employee', 'degree', 'veteran_population', 'incarcerated', 'political_interest_2010', 'partisanship_2010', 'eigvec_103', 'eigvec_138', 'eigvec_88']\n",
      "0.7966666666666666\n",
      "['total_population', 'non_white_population', 'hispanic_population', 'foreign_born_population', 'median_household_income', 'mean_household_income', 'poverty_population', 'total_housing_units', 'units_paying_rent', 'agriculture_industry', 'information_industry', 'financial_industry', 'entertainment_industry', 'government_employee', 'degree', 'veteran_population', 'incarcerated', 'political_interest_2010', 'partisanship_2010', 'eigvec_19', 'eigvec_63', 'eigvec_125']\n",
      "0.7927777777777778\n",
      "['total_population', 'non_white_population', 'hispanic_population', 'foreign_born_population', 'median_household_income', 'mean_household_income', 'poverty_population', 'total_housing_units', 'units_paying_rent', 'agriculture_industry', 'information_industry', 'financial_industry', 'entertainment_industry', 'government_employee', 'degree', 'veteran_population', 'incarcerated', 'political_interest_2010', 'partisanship_2010', 'eigvec_158', 'eigvec_72', 'eigvec_4']\n",
      "0.7962222222222223\n",
      "['total_population', 'non_white_population', 'hispanic_population', 'foreign_born_population', 'median_household_income', 'mean_household_income', 'poverty_population', 'total_housing_units', 'units_paying_rent', 'agriculture_industry', 'information_industry', 'financial_industry', 'entertainment_industry', 'government_employee', 'degree', 'veteran_population', 'incarcerated', 'political_interest_2010', 'partisanship_2010', 'eigvec_14', 'eigvec_15', 'eigvec_19']\n",
      "0.7945555555555556\n",
      "['total_population', 'non_white_population', 'hispanic_population', 'foreign_born_population', 'median_household_income', 'mean_household_income', 'poverty_population', 'total_housing_units', 'units_paying_rent', 'agriculture_industry', 'information_industry', 'financial_industry', 'entertainment_industry', 'government_employee', 'degree', 'veteran_population', 'incarcerated', 'political_interest_2010', 'partisanship_2010', 'eigvec_149', 'eigvec_142', 'eigvec_72']\n",
      "0.7975\n",
      "['total_population', 'non_white_population', 'hispanic_population', 'foreign_born_population', 'median_household_income', 'mean_household_income', 'poverty_population', 'total_housing_units', 'units_paying_rent', 'agriculture_industry', 'information_industry', 'financial_industry', 'entertainment_industry', 'government_employee', 'degree', 'veteran_population', 'incarcerated', 'political_interest_2010', 'partisanship_2010', 'eigvec_132', 'eigvec_54', 'eigvec_68']\n",
      "0.7970555555555555\n",
      "['total_population', 'non_white_population', 'hispanic_population', 'foreign_born_population', 'median_household_income', 'mean_household_income', 'poverty_population', 'total_housing_units', 'units_paying_rent', 'agriculture_industry', 'information_industry', 'financial_industry', 'entertainment_industry', 'government_employee', 'degree', 'veteran_population', 'incarcerated', 'political_interest_2010', 'partisanship_2010', 'eigvec_92', 'eigvec_122', 'eigvec_91']\n",
      "0.7973888888888889\n",
      "['total_population', 'non_white_population', 'hispanic_population', 'foreign_born_population', 'median_household_income', 'mean_household_income', 'poverty_population', 'total_housing_units', 'units_paying_rent', 'agriculture_industry', 'information_industry', 'financial_industry', 'entertainment_industry', 'government_employee', 'degree', 'veteran_population', 'incarcerated', 'political_interest_2010', 'partisanship_2010', 'eigvec_81', 'eigvec_83', 'eigvec_117']\n",
      "0.7961666666666667\n",
      "['total_population', 'non_white_population', 'hispanic_population', 'foreign_born_population', 'median_household_income', 'mean_household_income', 'poverty_population', 'total_housing_units', 'units_paying_rent', 'agriculture_industry', 'information_industry', 'financial_industry', 'entertainment_industry', 'government_employee', 'degree', 'veteran_population', 'incarcerated', 'political_interest_2010', 'partisanship_2010', 'eigvec_95', 'eigvec_68', 'eigvec_154']\n",
      "0.7985555555555556\n",
      "['total_population', 'non_white_population', 'hispanic_population', 'foreign_born_population', 'median_household_income', 'mean_household_income', 'poverty_population', 'total_housing_units', 'units_paying_rent', 'agriculture_industry', 'information_industry', 'financial_industry', 'entertainment_industry', 'government_employee', 'degree', 'veteran_population', 'incarcerated', 'political_interest_2010', 'partisanship_2010', 'eigvec_102', 'eigvec_75', 'eigvec_71']\n",
      "0.7943888888888889\n",
      "['total_population', 'non_white_population', 'hispanic_population', 'foreign_born_population', 'median_household_income', 'mean_household_income', 'poverty_population', 'total_housing_units', 'units_paying_rent', 'agriculture_industry', 'information_industry', 'financial_industry', 'entertainment_industry', 'government_employee', 'degree', 'veteran_population', 'incarcerated', 'political_interest_2010', 'partisanship_2010', 'eigvec_115', 'eigvec_54', 'eigvec_4']\n",
      "0.7953333333333333\n",
      "['total_population', 'non_white_population', 'hispanic_population', 'foreign_born_population', 'median_household_income', 'mean_household_income', 'poverty_population', 'total_housing_units', 'units_paying_rent', 'agriculture_industry', 'information_industry', 'financial_industry', 'entertainment_industry', 'government_employee', 'degree', 'veteran_population', 'incarcerated', 'political_interest_2010', 'partisanship_2010', 'eigvec_120', 'eigvec_64', 'eigvec_31']\n",
      "0.7978888888888889\n",
      "['total_population', 'non_white_population', 'hispanic_population', 'foreign_born_population', 'median_household_income', 'mean_household_income', 'poverty_population', 'total_housing_units', 'units_paying_rent', 'agriculture_industry', 'information_industry', 'financial_industry', 'entertainment_industry', 'government_employee', 'degree', 'veteran_population', 'incarcerated', 'political_interest_2010', 'partisanship_2010', 'eigvec_1', 'eigvec_18', 'eigvec_56']\n",
      "0.7914444444444444\n",
      "[0.7942777777777777, 0.7997777777777778, 0.7966666666666666, 0.7927777777777778, 0.7962222222222223, 0.7945555555555556, 0.7975, 0.7970555555555555, 0.7973888888888889, 0.7961666666666667, 0.7985555555555556, 0.7943888888888889, 0.7953333333333333, 0.7978888888888889, 0.7914444444444444]\n",
      "['total_population', 'non_white_population', 'hispanic_population', 'foreign_born_population', 'median_household_income', 'mean_household_income', 'poverty_population', 'total_housing_units', 'units_paying_rent', 'agriculture_industry', 'information_industry', 'financial_industry', 'entertainment_industry', 'government_employee', 'degree', 'veteran_population', 'incarcerated', 'political_interest_2010', 'partisanship_2010', 'eigvec_56', 'eigvec_146', 'eigvec_45', 'eigvec_130']\n",
      "0.7973333333333333\n",
      "['total_population', 'non_white_population', 'hispanic_population', 'foreign_born_population', 'median_household_income', 'mean_household_income', 'poverty_population', 'total_housing_units', 'units_paying_rent', 'agriculture_industry', 'information_industry', 'financial_industry', 'entertainment_industry', 'government_employee', 'degree', 'veteran_population', 'incarcerated', 'political_interest_2010', 'partisanship_2010', 'eigvec_122', 'eigvec_51', 'eigvec_102', 'eigvec_135']\n",
      "0.8041666666666667\n",
      "['total_population', 'non_white_population', 'hispanic_population', 'foreign_born_population', 'median_household_income', 'mean_household_income', 'poverty_population', 'total_housing_units', 'units_paying_rent', 'agriculture_industry', 'information_industry', 'financial_industry', 'entertainment_industry', 'government_employee', 'degree', 'veteran_population', 'incarcerated', 'political_interest_2010', 'partisanship_2010', 'eigvec_51', 'eigvec_138', 'eigvec_46', 'eigvec_86']\n",
      "0.8005\n",
      "['total_population', 'non_white_population', 'hispanic_population', 'foreign_born_population', 'median_household_income', 'mean_household_income', 'poverty_population', 'total_housing_units', 'units_paying_rent', 'agriculture_industry', 'information_industry', 'financial_industry', 'entertainment_industry', 'government_employee', 'degree', 'veteran_population', 'incarcerated', 'political_interest_2010', 'partisanship_2010', 'eigvec_67', 'eigvec_25', 'eigvec_121', 'eigvec_131']\n",
      "0.7989444444444445\n",
      "['total_population', 'non_white_population', 'hispanic_population', 'foreign_born_population', 'median_household_income', 'mean_household_income', 'poverty_population', 'total_housing_units', 'units_paying_rent', 'agriculture_industry', 'information_industry', 'financial_industry', 'entertainment_industry', 'government_employee', 'degree', 'veteran_population', 'incarcerated', 'political_interest_2010', 'partisanship_2010', 'eigvec_59', 'eigvec_15', 'eigvec_102', 'eigvec_68']\n",
      "0.8016666666666666\n",
      "['total_population', 'non_white_population', 'hispanic_population', 'foreign_born_population', 'median_household_income', 'mean_household_income', 'poverty_population', 'total_housing_units', 'units_paying_rent', 'agriculture_industry', 'information_industry', 'financial_industry', 'entertainment_industry', 'government_employee', 'degree', 'veteran_population', 'incarcerated', 'political_interest_2010', 'partisanship_2010', 'eigvec_131', 'eigvec_61', 'eigvec_5', 'eigvec_72']\n",
      "0.7994444444444444\n",
      "['total_population', 'non_white_population', 'hispanic_population', 'foreign_born_population', 'median_household_income', 'mean_household_income', 'poverty_population', 'total_housing_units', 'units_paying_rent', 'agriculture_industry', 'information_industry', 'financial_industry', 'entertainment_industry', 'government_employee', 'degree', 'veteran_population', 'incarcerated', 'political_interest_2010', 'partisanship_2010', 'eigvec_88', 'eigvec_37', 'eigvec_114', 'eigvec_39']\n",
      "0.7987777777777778\n",
      "['total_population', 'non_white_population', 'hispanic_population', 'foreign_born_population', 'median_household_income', 'mean_household_income', 'poverty_population', 'total_housing_units', 'units_paying_rent', 'agriculture_industry', 'information_industry', 'financial_industry', 'entertainment_industry', 'government_employee', 'degree', 'veteran_population', 'incarcerated', 'political_interest_2010', 'partisanship_2010', 'eigvec_53', 'eigvec_141', 'eigvec_40', 'eigvec_36']\n",
      "0.8017777777777778\n",
      "['total_population', 'non_white_population', 'hispanic_population', 'foreign_born_population', 'median_household_income', 'mean_household_income', 'poverty_population', 'total_housing_units', 'units_paying_rent', 'agriculture_industry', 'information_industry', 'financial_industry', 'entertainment_industry', 'government_employee', 'degree', 'veteran_population', 'incarcerated', 'political_interest_2010', 'partisanship_2010', 'eigvec_45', 'eigvec_86', 'eigvec_73', 'eigvec_105']\n",
      "0.8022777777777778\n",
      "['total_population', 'non_white_population', 'hispanic_population', 'foreign_born_population', 'median_household_income', 'mean_household_income', 'poverty_population', 'total_housing_units', 'units_paying_rent', 'agriculture_industry', 'information_industry', 'financial_industry', 'entertainment_industry', 'government_employee', 'degree', 'veteran_population', 'incarcerated', 'political_interest_2010', 'partisanship_2010', 'eigvec_124', 'eigvec_59', 'eigvec_132', 'eigvec_56']\n",
      "0.7991111111111111\n",
      "['total_population', 'non_white_population', 'hispanic_population', 'foreign_born_population', 'median_household_income', 'mean_household_income', 'poverty_population', 'total_housing_units', 'units_paying_rent', 'agriculture_industry', 'information_industry', 'financial_industry', 'entertainment_industry', 'government_employee', 'degree', 'veteran_population', 'incarcerated', 'political_interest_2010', 'partisanship_2010', 'eigvec_7', 'eigvec_34', 'eigvec_115', 'eigvec_40']\n",
      "0.7988333333333333\n",
      "['total_population', 'non_white_population', 'hispanic_population', 'foreign_born_population', 'median_household_income', 'mean_household_income', 'poverty_population', 'total_housing_units', 'units_paying_rent', 'agriculture_industry', 'information_industry', 'financial_industry', 'entertainment_industry', 'government_employee', 'degree', 'veteran_population', 'incarcerated', 'political_interest_2010', 'partisanship_2010', 'eigvec_96', 'eigvec_10', 'eigvec_16', 'eigvec_21']\n",
      "0.8038333333333333\n",
      "['total_population', 'non_white_population', 'hispanic_population', 'foreign_born_population', 'median_household_income', 'mean_household_income', 'poverty_population', 'total_housing_units', 'units_paying_rent', 'agriculture_industry', 'information_industry', 'financial_industry', 'entertainment_industry', 'government_employee', 'degree', 'veteran_population', 'incarcerated', 'political_interest_2010', 'partisanship_2010', 'eigvec_59', 'eigvec_136', 'eigvec_17', 'eigvec_130']\n",
      "0.8037777777777778\n",
      "['total_population', 'non_white_population', 'hispanic_population', 'foreign_born_population', 'median_household_income', 'mean_household_income', 'poverty_population', 'total_housing_units', 'units_paying_rent', 'agriculture_industry', 'information_industry', 'financial_industry', 'entertainment_industry', 'government_employee', 'degree', 'veteran_population', 'incarcerated', 'political_interest_2010', 'partisanship_2010', 'eigvec_98', 'eigvec_124', 'eigvec_49', 'eigvec_63']\n",
      "0.7953888888888889\n",
      "['total_population', 'non_white_population', 'hispanic_population', 'foreign_born_population', 'median_household_income', 'mean_household_income', 'poverty_population', 'total_housing_units', 'units_paying_rent', 'agriculture_industry', 'information_industry', 'financial_industry', 'entertainment_industry', 'government_employee', 'degree', 'veteran_population', 'incarcerated', 'political_interest_2010', 'partisanship_2010', 'eigvec_15', 'eigvec_126', 'eigvec_26', 'eigvec_137']\n",
      "0.7977222222222222\n",
      "[0.7973333333333333, 0.8041666666666667, 0.8005, 0.7989444444444445, 0.8016666666666666, 0.7994444444444444, 0.7987777777777778, 0.8017777777777778, 0.8022777777777778, 0.7991111111111111, 0.7988333333333333, 0.8038333333333333, 0.8037777777777778, 0.7953888888888889, 0.7977222222222222]\n",
      "['total_population', 'non_white_population', 'hispanic_population', 'foreign_born_population', 'median_household_income', 'mean_household_income', 'poverty_population', 'total_housing_units', 'units_paying_rent', 'agriculture_industry', 'information_industry', 'financial_industry', 'entertainment_industry', 'government_employee', 'degree', 'veteran_population', 'incarcerated', 'political_interest_2010', 'partisanship_2010', 'eigvec_42', 'eigvec_150', 'eigvec_145', 'eigvec_49', 'eigvec_118']\n",
      "0.8060555555555555\n",
      "['total_population', 'non_white_population', 'hispanic_population', 'foreign_born_population', 'median_household_income', 'mean_household_income', 'poverty_population', 'total_housing_units', 'units_paying_rent', 'agriculture_industry', 'information_industry', 'financial_industry', 'entertainment_industry', 'government_employee', 'degree', 'veteran_population', 'incarcerated', 'political_interest_2010', 'partisanship_2010', 'eigvec_57', 'eigvec_53', 'eigvec_47', 'eigvec_97', 'eigvec_16']\n",
      "0.8001666666666667\n",
      "['total_population', 'non_white_population', 'hispanic_population', 'foreign_born_population', 'median_household_income', 'mean_household_income', 'poverty_population', 'total_housing_units', 'units_paying_rent', 'agriculture_industry', 'information_industry', 'financial_industry', 'entertainment_industry', 'government_employee', 'degree', 'veteran_population', 'incarcerated', 'political_interest_2010', 'partisanship_2010', 'eigvec_136', 'eigvec_62', 'eigvec_149', 'eigvec_63', 'eigvec_64']\n",
      "0.8027777777777778\n",
      "['total_population', 'non_white_population', 'hispanic_population', 'foreign_born_population', 'median_household_income', 'mean_household_income', 'poverty_population', 'total_housing_units', 'units_paying_rent', 'agriculture_industry', 'information_industry', 'financial_industry', 'entertainment_industry', 'government_employee', 'degree', 'veteran_population', 'incarcerated', 'political_interest_2010', 'partisanship_2010', 'eigvec_143', 'eigvec_83', 'eigvec_118', 'eigvec_153', 'eigvec_116']\n",
      "0.8073333333333333\n",
      "['total_population', 'non_white_population', 'hispanic_population', 'foreign_born_population', 'median_household_income', 'mean_household_income', 'poverty_population', 'total_housing_units', 'units_paying_rent', 'agriculture_industry', 'information_industry', 'financial_industry', 'entertainment_industry', 'government_employee', 'degree', 'veteran_population', 'incarcerated', 'political_interest_2010', 'partisanship_2010', 'eigvec_139', 'eigvec_66', 'eigvec_15', 'eigvec_45', 'eigvec_71']\n",
      "0.8031666666666667\n",
      "['total_population', 'non_white_population', 'hispanic_population', 'foreign_born_population', 'median_household_income', 'mean_household_income', 'poverty_population', 'total_housing_units', 'units_paying_rent', 'agriculture_industry', 'information_industry', 'financial_industry', 'entertainment_industry', 'government_employee', 'degree', 'veteran_population', 'incarcerated', 'political_interest_2010', 'partisanship_2010', 'eigvec_116', 'eigvec_153', 'eigvec_132', 'eigvec_147', 'eigvec_13']\n",
      "0.8078333333333333\n",
      "['total_population', 'non_white_population', 'hispanic_population', 'foreign_born_population', 'median_household_income', 'mean_household_income', 'poverty_population', 'total_housing_units', 'units_paying_rent', 'agriculture_industry', 'information_industry', 'financial_industry', 'entertainment_industry', 'government_employee', 'degree', 'veteran_population', 'incarcerated', 'political_interest_2010', 'partisanship_2010', 'eigvec_69', 'eigvec_76', 'eigvec_112', 'eigvec_17', 'eigvec_70']\n",
      "0.8028333333333333\n",
      "['total_population', 'non_white_population', 'hispanic_population', 'foreign_born_population', 'median_household_income', 'mean_household_income', 'poverty_population', 'total_housing_units', 'units_paying_rent', 'agriculture_industry', 'information_industry', 'financial_industry', 'entertainment_industry', 'government_employee', 'degree', 'veteran_population', 'incarcerated', 'political_interest_2010', 'partisanship_2010', 'eigvec_73', 'eigvec_130', 'eigvec_57', 'eigvec_47', 'eigvec_25']\n",
      "0.7996666666666666\n",
      "['total_population', 'non_white_population', 'hispanic_population', 'foreign_born_population', 'median_household_income', 'mean_household_income', 'poverty_population', 'total_housing_units', 'units_paying_rent', 'agriculture_industry', 'information_industry', 'financial_industry', 'entertainment_industry', 'government_employee', 'degree', 'veteran_population', 'incarcerated', 'political_interest_2010', 'partisanship_2010', 'eigvec_142', 'eigvec_80', 'eigvec_122', 'eigvec_70', 'eigvec_104']\n",
      "0.8057777777777778\n",
      "['total_population', 'non_white_population', 'hispanic_population', 'foreign_born_population', 'median_household_income', 'mean_household_income', 'poverty_population', 'total_housing_units', 'units_paying_rent', 'agriculture_industry', 'information_industry', 'financial_industry', 'entertainment_industry', 'government_employee', 'degree', 'veteran_population', 'incarcerated', 'political_interest_2010', 'partisanship_2010', 'eigvec_51', 'eigvec_96', 'eigvec_17', 'eigvec_47', 'eigvec_134']\n",
      "0.8063333333333333\n",
      "['total_population', 'non_white_population', 'hispanic_population', 'foreign_born_population', 'median_household_income', 'mean_household_income', 'poverty_population', 'total_housing_units', 'units_paying_rent', 'agriculture_industry', 'information_industry', 'financial_industry', 'entertainment_industry', 'government_employee', 'degree', 'veteran_population', 'incarcerated', 'political_interest_2010', 'partisanship_2010', 'eigvec_49', 'eigvec_50', 'eigvec_114', 'eigvec_5', 'eigvec_13']\n",
      "0.8035\n",
      "['total_population', 'non_white_population', 'hispanic_population', 'foreign_born_population', 'median_household_income', 'mean_household_income', 'poverty_population', 'total_housing_units', 'units_paying_rent', 'agriculture_industry', 'information_industry', 'financial_industry', 'entertainment_industry', 'government_employee', 'degree', 'veteran_population', 'incarcerated', 'political_interest_2010', 'partisanship_2010', 'eigvec_156', 'eigvec_101', 'eigvec_85', 'eigvec_41', 'eigvec_141']\n",
      "0.8079444444444445\n",
      "['total_population', 'non_white_population', 'hispanic_population', 'foreign_born_population', 'median_household_income', 'mean_household_income', 'poverty_population', 'total_housing_units', 'units_paying_rent', 'agriculture_industry', 'information_industry', 'financial_industry', 'entertainment_industry', 'government_employee', 'degree', 'veteran_population', 'incarcerated', 'political_interest_2010', 'partisanship_2010', 'eigvec_45', 'eigvec_82', 'eigvec_61', 'eigvec_90', 'eigvec_33']\n",
      "0.8049444444444445\n",
      "['total_population', 'non_white_population', 'hispanic_population', 'foreign_born_population', 'median_household_income', 'mean_household_income', 'poverty_population', 'total_housing_units', 'units_paying_rent', 'agriculture_industry', 'information_industry', 'financial_industry', 'entertainment_industry', 'government_employee', 'degree', 'veteran_population', 'incarcerated', 'political_interest_2010', 'partisanship_2010', 'eigvec_104', 'eigvec_158', 'eigvec_102', 'eigvec_132', 'eigvec_148']\n",
      "0.8041666666666667\n",
      "['total_population', 'non_white_population', 'hispanic_population', 'foreign_born_population', 'median_household_income', 'mean_household_income', 'poverty_population', 'total_housing_units', 'units_paying_rent', 'agriculture_industry', 'information_industry', 'financial_industry', 'entertainment_industry', 'government_employee', 'degree', 'veteran_population', 'incarcerated', 'political_interest_2010', 'partisanship_2010', 'eigvec_107', 'eigvec_88', 'eigvec_43', 'eigvec_94', 'eigvec_48']\n",
      "0.802\n",
      "[0.8060555555555555, 0.8001666666666667, 0.8027777777777778, 0.8073333333333333, 0.8031666666666667, 0.8078333333333333, 0.8028333333333333, 0.7996666666666666, 0.8057777777777778, 0.8063333333333333, 0.8035, 0.8079444444444445, 0.8049444444444445, 0.8041666666666667, 0.802]\n",
      "['total_population', 'non_white_population', 'hispanic_population', 'foreign_born_population', 'median_household_income', 'mean_household_income', 'poverty_population', 'total_housing_units', 'units_paying_rent', 'agriculture_industry', 'information_industry', 'financial_industry', 'entertainment_industry', 'government_employee', 'degree', 'veteran_population', 'incarcerated', 'political_interest_2010', 'partisanship_2010', 'eigvec_62', 'eigvec_3', 'eigvec_37', 'eigvec_67', 'eigvec_82', 'eigvec_51']\n",
      "0.8043888888888889\n",
      "['total_population', 'non_white_population', 'hispanic_population', 'foreign_born_population', 'median_household_income', 'mean_household_income', 'poverty_population', 'total_housing_units', 'units_paying_rent', 'agriculture_industry', 'information_industry', 'financial_industry', 'entertainment_industry', 'government_employee', 'degree', 'veteran_population', 'incarcerated', 'political_interest_2010', 'partisanship_2010', 'eigvec_60', 'eigvec_62', 'eigvec_14', 'eigvec_84', 'eigvec_28', 'eigvec_140']\n",
      "0.8068888888888889\n",
      "['total_population', 'non_white_population', 'hispanic_population', 'foreign_born_population', 'median_household_income', 'mean_household_income', 'poverty_population', 'total_housing_units', 'units_paying_rent', 'agriculture_industry', 'information_industry', 'financial_industry', 'entertainment_industry', 'government_employee', 'degree', 'veteran_population', 'incarcerated', 'political_interest_2010', 'partisanship_2010', 'eigvec_20', 'eigvec_89', 'eigvec_32', 'eigvec_27', 'eigvec_126', 'eigvec_154']\n",
      "0.8022222222222222\n",
      "['total_population', 'non_white_population', 'hispanic_population', 'foreign_born_population', 'median_household_income', 'mean_household_income', 'poverty_population', 'total_housing_units', 'units_paying_rent', 'agriculture_industry', 'information_industry', 'financial_industry', 'entertainment_industry', 'government_employee', 'degree', 'veteran_population', 'incarcerated', 'political_interest_2010', 'partisanship_2010', 'eigvec_21', 'eigvec_119', 'eigvec_144', 'eigvec_159', 'eigvec_79', 'eigvec_117']\n",
      "0.8041111111111111\n",
      "['total_population', 'non_white_population', 'hispanic_population', 'foreign_born_population', 'median_household_income', 'mean_household_income', 'poverty_population', 'total_housing_units', 'units_paying_rent', 'agriculture_industry', 'information_industry', 'financial_industry', 'entertainment_industry', 'government_employee', 'degree', 'veteran_population', 'incarcerated', 'political_interest_2010', 'partisanship_2010', 'eigvec_67', 'eigvec_137', 'eigvec_98', 'eigvec_131', 'eigvec_116', 'eigvec_71']\n",
      "0.8036111111111112\n",
      "['total_population', 'non_white_population', 'hispanic_population', 'foreign_born_population', 'median_household_income', 'mean_household_income', 'poverty_population', 'total_housing_units', 'units_paying_rent', 'agriculture_industry', 'information_industry', 'financial_industry', 'entertainment_industry', 'government_employee', 'degree', 'veteran_population', 'incarcerated', 'political_interest_2010', 'partisanship_2010', 'eigvec_119', 'eigvec_61', 'eigvec_58', 'eigvec_37', 'eigvec_53', 'eigvec_159']\n",
      "0.8056666666666666\n",
      "['total_population', 'non_white_population', 'hispanic_population', 'foreign_born_population', 'median_household_income', 'mean_household_income', 'poverty_population', 'total_housing_units', 'units_paying_rent', 'agriculture_industry', 'information_industry', 'financial_industry', 'entertainment_industry', 'government_employee', 'degree', 'veteran_population', 'incarcerated', 'political_interest_2010', 'partisanship_2010', 'eigvec_110', 'eigvec_149', 'eigvec_46', 'eigvec_31', 'eigvec_41', 'eigvec_159']\n",
      "0.8069444444444445\n",
      "['total_population', 'non_white_population', 'hispanic_population', 'foreign_born_population', 'median_household_income', 'mean_household_income', 'poverty_population', 'total_housing_units', 'units_paying_rent', 'agriculture_industry', 'information_industry', 'financial_industry', 'entertainment_industry', 'government_employee', 'degree', 'veteran_population', 'incarcerated', 'political_interest_2010', 'partisanship_2010', 'eigvec_103', 'eigvec_136', 'eigvec_119', 'eigvec_157', 'eigvec_144', 'eigvec_7']\n",
      "0.8103333333333333\n",
      "['total_population', 'non_white_population', 'hispanic_population', 'foreign_born_population', 'median_household_income', 'mean_household_income', 'poverty_population', 'total_housing_units', 'units_paying_rent', 'agriculture_industry', 'information_industry', 'financial_industry', 'entertainment_industry', 'government_employee', 'degree', 'veteran_population', 'incarcerated', 'political_interest_2010', 'partisanship_2010', 'eigvec_49', 'eigvec_35', 'eigvec_153', 'eigvec_38', 'eigvec_67', 'eigvec_144']\n",
      "0.8087222222222222\n",
      "['total_population', 'non_white_population', 'hispanic_population', 'foreign_born_population', 'median_household_income', 'mean_household_income', 'poverty_population', 'total_housing_units', 'units_paying_rent', 'agriculture_industry', 'information_industry', 'financial_industry', 'entertainment_industry', 'government_employee', 'degree', 'veteran_population', 'incarcerated', 'political_interest_2010', 'partisanship_2010', 'eigvec_26', 'eigvec_77', 'eigvec_41', 'eigvec_158', 'eigvec_88', 'eigvec_79']\n",
      "0.8045\n",
      "['total_population', 'non_white_population', 'hispanic_population', 'foreign_born_population', 'median_household_income', 'mean_household_income', 'poverty_population', 'total_housing_units', 'units_paying_rent', 'agriculture_industry', 'information_industry', 'financial_industry', 'entertainment_industry', 'government_employee', 'degree', 'veteran_population', 'incarcerated', 'political_interest_2010', 'partisanship_2010', 'eigvec_21', 'eigvec_145', 'eigvec_28', 'eigvec_49', 'eigvec_148', 'eigvec_8']\n",
      "0.8074444444444444\n",
      "['total_population', 'non_white_population', 'hispanic_population', 'foreign_born_population', 'median_household_income', 'mean_household_income', 'poverty_population', 'total_housing_units', 'units_paying_rent', 'agriculture_industry', 'information_industry', 'financial_industry', 'entertainment_industry', 'government_employee', 'degree', 'veteran_population', 'incarcerated', 'political_interest_2010', 'partisanship_2010', 'eigvec_15', 'eigvec_33', 'eigvec_112', 'eigvec_58', 'eigvec_45', 'eigvec_87']\n",
      "0.8057777777777778\n",
      "['total_population', 'non_white_population', 'hispanic_population', 'foreign_born_population', 'median_household_income', 'mean_household_income', 'poverty_population', 'total_housing_units', 'units_paying_rent', 'agriculture_industry', 'information_industry', 'financial_industry', 'entertainment_industry', 'government_employee', 'degree', 'veteran_population', 'incarcerated', 'political_interest_2010', 'partisanship_2010', 'eigvec_73', 'eigvec_59', 'eigvec_26', 'eigvec_155', 'eigvec_29', 'eigvec_37']\n",
      "0.8088888888888889\n",
      "['total_population', 'non_white_population', 'hispanic_population', 'foreign_born_population', 'median_household_income', 'mean_household_income', 'poverty_population', 'total_housing_units', 'units_paying_rent', 'agriculture_industry', 'information_industry', 'financial_industry', 'entertainment_industry', 'government_employee', 'degree', 'veteran_population', 'incarcerated', 'political_interest_2010', 'partisanship_2010', 'eigvec_54', 'eigvec_37', 'eigvec_57', 'eigvec_65', 'eigvec_52', 'eigvec_105']\n",
      "0.8064444444444444\n",
      "['total_population', 'non_white_population', 'hispanic_population', 'foreign_born_population', 'median_household_income', 'mean_household_income', 'poverty_population', 'total_housing_units', 'units_paying_rent', 'agriculture_industry', 'information_industry', 'financial_industry', 'entertainment_industry', 'government_employee', 'degree', 'veteran_population', 'incarcerated', 'political_interest_2010', 'partisanship_2010', 'eigvec_31', 'eigvec_85', 'eigvec_128', 'eigvec_7', 'eigvec_10', 'eigvec_11']\n",
      "0.8059444444444445\n",
      "[0.8043888888888889, 0.8068888888888889, 0.8022222222222222, 0.8041111111111111, 0.8036111111111112, 0.8056666666666666, 0.8069444444444445, 0.8103333333333333, 0.8087222222222222, 0.8045, 0.8074444444444444, 0.8057777777777778, 0.8088888888888889, 0.8064444444444444, 0.8059444444444445]\n",
      "['total_population', 'non_white_population', 'hispanic_population', 'foreign_born_population', 'median_household_income', 'mean_household_income', 'poverty_population', 'total_housing_units', 'units_paying_rent', 'agriculture_industry', 'information_industry', 'financial_industry', 'entertainment_industry', 'government_employee', 'degree', 'veteran_population', 'incarcerated', 'political_interest_2010', 'partisanship_2010', 'eigvec_57', 'eigvec_62', 'eigvec_56', 'eigvec_54', 'eigvec_145', 'eigvec_27', 'eigvec_61']\n",
      "0.8077222222222222\n",
      "['total_population', 'non_white_population', 'hispanic_population', 'foreign_born_population', 'median_household_income', 'mean_household_income', 'poverty_population', 'total_housing_units', 'units_paying_rent', 'agriculture_industry', 'information_industry', 'financial_industry', 'entertainment_industry', 'government_employee', 'degree', 'veteran_population', 'incarcerated', 'political_interest_2010', 'partisanship_2010', 'eigvec_81', 'eigvec_123', 'eigvec_108', 'eigvec_18', 'eigvec_155', 'eigvec_86', 'eigvec_53']\n",
      "0.8086111111111111\n",
      "['total_population', 'non_white_population', 'hispanic_population', 'foreign_born_population', 'median_household_income', 'mean_household_income', 'poverty_population', 'total_housing_units', 'units_paying_rent', 'agriculture_industry', 'information_industry', 'financial_industry', 'entertainment_industry', 'government_employee', 'degree', 'veteran_population', 'incarcerated', 'political_interest_2010', 'partisanship_2010', 'eigvec_113', 'eigvec_10', 'eigvec_90', 'eigvec_137', 'eigvec_156', 'eigvec_88', 'eigvec_79']\n",
      "0.8114444444444444\n",
      "['total_population', 'non_white_population', 'hispanic_population', 'foreign_born_population', 'median_household_income', 'mean_household_income', 'poverty_population', 'total_housing_units', 'units_paying_rent', 'agriculture_industry', 'information_industry', 'financial_industry', 'entertainment_industry', 'government_employee', 'degree', 'veteran_population', 'incarcerated', 'political_interest_2010', 'partisanship_2010', 'eigvec_90', 'eigvec_66', 'eigvec_40', 'eigvec_23', 'eigvec_7', 'eigvec_48', 'eigvec_75']\n",
      "0.8082777777777778\n",
      "['total_population', 'non_white_population', 'hispanic_population', 'foreign_born_population', 'median_household_income', 'mean_household_income', 'poverty_population', 'total_housing_units', 'units_paying_rent', 'agriculture_industry', 'information_industry', 'financial_industry', 'entertainment_industry', 'government_employee', 'degree', 'veteran_population', 'incarcerated', 'political_interest_2010', 'partisanship_2010', 'eigvec_127', 'eigvec_94', 'eigvec_140', 'eigvec_122', 'eigvec_37', 'eigvec_38', 'eigvec_153']\n",
      "0.8092222222222222\n",
      "['total_population', 'non_white_population', 'hispanic_population', 'foreign_born_population', 'median_household_income', 'mean_household_income', 'poverty_population', 'total_housing_units', 'units_paying_rent', 'agriculture_industry', 'information_industry', 'financial_industry', 'entertainment_industry', 'government_employee', 'degree', 'veteran_population', 'incarcerated', 'political_interest_2010', 'partisanship_2010', 'eigvec_78', 'eigvec_149', 'eigvec_110', 'eigvec_53', 'eigvec_127', 'eigvec_18', 'eigvec_48']\n",
      "0.8061666666666667\n",
      "['total_population', 'non_white_population', 'hispanic_population', 'foreign_born_population', 'median_household_income', 'mean_household_income', 'poverty_population', 'total_housing_units', 'units_paying_rent', 'agriculture_industry', 'information_industry', 'financial_industry', 'entertainment_industry', 'government_employee', 'degree', 'veteran_population', 'incarcerated', 'political_interest_2010', 'partisanship_2010', 'eigvec_116', 'eigvec_15', 'eigvec_131', 'eigvec_70', 'eigvec_27', 'eigvec_142', 'eigvec_125']\n",
      "0.8087777777777778\n",
      "['total_population', 'non_white_population', 'hispanic_population', 'foreign_born_population', 'median_household_income', 'mean_household_income', 'poverty_population', 'total_housing_units', 'units_paying_rent', 'agriculture_industry', 'information_industry', 'financial_industry', 'entertainment_industry', 'government_employee', 'degree', 'veteran_population', 'incarcerated', 'political_interest_2010', 'partisanship_2010', 'eigvec_143', 'eigvec_116', 'eigvec_7', 'eigvec_76', 'eigvec_127', 'eigvec_53', 'eigvec_32']\n",
      "0.8068333333333333\n",
      "['total_population', 'non_white_population', 'hispanic_population', 'foreign_born_population', 'median_household_income', 'mean_household_income', 'poverty_population', 'total_housing_units', 'units_paying_rent', 'agriculture_industry', 'information_industry', 'financial_industry', 'entertainment_industry', 'government_employee', 'degree', 'veteran_population', 'incarcerated', 'political_interest_2010', 'partisanship_2010', 'eigvec_93', 'eigvec_78', 'eigvec_139', 'eigvec_24', 'eigvec_30', 'eigvec_33', 'eigvec_56']\n",
      "0.8052777777777778\n",
      "['total_population', 'non_white_population', 'hispanic_population', 'foreign_born_population', 'median_household_income', 'mean_household_income', 'poverty_population', 'total_housing_units', 'units_paying_rent', 'agriculture_industry', 'information_industry', 'financial_industry', 'entertainment_industry', 'government_employee', 'degree', 'veteran_population', 'incarcerated', 'political_interest_2010', 'partisanship_2010', 'eigvec_28', 'eigvec_22', 'eigvec_84', 'eigvec_7', 'eigvec_156', 'eigvec_37', 'eigvec_27']\n",
      "0.8092222222222222\n",
      "['total_population', 'non_white_population', 'hispanic_population', 'foreign_born_population', 'median_household_income', 'mean_household_income', 'poverty_population', 'total_housing_units', 'units_paying_rent', 'agriculture_industry', 'information_industry', 'financial_industry', 'entertainment_industry', 'government_employee', 'degree', 'veteran_population', 'incarcerated', 'political_interest_2010', 'partisanship_2010', 'eigvec_31', 'eigvec_14', 'eigvec_53', 'eigvec_156', 'eigvec_39', 'eigvec_130', 'eigvec_104']\n",
      "0.8066666666666666\n",
      "['total_population', 'non_white_population', 'hispanic_population', 'foreign_born_population', 'median_household_income', 'mean_household_income', 'poverty_population', 'total_housing_units', 'units_paying_rent', 'agriculture_industry', 'information_industry', 'financial_industry', 'entertainment_industry', 'government_employee', 'degree', 'veteran_population', 'incarcerated', 'political_interest_2010', 'partisanship_2010', 'eigvec_67', 'eigvec_137', 'eigvec_116', 'eigvec_34', 'eigvec_127', 'eigvec_85', 'eigvec_6']\n",
      "0.8091111111111111\n",
      "['total_population', 'non_white_population', 'hispanic_population', 'foreign_born_population', 'median_household_income', 'mean_household_income', 'poverty_population', 'total_housing_units', 'units_paying_rent', 'agriculture_industry', 'information_industry', 'financial_industry', 'entertainment_industry', 'government_employee', 'degree', 'veteran_population', 'incarcerated', 'political_interest_2010', 'partisanship_2010', 'eigvec_11', 'eigvec_104', 'eigvec_32', 'eigvec_9', 'eigvec_134', 'eigvec_132', 'eigvec_89']\n",
      "0.8055555555555556\n",
      "['total_population', 'non_white_population', 'hispanic_population', 'foreign_born_population', 'median_household_income', 'mean_household_income', 'poverty_population', 'total_housing_units', 'units_paying_rent', 'agriculture_industry', 'information_industry', 'financial_industry', 'entertainment_industry', 'government_employee', 'degree', 'veteran_population', 'incarcerated', 'political_interest_2010', 'partisanship_2010', 'eigvec_69', 'eigvec_97', 'eigvec_99', 'eigvec_13', 'eigvec_14', 'eigvec_11', 'eigvec_25']\n",
      "0.8090555555555555\n",
      "['total_population', 'non_white_population', 'hispanic_population', 'foreign_born_population', 'median_household_income', 'mean_household_income', 'poverty_population', 'total_housing_units', 'units_paying_rent', 'agriculture_industry', 'information_industry', 'financial_industry', 'entertainment_industry', 'government_employee', 'degree', 'veteran_population', 'incarcerated', 'political_interest_2010', 'partisanship_2010', 'eigvec_105', 'eigvec_98', 'eigvec_102', 'eigvec_157', 'eigvec_111', 'eigvec_113', 'eigvec_74']\n",
      "0.8118888888888889\n",
      "[0.8077222222222222, 0.8086111111111111, 0.8114444444444444, 0.8082777777777778, 0.8092222222222222, 0.8061666666666667, 0.8087777777777778, 0.8068333333333333, 0.8052777777777778, 0.8092222222222222, 0.8066666666666666, 0.8091111111111111, 0.8055555555555556, 0.8090555555555555, 0.8118888888888889]\n",
      "['total_population', 'non_white_population', 'hispanic_population', 'foreign_born_population', 'median_household_income', 'mean_household_income', 'poverty_population', 'total_housing_units', 'units_paying_rent', 'agriculture_industry', 'information_industry', 'financial_industry', 'entertainment_industry', 'government_employee', 'degree', 'veteran_population', 'incarcerated', 'political_interest_2010', 'partisanship_2010', 'eigvec_135', 'eigvec_104', 'eigvec_96', 'eigvec_109', 'eigvec_158', 'eigvec_144', 'eigvec_77', 'eigvec_93']\n",
      "0.8058333333333333\n",
      "['total_population', 'non_white_population', 'hispanic_population', 'foreign_born_population', 'median_household_income', 'mean_household_income', 'poverty_population', 'total_housing_units', 'units_paying_rent', 'agriculture_industry', 'information_industry', 'financial_industry', 'entertainment_industry', 'government_employee', 'degree', 'veteran_population', 'incarcerated', 'political_interest_2010', 'partisanship_2010', 'eigvec_121', 'eigvec_31', 'eigvec_97', 'eigvec_87', 'eigvec_30', 'eigvec_135', 'eigvec_159', 'eigvec_120']\n",
      "0.8121666666666667\n",
      "['total_population', 'non_white_population', 'hispanic_population', 'foreign_born_population', 'median_household_income', 'mean_household_income', 'poverty_population', 'total_housing_units', 'units_paying_rent', 'agriculture_industry', 'information_industry', 'financial_industry', 'entertainment_industry', 'government_employee', 'degree', 'veteran_population', 'incarcerated', 'political_interest_2010', 'partisanship_2010', 'eigvec_146', 'eigvec_69', 'eigvec_124', 'eigvec_46', 'eigvec_11', 'eigvec_127', 'eigvec_108', 'eigvec_10']\n",
      "0.8087777777777778\n",
      "['total_population', 'non_white_population', 'hispanic_population', 'foreign_born_population', 'median_household_income', 'mean_household_income', 'poverty_population', 'total_housing_units', 'units_paying_rent', 'agriculture_industry', 'information_industry', 'financial_industry', 'entertainment_industry', 'government_employee', 'degree', 'veteran_population', 'incarcerated', 'political_interest_2010', 'partisanship_2010', 'eigvec_127', 'eigvec_3', 'eigvec_40', 'eigvec_120', 'eigvec_83', 'eigvec_25', 'eigvec_102', 'eigvec_79']\n",
      "0.8112222222222222\n",
      "['total_population', 'non_white_population', 'hispanic_population', 'foreign_born_population', 'median_household_income', 'mean_household_income', 'poverty_population', 'total_housing_units', 'units_paying_rent', 'agriculture_industry', 'information_industry', 'financial_industry', 'entertainment_industry', 'government_employee', 'degree', 'veteran_population', 'incarcerated', 'political_interest_2010', 'partisanship_2010', 'eigvec_64', 'eigvec_151', 'eigvec_75', 'eigvec_126', 'eigvec_73', 'eigvec_116', 'eigvec_146', 'eigvec_140']\n",
      "0.8098333333333333\n",
      "['total_population', 'non_white_population', 'hispanic_population', 'foreign_born_population', 'median_household_income', 'mean_household_income', 'poverty_population', 'total_housing_units', 'units_paying_rent', 'agriculture_industry', 'information_industry', 'financial_industry', 'entertainment_industry', 'government_employee', 'degree', 'veteran_population', 'incarcerated', 'political_interest_2010', 'partisanship_2010', 'eigvec_26', 'eigvec_125', 'eigvec_21', 'eigvec_116', 'eigvec_30', 'eigvec_80', 'eigvec_62', 'eigvec_24']\n",
      "0.8111666666666667\n",
      "['total_population', 'non_white_population', 'hispanic_population', 'foreign_born_population', 'median_household_income', 'mean_household_income', 'poverty_population', 'total_housing_units', 'units_paying_rent', 'agriculture_industry', 'information_industry', 'financial_industry', 'entertainment_industry', 'government_employee', 'degree', 'veteran_population', 'incarcerated', 'political_interest_2010', 'partisanship_2010', 'eigvec_158', 'eigvec_49', 'eigvec_30', 'eigvec_87', 'eigvec_64', 'eigvec_122', 'eigvec_113', 'eigvec_89']\n",
      "0.8053888888888889\n",
      "['total_population', 'non_white_population', 'hispanic_population', 'foreign_born_population', 'median_household_income', 'mean_household_income', 'poverty_population', 'total_housing_units', 'units_paying_rent', 'agriculture_industry', 'information_industry', 'financial_industry', 'entertainment_industry', 'government_employee', 'degree', 'veteran_population', 'incarcerated', 'political_interest_2010', 'partisanship_2010', 'eigvec_31', 'eigvec_87', 'eigvec_49', 'eigvec_60', 'eigvec_79', 'eigvec_130', 'eigvec_75', 'eigvec_93']\n",
      "0.8059444444444445\n",
      "['total_population', 'non_white_population', 'hispanic_population', 'foreign_born_population', 'median_household_income', 'mean_household_income', 'poverty_population', 'total_housing_units', 'units_paying_rent', 'agriculture_industry', 'information_industry', 'financial_industry', 'entertainment_industry', 'government_employee', 'degree', 'veteran_population', 'incarcerated', 'political_interest_2010', 'partisanship_2010', 'eigvec_63', 'eigvec_22', 'eigvec_72', 'eigvec_43', 'eigvec_98', 'eigvec_88', 'eigvec_127', 'eigvec_107']\n",
      "0.8101666666666667\n",
      "['total_population', 'non_white_population', 'hispanic_population', 'foreign_born_population', 'median_household_income', 'mean_household_income', 'poverty_population', 'total_housing_units', 'units_paying_rent', 'agriculture_industry', 'information_industry', 'financial_industry', 'entertainment_industry', 'government_employee', 'degree', 'veteran_population', 'incarcerated', 'political_interest_2010', 'partisanship_2010', 'eigvec_109', 'eigvec_100', 'eigvec_152', 'eigvec_154', 'eigvec_69', 'eigvec_57', 'eigvec_116', 'eigvec_38']\n",
      "0.8110555555555555\n",
      "['total_population', 'non_white_population', 'hispanic_population', 'foreign_born_population', 'median_household_income', 'mean_household_income', 'poverty_population', 'total_housing_units', 'units_paying_rent', 'agriculture_industry', 'information_industry', 'financial_industry', 'entertainment_industry', 'government_employee', 'degree', 'veteran_population', 'incarcerated', 'political_interest_2010', 'partisanship_2010', 'eigvec_97', 'eigvec_15', 'eigvec_10', 'eigvec_153', 'eigvec_122', 'eigvec_5', 'eigvec_126', 'eigvec_46']\n",
      "0.8083333333333333\n",
      "['total_population', 'non_white_population', 'hispanic_population', 'foreign_born_population', 'median_household_income', 'mean_household_income', 'poverty_population', 'total_housing_units', 'units_paying_rent', 'agriculture_industry', 'information_industry', 'financial_industry', 'entertainment_industry', 'government_employee', 'degree', 'veteran_population', 'incarcerated', 'political_interest_2010', 'partisanship_2010', 'eigvec_144', 'eigvec_42', 'eigvec_87', 'eigvec_79', 'eigvec_9', 'eigvec_21', 'eigvec_19', 'eigvec_59']\n",
      "0.811\n",
      "['total_population', 'non_white_population', 'hispanic_population', 'foreign_born_population', 'median_household_income', 'mean_household_income', 'poverty_population', 'total_housing_units', 'units_paying_rent', 'agriculture_industry', 'information_industry', 'financial_industry', 'entertainment_industry', 'government_employee', 'degree', 'veteran_population', 'incarcerated', 'political_interest_2010', 'partisanship_2010', 'eigvec_13', 'eigvec_102', 'eigvec_14', 'eigvec_128', 'eigvec_21', 'eigvec_51', 'eigvec_95', 'eigvec_135']\n",
      "0.8117222222222222\n",
      "['total_population', 'non_white_population', 'hispanic_population', 'foreign_born_population', 'median_household_income', 'mean_household_income', 'poverty_population', 'total_housing_units', 'units_paying_rent', 'agriculture_industry', 'information_industry', 'financial_industry', 'entertainment_industry', 'government_employee', 'degree', 'veteran_population', 'incarcerated', 'political_interest_2010', 'partisanship_2010', 'eigvec_154', 'eigvec_40', 'eigvec_45', 'eigvec_7', 'eigvec_142', 'eigvec_68', 'eigvec_47', 'eigvec_5']\n",
      "0.8102777777777778\n",
      "['total_population', 'non_white_population', 'hispanic_population', 'foreign_born_population', 'median_household_income', 'mean_household_income', 'poverty_population', 'total_housing_units', 'units_paying_rent', 'agriculture_industry', 'information_industry', 'financial_industry', 'entertainment_industry', 'government_employee', 'degree', 'veteran_population', 'incarcerated', 'political_interest_2010', 'partisanship_2010', 'eigvec_8', 'eigvec_5', 'eigvec_144', 'eigvec_63', 'eigvec_29', 'eigvec_85', 'eigvec_139', 'eigvec_19']\n",
      "0.8083888888888889\n",
      "[0.8058333333333333, 0.8121666666666667, 0.8087777777777778, 0.8112222222222222, 0.8098333333333333, 0.8111666666666667, 0.8053888888888889, 0.8059444444444445, 0.8101666666666667, 0.8110555555555555, 0.8083333333333333, 0.811, 0.8117222222222222, 0.8102777777777778, 0.8083888888888889]\n",
      "['total_population', 'non_white_population', 'hispanic_population', 'foreign_born_population', 'median_household_income', 'mean_household_income', 'poverty_population', 'total_housing_units', 'units_paying_rent', 'agriculture_industry', 'information_industry', 'financial_industry', 'entertainment_industry', 'government_employee', 'degree', 'veteran_population', 'incarcerated', 'political_interest_2010', 'partisanship_2010', 'eigvec_83', 'eigvec_157', 'eigvec_130', 'eigvec_57', 'eigvec_106', 'eigvec_128', 'eigvec_127', 'eigvec_14', 'eigvec_150']\n",
      "0.8132222222222222\n",
      "['total_population', 'non_white_population', 'hispanic_population', 'foreign_born_population', 'median_household_income', 'mean_household_income', 'poverty_population', 'total_housing_units', 'units_paying_rent', 'agriculture_industry', 'information_industry', 'financial_industry', 'entertainment_industry', 'government_employee', 'degree', 'veteran_population', 'incarcerated', 'political_interest_2010', 'partisanship_2010', 'eigvec_6', 'eigvec_47', 'eigvec_56', 'eigvec_83', 'eigvec_49', 'eigvec_133', 'eigvec_64', 'eigvec_90', 'eigvec_116']\n",
      "0.8108888888888889\n",
      "['total_population', 'non_white_population', 'hispanic_population', 'foreign_born_population', 'median_household_income', 'mean_household_income', 'poverty_population', 'total_housing_units', 'units_paying_rent', 'agriculture_industry', 'information_industry', 'financial_industry', 'entertainment_industry', 'government_employee', 'degree', 'veteran_population', 'incarcerated', 'political_interest_2010', 'partisanship_2010', 'eigvec_44', 'eigvec_52', 'eigvec_105', 'eigvec_89', 'eigvec_8', 'eigvec_48', 'eigvec_104', 'eigvec_38', 'eigvec_4']\n",
      "0.8075\n",
      "['total_population', 'non_white_population', 'hispanic_population', 'foreign_born_population', 'median_household_income', 'mean_household_income', 'poverty_population', 'total_housing_units', 'units_paying_rent', 'agriculture_industry', 'information_industry', 'financial_industry', 'entertainment_industry', 'government_employee', 'degree', 'veteran_population', 'incarcerated', 'political_interest_2010', 'partisanship_2010', 'eigvec_82', 'eigvec_132', 'eigvec_66', 'eigvec_101', 'eigvec_52', 'eigvec_144', 'eigvec_143', 'eigvec_60', 'eigvec_126']\n",
      "0.8083333333333333\n",
      "['total_population', 'non_white_population', 'hispanic_population', 'foreign_born_population', 'median_household_income', 'mean_household_income', 'poverty_population', 'total_housing_units', 'units_paying_rent', 'agriculture_industry', 'information_industry', 'financial_industry', 'entertainment_industry', 'government_employee', 'degree', 'veteran_population', 'incarcerated', 'political_interest_2010', 'partisanship_2010', 'eigvec_147', 'eigvec_71', 'eigvec_44', 'eigvec_119', 'eigvec_145', 'eigvec_48', 'eigvec_79', 'eigvec_146', 'eigvec_31']\n",
      "0.808\n",
      "['total_population', 'non_white_population', 'hispanic_population', 'foreign_born_population', 'median_household_income', 'mean_household_income', 'poverty_population', 'total_housing_units', 'units_paying_rent', 'agriculture_industry', 'information_industry', 'financial_industry', 'entertainment_industry', 'government_employee', 'degree', 'veteran_population', 'incarcerated', 'political_interest_2010', 'partisanship_2010', 'eigvec_31', 'eigvec_138', 'eigvec_6', 'eigvec_75', 'eigvec_124', 'eigvec_130', 'eigvec_117', 'eigvec_65', 'eigvec_61']\n",
      "0.8106111111111111\n",
      "['total_population', 'non_white_population', 'hispanic_population', 'foreign_born_population', 'median_household_income', 'mean_household_income', 'poverty_population', 'total_housing_units', 'units_paying_rent', 'agriculture_industry', 'information_industry', 'financial_industry', 'entertainment_industry', 'government_employee', 'degree', 'veteran_population', 'incarcerated', 'political_interest_2010', 'partisanship_2010', 'eigvec_143', 'eigvec_102', 'eigvec_74', 'eigvec_3', 'eigvec_90', 'eigvec_53', 'eigvec_93', 'eigvec_21', 'eigvec_41']\n",
      "0.811\n",
      "['total_population', 'non_white_population', 'hispanic_population', 'foreign_born_population', 'median_household_income', 'mean_household_income', 'poverty_population', 'total_housing_units', 'units_paying_rent', 'agriculture_industry', 'information_industry', 'financial_industry', 'entertainment_industry', 'government_employee', 'degree', 'veteran_population', 'incarcerated', 'political_interest_2010', 'partisanship_2010', 'eigvec_41', 'eigvec_57', 'eigvec_43', 'eigvec_99', 'eigvec_89', 'eigvec_26', 'eigvec_135', 'eigvec_110', 'eigvec_80']\n",
      "0.8091111111111111\n",
      "['total_population', 'non_white_population', 'hispanic_population', 'foreign_born_population', 'median_household_income', 'mean_household_income', 'poverty_population', 'total_housing_units', 'units_paying_rent', 'agriculture_industry', 'information_industry', 'financial_industry', 'entertainment_industry', 'government_employee', 'degree', 'veteran_population', 'incarcerated', 'political_interest_2010', 'partisanship_2010', 'eigvec_25', 'eigvec_113', 'eigvec_27', 'eigvec_38', 'eigvec_30', 'eigvec_63', 'eigvec_15', 'eigvec_134', 'eigvec_119']\n",
      "0.8072777777777778\n",
      "['total_population', 'non_white_population', 'hispanic_population', 'foreign_born_population', 'median_household_income', 'mean_household_income', 'poverty_population', 'total_housing_units', 'units_paying_rent', 'agriculture_industry', 'information_industry', 'financial_industry', 'entertainment_industry', 'government_employee', 'degree', 'veteran_population', 'incarcerated', 'political_interest_2010', 'partisanship_2010', 'eigvec_102', 'eigvec_100', 'eigvec_34', 'eigvec_123', 'eigvec_94', 'eigvec_4', 'eigvec_61', 'eigvec_84', 'eigvec_73']\n",
      "0.8097222222222222\n",
      "['total_population', 'non_white_population', 'hispanic_population', 'foreign_born_population', 'median_household_income', 'mean_household_income', 'poverty_population', 'total_housing_units', 'units_paying_rent', 'agriculture_industry', 'information_industry', 'financial_industry', 'entertainment_industry', 'government_employee', 'degree', 'veteran_population', 'incarcerated', 'political_interest_2010', 'partisanship_2010', 'eigvec_132', 'eigvec_97', 'eigvec_83', 'eigvec_106', 'eigvec_50', 'eigvec_78', 'eigvec_145', 'eigvec_15', 'eigvec_136']\n",
      "0.8053333333333333\n",
      "['total_population', 'non_white_population', 'hispanic_population', 'foreign_born_population', 'median_household_income', 'mean_household_income', 'poverty_population', 'total_housing_units', 'units_paying_rent', 'agriculture_industry', 'information_industry', 'financial_industry', 'entertainment_industry', 'government_employee', 'degree', 'veteran_population', 'incarcerated', 'political_interest_2010', 'partisanship_2010', 'eigvec_41', 'eigvec_4', 'eigvec_128', 'eigvec_10', 'eigvec_120', 'eigvec_2', 'eigvec_88', 'eigvec_49', 'eigvec_116']\n",
      "0.8107777777777778\n",
      "['total_population', 'non_white_population', 'hispanic_population', 'foreign_born_population', 'median_household_income', 'mean_household_income', 'poverty_population', 'total_housing_units', 'units_paying_rent', 'agriculture_industry', 'information_industry', 'financial_industry', 'entertainment_industry', 'government_employee', 'degree', 'veteran_population', 'incarcerated', 'political_interest_2010', 'partisanship_2010', 'eigvec_103', 'eigvec_35', 'eigvec_11', 'eigvec_119', 'eigvec_41', 'eigvec_60', 'eigvec_156', 'eigvec_123', 'eigvec_36']\n",
      "0.812\n",
      "['total_population', 'non_white_population', 'hispanic_population', 'foreign_born_population', 'median_household_income', 'mean_household_income', 'poverty_population', 'total_housing_units', 'units_paying_rent', 'agriculture_industry', 'information_industry', 'financial_industry', 'entertainment_industry', 'government_employee', 'degree', 'veteran_population', 'incarcerated', 'political_interest_2010', 'partisanship_2010', 'eigvec_44', 'eigvec_121', 'eigvec_52', 'eigvec_47', 'eigvec_105', 'eigvec_116', 'eigvec_62', 'eigvec_63', 'eigvec_115']\n",
      "0.8097777777777778\n",
      "['total_population', 'non_white_population', 'hispanic_population', 'foreign_born_population', 'median_household_income', 'mean_household_income', 'poverty_population', 'total_housing_units', 'units_paying_rent', 'agriculture_industry', 'information_industry', 'financial_industry', 'entertainment_industry', 'government_employee', 'degree', 'veteran_population', 'incarcerated', 'political_interest_2010', 'partisanship_2010', 'eigvec_24', 'eigvec_9', 'eigvec_149', 'eigvec_74', 'eigvec_50', 'eigvec_121', 'eigvec_19', 'eigvec_29', 'eigvec_159']\n",
      "0.8121666666666667\n",
      "[0.8132222222222222, 0.8108888888888889, 0.8075, 0.8083333333333333, 0.808, 0.8106111111111111, 0.811, 0.8091111111111111, 0.8072777777777778, 0.8097222222222222, 0.8053333333333333, 0.8107777777777778, 0.812, 0.8097777777777778, 0.8121666666666667]\n",
      "['total_population', 'non_white_population', 'hispanic_population', 'foreign_born_population', 'median_household_income', 'mean_household_income', 'poverty_population', 'total_housing_units', 'units_paying_rent', 'agriculture_industry', 'information_industry', 'financial_industry', 'entertainment_industry', 'government_employee', 'degree', 'veteran_population', 'incarcerated', 'political_interest_2010', 'partisanship_2010', 'eigvec_70', 'eigvec_156', 'eigvec_77', 'eigvec_31', 'eigvec_89', 'eigvec_65', 'eigvec_86', 'eigvec_114', 'eigvec_54', 'eigvec_83']\n",
      "0.8141666666666667\n",
      "['total_population', 'non_white_population', 'hispanic_population', 'foreign_born_population', 'median_household_income', 'mean_household_income', 'poverty_population', 'total_housing_units', 'units_paying_rent', 'agriculture_industry', 'information_industry', 'financial_industry', 'entertainment_industry', 'government_employee', 'degree', 'veteran_population', 'incarcerated', 'political_interest_2010', 'partisanship_2010', 'eigvec_30', 'eigvec_114', 'eigvec_47', 'eigvec_130', 'eigvec_32', 'eigvec_110', 'eigvec_61', 'eigvec_116', 'eigvec_108', 'eigvec_127']\n",
      "0.8087222222222222\n",
      "['total_population', 'non_white_population', 'hispanic_population', 'foreign_born_population', 'median_household_income', 'mean_household_income', 'poverty_population', 'total_housing_units', 'units_paying_rent', 'agriculture_industry', 'information_industry', 'financial_industry', 'entertainment_industry', 'government_employee', 'degree', 'veteran_population', 'incarcerated', 'political_interest_2010', 'partisanship_2010', 'eigvec_150', 'eigvec_21', 'eigvec_76', 'eigvec_79', 'eigvec_23', 'eigvec_124', 'eigvec_44', 'eigvec_75', 'eigvec_70', 'eigvec_4']\n",
      "0.8116666666666666\n",
      "['total_population', 'non_white_population', 'hispanic_population', 'foreign_born_population', 'median_household_income', 'mean_household_income', 'poverty_population', 'total_housing_units', 'units_paying_rent', 'agriculture_industry', 'information_industry', 'financial_industry', 'entertainment_industry', 'government_employee', 'degree', 'veteran_population', 'incarcerated', 'political_interest_2010', 'partisanship_2010', 'eigvec_41', 'eigvec_47', 'eigvec_51', 'eigvec_73', 'eigvec_46', 'eigvec_72', 'eigvec_78', 'eigvec_101', 'eigvec_49', 'eigvec_103']\n",
      "0.8083333333333333\n",
      "['total_population', 'non_white_population', 'hispanic_population', 'foreign_born_population', 'median_household_income', 'mean_household_income', 'poverty_population', 'total_housing_units', 'units_paying_rent', 'agriculture_industry', 'information_industry', 'financial_industry', 'entertainment_industry', 'government_employee', 'degree', 'veteran_population', 'incarcerated', 'political_interest_2010', 'partisanship_2010', 'eigvec_153', 'eigvec_159', 'eigvec_154', 'eigvec_23', 'eigvec_103', 'eigvec_77', 'eigvec_135', 'eigvec_82', 'eigvec_91', 'eigvec_61']\n",
      "0.8119444444444445\n",
      "['total_population', 'non_white_population', 'hispanic_population', 'foreign_born_population', 'median_household_income', 'mean_household_income', 'poverty_population', 'total_housing_units', 'units_paying_rent', 'agriculture_industry', 'information_industry', 'financial_industry', 'entertainment_industry', 'government_employee', 'degree', 'veteran_population', 'incarcerated', 'political_interest_2010', 'partisanship_2010', 'eigvec_77', 'eigvec_8', 'eigvec_3', 'eigvec_88', 'eigvec_110', 'eigvec_94', 'eigvec_79', 'eigvec_142', 'eigvec_109', 'eigvec_158']\n",
      "0.8078888888888889\n",
      "['total_population', 'non_white_population', 'hispanic_population', 'foreign_born_population', 'median_household_income', 'mean_household_income', 'poverty_population', 'total_housing_units', 'units_paying_rent', 'agriculture_industry', 'information_industry', 'financial_industry', 'entertainment_industry', 'government_employee', 'degree', 'veteran_population', 'incarcerated', 'political_interest_2010', 'partisanship_2010', 'eigvec_63', 'eigvec_47', 'eigvec_39', 'eigvec_31', 'eigvec_124', 'eigvec_28', 'eigvec_29', 'eigvec_26', 'eigvec_115', 'eigvec_71']\n",
      "0.8108333333333333\n",
      "['total_population', 'non_white_population', 'hispanic_population', 'foreign_born_population', 'median_household_income', 'mean_household_income', 'poverty_population', 'total_housing_units', 'units_paying_rent', 'agriculture_industry', 'information_industry', 'financial_industry', 'entertainment_industry', 'government_employee', 'degree', 'veteran_population', 'incarcerated', 'political_interest_2010', 'partisanship_2010', 'eigvec_26', 'eigvec_107', 'eigvec_148', 'eigvec_129', 'eigvec_143', 'eigvec_34', 'eigvec_122', 'eigvec_60', 'eigvec_117', 'eigvec_32']\n",
      "0.8133888888888889\n",
      "['total_population', 'non_white_population', 'hispanic_population', 'foreign_born_population', 'median_household_income', 'mean_household_income', 'poverty_population', 'total_housing_units', 'units_paying_rent', 'agriculture_industry', 'information_industry', 'financial_industry', 'entertainment_industry', 'government_employee', 'degree', 'veteran_population', 'incarcerated', 'political_interest_2010', 'partisanship_2010', 'eigvec_80', 'eigvec_111', 'eigvec_46', 'eigvec_61', 'eigvec_32', 'eigvec_84', 'eigvec_158', 'eigvec_41', 'eigvec_135', 'eigvec_1']\n",
      "0.8111666666666667\n",
      "['total_population', 'non_white_population', 'hispanic_population', 'foreign_born_population', 'median_household_income', 'mean_household_income', 'poverty_population', 'total_housing_units', 'units_paying_rent', 'agriculture_industry', 'information_industry', 'financial_industry', 'entertainment_industry', 'government_employee', 'degree', 'veteran_population', 'incarcerated', 'political_interest_2010', 'partisanship_2010', 'eigvec_82', 'eigvec_110', 'eigvec_156', 'eigvec_101', 'eigvec_57', 'eigvec_37', 'eigvec_25', 'eigvec_29', 'eigvec_41', 'eigvec_126']\n",
      "0.8108888888888889\n",
      "['total_population', 'non_white_population', 'hispanic_population', 'foreign_born_population', 'median_household_income', 'mean_household_income', 'poverty_population', 'total_housing_units', 'units_paying_rent', 'agriculture_industry', 'information_industry', 'financial_industry', 'entertainment_industry', 'government_employee', 'degree', 'veteran_population', 'incarcerated', 'political_interest_2010', 'partisanship_2010', 'eigvec_67', 'eigvec_119', 'eigvec_28', 'eigvec_132', 'eigvec_150', 'eigvec_43', 'eigvec_130', 'eigvec_17', 'eigvec_65', 'eigvec_11']\n",
      "0.8090555555555555\n",
      "['total_population', 'non_white_population', 'hispanic_population', 'foreign_born_population', 'median_household_income', 'mean_household_income', 'poverty_population', 'total_housing_units', 'units_paying_rent', 'agriculture_industry', 'information_industry', 'financial_industry', 'entertainment_industry', 'government_employee', 'degree', 'veteran_population', 'incarcerated', 'political_interest_2010', 'partisanship_2010', 'eigvec_152', 'eigvec_48', 'eigvec_19', 'eigvec_98', 'eigvec_77', 'eigvec_97', 'eigvec_64', 'eigvec_9', 'eigvec_147', 'eigvec_128']\n",
      "0.8093333333333333\n",
      "['total_population', 'non_white_population', 'hispanic_population', 'foreign_born_population', 'median_household_income', 'mean_household_income', 'poverty_population', 'total_housing_units', 'units_paying_rent', 'agriculture_industry', 'information_industry', 'financial_industry', 'entertainment_industry', 'government_employee', 'degree', 'veteran_population', 'incarcerated', 'political_interest_2010', 'partisanship_2010', 'eigvec_134', 'eigvec_148', 'eigvec_152', 'eigvec_102', 'eigvec_10', 'eigvec_89', 'eigvec_138', 'eigvec_108', 'eigvec_47', 'eigvec_40']\n",
      "0.8141666666666667\n",
      "['total_population', 'non_white_population', 'hispanic_population', 'foreign_born_population', 'median_household_income', 'mean_household_income', 'poverty_population', 'total_housing_units', 'units_paying_rent', 'agriculture_industry', 'information_industry', 'financial_industry', 'entertainment_industry', 'government_employee', 'degree', 'veteran_population', 'incarcerated', 'political_interest_2010', 'partisanship_2010', 'eigvec_115', 'eigvec_41', 'eigvec_103', 'eigvec_23', 'eigvec_99', 'eigvec_131', 'eigvec_94', 'eigvec_132', 'eigvec_78', 'eigvec_128']\n",
      "0.808\n",
      "['total_population', 'non_white_population', 'hispanic_population', 'foreign_born_population', 'median_household_income', 'mean_household_income', 'poverty_population', 'total_housing_units', 'units_paying_rent', 'agriculture_industry', 'information_industry', 'financial_industry', 'entertainment_industry', 'government_employee', 'degree', 'veteran_population', 'incarcerated', 'political_interest_2010', 'partisanship_2010', 'eigvec_91', 'eigvec_134', 'eigvec_122', 'eigvec_142', 'eigvec_43', 'eigvec_120', 'eigvec_23', 'eigvec_97', 'eigvec_114', 'eigvec_10']\n",
      "0.8137222222222222\n",
      "[0.8141666666666667, 0.8087222222222222, 0.8116666666666666, 0.8083333333333333, 0.8119444444444445, 0.8078888888888889, 0.8108333333333333, 0.8133888888888889, 0.8111666666666667, 0.8108888888888889, 0.8090555555555555, 0.8093333333333333, 0.8141666666666667, 0.808, 0.8137222222222222]\n"
     ]
    }
   ],
   "source": [
    "k = list(range(11))\n",
    "print(k)\n",
    "scores_w_influence = []\n",
    "scores_w_out_influence = []\n",
    "for k_item in k:\n",
    "    temp_scores_2 = []\n",
    "    for t in range(15):\n",
    "        RF_classifier = RandomForestClassifier(n_estimators=100, n_jobs=-1)\n",
    "        temp_cols_2 = list(pd.Series(eigs).sample(n=k_item))\n",
    "        these_cols = x_cols_2 + temp_cols_2\n",
    "        print(these_cols)\n",
    "        RF_classifier.fit(X_train[these_cols], Y_train)\n",
    "        temp_2 = RF_classifier.score(X_test[x_cols_2+temp_cols_2], Y_test)\n",
    "        print(temp_2)\n",
    "        temp_scores_2.append(temp_2)\n",
    "    print(temp_scores_2)\n",
    "    scores_w_out_influence.append(temp_scores_2)"
   ]
  },
  {
   "cell_type": "raw",
   "metadata": {},
   "source": []
  },
  {
   "cell_type": "code",
   "execution_count": 370,
   "metadata": {},
   "outputs": [
    {
     "data": {
      "image/png": "[encoded data removed]",
      "text/plain": [
       "<Figure size 864x648 with 1 Axes>"
      ]
     },
     "metadata": {
      "needs_background": "light"
     },
     "output_type": "display_data"
    }
   ],
   "source": [
    "from statistics import mean, stdev\n",
    "[mean(x) for x in scores_w_out_influence]\n",
    "plt.figure(figsize=(12,9))\n",
    "plt.plot(range(11), [mean(x) for x in scores_w_out_influence], linewidth=3)\n",
    "ax = plt.gca()\n",
    "ax.set_yticklabels([0.5,0.55,0.6,0.65,0.7,0.75,0.8], fontdict={'fontsize':14})\n",
    "plt.ylabel(\"Model Accuracy\", fontsize=18)\n",
    "plt.title(\"Accuracy by Number of Eigenvectors\", fontsize=24)\n",
    "plt.xlabel(\"Number of Eigenvectors\", fontsize=18)\n",
    "plt.xticks(fontsize=14)\n",
    "plt.savefig(\"eigenvector_number.png\")"
   ]
  },
  {
   "cell_type": "code",
   "execution_count": 123,
   "metadata": {},
   "outputs": [],
   "source": [
    "RF_classifier = RandomForestClassifier(n_estimators=100, n_jobs=-1)\n",
    "x_train_temp = X_train.drop(columns=[x for x in X_train.columns if 'eigvec' in x])\n",
    "x_test_temp = X_test[x_train_temp.columns]"
   ]
  },
  {
   "cell_type": "code",
   "execution_count": 126,
   "metadata": {},
   "outputs": [
    {
     "data": {
      "text/plain": [
       "RandomForestClassifier(bootstrap=True, class_weight=None, criterion='gini',\n",
       "                       max_depth=None, max_features='auto', max_leaf_nodes=None,\n",
       "                       min_impurity_decrease=0.0, min_impurity_split=None,\n",
       "                       min_samples_leaf=1, min_samples_split=2,\n",
       "                       min_weight_fraction_leaf=0.0, n_estimators=100,\n",
       "                       n_jobs=-1, oob_score=False, random_state=None, verbose=0,\n",
       "                       warm_start=False)"
      ]
     },
     "execution_count": 126,
     "metadata": {},
     "output_type": "execute_result"
    }
   ],
   "source": [
    "RF_classifier.fit(x_train_temp, Y_train)"
   ]
  },
  {
   "cell_type": "code",
   "execution_count": 127,
   "metadata": {},
   "outputs": [
    {
     "data": {
      "text/plain": [
       "0.7895"
      ]
     },
     "execution_count": 127,
     "metadata": {},
     "output_type": "execute_result"
    }
   ],
   "source": [
    "RF_classifier.score(x_test_temp, Y_test)"
   ]
  },
  {
   "cell_type": "code",
   "execution_count": 128,
   "metadata": {},
   "outputs": [
    {
     "data": {
      "text/plain": [
       "array(['RsN', 'DsN', 'RsD', 'DsR', 'RsN', 'RsD', 'RsR', 'RsR', 'RsR',\n",
       "       'RsR', 'NsR', 'DsR', 'DsR', 'RsR', 'DsR', 'RsN', 'NsD', 'RsR',\n",
       "       'NsN', 'NsD', 'RsR', 'RsD', 'NsD', 'DsN', 'RsN', 'RsR', 'RsD',\n",
       "       'NsD', 'NsD', 'DsD', 'DsN', 'RsN', 'DsR', 'RsD', 'DsD', 'RsN',\n",
       "       'RsR', 'RsR', 'RsR', 'DsR', 'NsR', 'RsR', 'NsD', 'RsD', 'DsD',\n",
       "       'RsD', 'DsN', 'RsR', 'RsR', 'RsD', 'RsD', 'DsN', 'NsN', 'DsR',\n",
       "       'DsD', 'RsN', 'RsN', 'NsN', 'RsN', 'RsR', 'DsR', 'DsR', 'NsN',\n",
       "       'DsD', 'DsN', 'NsN', 'RsN', 'NsN', 'NsN', 'NsR', 'NsR', 'DsD',\n",
       "       'DsN', 'DsD', 'DsD', 'RsN', 'RsN', 'RsD', 'RsN', 'NsD', 'NsD',\n",
       "       'DsD', 'NsR', 'RsN', 'RsR', 'NsR', 'RsR', 'NsD', 'DsN', 'RsD',\n",
       "       'NsR', 'NsD', 'DsD', 'RsN', 'NsR', 'NsR', 'DsN', 'DsR', 'NsD',\n",
       "       'RsN', 'DsR'], dtype=object)"
      ]
     },
     "execution_count": 128,
     "metadata": {},
     "output_type": "execute_result"
    }
   ],
   "source": [
    "RF_classifier.predict(x_test_temp.loc[:100,:])"
   ]
  },
  {
   "cell_type": "code",
   "execution_count": 131,
   "metadata": {},
   "outputs": [
    {
     "data": {
      "text/plain": [
       "['RsN',\n",
       " 'DsN',\n",
       " 'RsD',\n",
       " 'DsR',\n",
       " 'RsN',\n",
       " 'RsD',\n",
       " 'RsR',\n",
       " 'RsR',\n",
       " 'RsD',\n",
       " 'RsR',\n",
       " 'NsN',\n",
       " 'DsR',\n",
       " 'DsR',\n",
       " 'RsR',\n",
       " 'DsR',\n",
       " 'RsN',\n",
       " 'NsD',\n",
       " 'RsR',\n",
       " 'NsR',\n",
       " 'NsD',\n",
       " 'RsR',\n",
       " 'RsD',\n",
       " 'NsD',\n",
       " 'DsN',\n",
       " 'RsN',\n",
       " 'RsR',\n",
       " 'RsD',\n",
       " 'NsD',\n",
       " 'NsN',\n",
       " 'DsD',\n",
       " 'DsN',\n",
       " 'RsN',\n",
       " 'DsR',\n",
       " 'RsN',\n",
       " 'DsD',\n",
       " 'RsN',\n",
       " 'RsR',\n",
       " 'RsR',\n",
       " 'RsR',\n",
       " 'DsR',\n",
       " 'NsR',\n",
       " 'RsR',\n",
       " 'NsD',\n",
       " 'RsD',\n",
       " 'DsD',\n",
       " 'RsD',\n",
       " 'DsN',\n",
       " 'RsD',\n",
       " 'RsD',\n",
       " 'RsD',\n",
       " 'RsD',\n",
       " 'DsD',\n",
       " 'NsN',\n",
       " 'DsR',\n",
       " 'DsD',\n",
       " 'RsN',\n",
       " 'RsN',\n",
       " 'NsN',\n",
       " 'RsD',\n",
       " 'RsR',\n",
       " 'DsR',\n",
       " 'DsR',\n",
       " 'NsD',\n",
       " 'DsD',\n",
       " 'DsN',\n",
       " 'NsN',\n",
       " 'RsN',\n",
       " 'NsN',\n",
       " 'NsD',\n",
       " 'NsD',\n",
       " 'NsR',\n",
       " 'DsD',\n",
       " 'DsN',\n",
       " 'DsD',\n",
       " 'DsD',\n",
       " 'RsN',\n",
       " 'RsN',\n",
       " 'RsD',\n",
       " 'RsN',\n",
       " 'NsR',\n",
       " 'NsD',\n",
       " 'DsD',\n",
       " 'NsR',\n",
       " 'RsN',\n",
       " 'RsR',\n",
       " 'NsN',\n",
       " 'RsR',\n",
       " 'NsN',\n",
       " 'DsN',\n",
       " 'RsD',\n",
       " 'NsR',\n",
       " 'NsD',\n",
       " 'DsD',\n",
       " 'RsN',\n",
       " 'NsN',\n",
       " 'NsR',\n",
       " 'DsN',\n",
       " 'DsR',\n",
       " 'NsR',\n",
       " 'RsN']"
      ]
     },
     "execution_count": 131,
     "metadata": {},
     "output_type": "execute_result"
    }
   ],
   "source": [
    "list(Y_test[:100])"
   ]
  },
  {
   "cell_type": "code",
   "execution_count": 97,
   "metadata": {},
   "outputs": [
    {
     "name": "stdout",
     "output_type": "stream",
     "text": [
      "0 0.8142222222222222\n",
      "10 0.8152222222222222\n",
      "20 0.8158888888888889\n",
      "30 0.8141666666666667\n",
      "40 0.8150555555555555\n",
      "50 0.8178333333333333\n",
      "60 0.816\n",
      "70 0.8168888888888889\n",
      "80 0.8162222222222222\n",
      "90 0.8176111111111111\n",
      "100 0.8153888888888889\n",
      "110 0.8156666666666667\n",
      "115 0.8181666666666667\n",
      "118 0.8165\n",
      "121 0.8159444444444445\n",
      "124 0.8177777777777778\n",
      "127 0.8167777777777778\n",
      "130 0.8179444444444445\n",
      "133 0.8178888888888889\n",
      "136 0.8158888888888889\n",
      "139 0.8145555555555556\n",
      "142 0.8127777777777778\n",
      "145 0.814\n",
      "148 0.8098888888888889\n",
      "151 0.8073888888888889\n",
      "154 0.7985555555555556\n",
      "157 0.5507222222222222\n",
      "160 0.5495\n"
     ]
    }
   ],
   "source": [
    "scores_2 = []\n",
    "for k_item in k:\n",
    "    RF_classifier = RandomForestClassifier(n_estimators=100, n_jobs = -1)\n",
    "    x_train_temp = X_train.drop(columns = [x for x in X_train.columns if ('eigvec' in x and (int(x.split('eigvec_')[1]) < k_item or int(x.split('eigvec_')[1])>=157)) or ('influence' in x)])\n",
    "    x_test_temp = X_test[x_train_temp.columns]\n",
    "    RF_classifier.fit(x_train_temp, Y_train)\n",
    "    temp = RF_classifier.score(x_test_temp, Y_test)\n",
    "    print(k_item, temp)\n",
    "    scores_2.append(temp)"
   ]
  },
  {
   "cell_type": "code",
   "execution_count": 32,
   "metadata": {},
   "outputs": [
    {
     "data": {
      "text/plain": [
       "RandomForestClassifier(bootstrap=True, class_weight=None, criterion='gini',\n",
       "                       max_depth=None, max_features='auto', max_leaf_nodes=None,\n",
       "                       min_impurity_decrease=0.0, min_impurity_split=None,\n",
       "                       min_samples_leaf=1, min_samples_split=2,\n",
       "                       min_weight_fraction_leaf=0.0, n_estimators=100,\n",
       "                       n_jobs=-1, oob_score=False, random_state=None, verbose=0,\n",
       "                       warm_start=False)"
      ]
     },
     "execution_count": 32,
     "metadata": {},
     "output_type": "execute_result"
    }
   ],
   "source": [
    "#X_test = X_test.drop(columns=drop_cols[0])\n",
    "#X_train = X_train.drop(columns=drop_cols[0])\n",
    "RF_classifier.fit(X_train, Y_train)"
   ]
  },
  {
   "cell_type": "code",
   "execution_count": 33,
   "metadata": {},
   "outputs": [
    {
     "data": {
      "text/plain": [
       "0.8211666666666667"
      ]
     },
     "execution_count": 33,
     "metadata": {},
     "output_type": "execute_result"
    }
   ],
   "source": [
    "RF_classifier.score(X_test, Y_test)"
   ]
  },
  {
   "cell_type": "code",
   "execution_count": 24,
   "metadata": {},
   "outputs": [],
   "source": [
    "def get_feature_importance(classifier, var, x_test, y_test, num_tests=1):\n",
    "    x_test = x_test.copy()\n",
    "    norm_score = classifier.score(x_test, y_test)\n",
    "    from statistics import mean\n",
    "    scores = []\n",
    "    for k in range(num_tests):\n",
    "        x_test.loc[:,var] = x_test[var].sample(frac=1.).to_numpy()\n",
    "        scores.append(classifier.score(x_test, y_test))\n",
    "    return (norm_score - mean(scores))"
   ]
  },
  {
   "cell_type": "code",
   "execution_count": 32,
   "metadata": {},
   "outputs": [
    {
     "data": {
      "text/plain": [
       "5.666666666666667"
      ]
     },
     "execution_count": 32,
     "metadata": {},
     "output_type": "execute_result"
    }
   ],
   "source": [
    "from statistics import mean\n",
    "mean([4,6,7])"
   ]
  },
  {
   "cell_type": "code",
   "execution_count": 25,
   "metadata": {},
   "outputs": [
    {
     "data": {
      "text/plain": [
       "0.001483333333333281"
      ]
     },
     "execution_count": 25,
     "metadata": {},
     "output_type": "execute_result"
    }
   ],
   "source": [
    "get_feature_importance(RF_classifier, 'eigvec_159', X_test, Y_test,num_tests = 10)"
   ]
  },
  {
   "cell_type": "code",
   "execution_count": 15,
   "metadata": {},
   "outputs": [
    {
     "data": {
      "text/plain": [
       "[<matplotlib.lines.Line2D at 0x166ad1a1348>]"
      ]
     },
     "execution_count": 15,
     "metadata": {},
     "output_type": "execute_result"
    },
    {
     "data": {
      "image/png": "[encoded data removed]",
      "text/plain": [
       "<Figure size 432x288 with 1 Axes>"
      ]
     },
     "metadata": {
      "needs_background": "light"
     },
     "output_type": "display_data"
    }
   ],
   "source": [
    "import matplotlib.pyplot as plt\n",
    "%matplotlib inline\n",
    "plt.plot(k,test_scores)"
   ]
  },
  {
   "cell_type": "code",
   "execution_count": 35,
   "metadata": {},
   "outputs": [
    {
     "name": "stdout",
     "output_type": "stream",
     "text": [
      "total_population 0.0012444444444444924\n",
      "non_white_population 0.0007000000000000339\n",
      "hispanic_population 0.0005555555555555314\n",
      "foreign_born_population 0.0017000000000000348\n",
      "median_household_income 0.00038333333333340214\n",
      "mean_household_income 0.0004444444444444695\n",
      "poverty_population 0.0007500000000000284\n",
      "total_housing_units 6.11111111111784e-05\n",
      "units_paying_rent 0.0014611111111111352\n",
      "agriculture_industry 0.0006000000000000449\n",
      "information_industry 0.0001777777777778322\n",
      "financial_industry 0.000983333333333447\n",
      "entertainment_industry 0.0002500000000000835\n",
      "government_employee 0.0005277777777777937\n",
      "armed_forces_population -0.0005388888888888665\n",
      "degree 0.0011388888888889115\n",
      "veteran_population 0.0009222222222222687\n",
      "incarcerated 0.00021111111111116188\n",
      "political_influence_2010 0.0014555555555556543\n",
      "political_interest_2010 0.0023500000000000743\n",
      "partisanship_influence_2010 0.0025277777777777954\n",
      "partisanship_2010 0.004750000000000032\n",
      "eigvec_1 0.000300000000000078\n",
      "eigvec_2 -0.0005333333333332746\n",
      "eigvec_3 -0.00018888888888879407\n",
      "eigvec_4 0.00028333333333341315\n",
      "eigvec_5 -0.0008222222222221687\n",
      "eigvec_6 -0.0008055555555555038\n",
      "eigvec_7 -0.0006111111111110068\n",
      "eigvec_8 0.00032222222222222374\n",
      "eigvec_9 -0.00014999999999998348\n",
      "eigvec_10 -0.00011666666666665382\n",
      "eigvec_11 0.0003166666666667428\n",
      "eigvec_12 -0.00022777777777771568\n",
      "eigvec_13 0.0007333333333333636\n",
      "eigvec_14 0.0007777777777778772\n",
      "eigvec_15 9.444444444450806e-05\n",
      "eigvec_16 0.00041111111111113985\n",
      "eigvec_17 -0.00036111111111103433\n",
      "eigvec_18 0.00012222222222224577\n",
      "eigvec_19 0.0015222222222223136\n",
      "eigvec_20 0.00016666666666675933\n",
      "eigvec_21 -0.0004333333333332856\n",
      "eigvec_22 0.00037222222222232926\n",
      "eigvec_23 -2.222222222214576e-05\n",
      "eigvec_24 1.1111111111183902e-05\n",
      "eigvec_25 0.0006388888888889666\n",
      "eigvec_26 0.000394444444444475\n",
      "eigvec_27 3.888888888892161e-05\n",
      "eigvec_28 0.0007500000000000284\n",
      "eigvec_29 -0.000594444444444453\n",
      "eigvec_30 0.0005444444444444585\n",
      "eigvec_31 -0.0008611111111110903\n",
      "eigvec_32 0.00012222222222224577\n",
      "eigvec_33 -0.0004722222222222072\n",
      "eigvec_34 0.0013444444444444814\n",
      "eigvec_35 0.0004444444444444695\n",
      "eigvec_36 -0.0003166666666666318\n",
      "eigvec_37 0.0005611111111111233\n",
      "eigvec_38 0.00038333333333340214\n",
      "eigvec_39 0.0001388888888889106\n",
      "eigvec_40 4.4444444444513564e-05\n",
      "eigvec_41 -0.0008111111111110958\n",
      "eigvec_42 -5.555555555480929e-06\n",
      "eigvec_43 0.0011333333333333195\n",
      "eigvec_44 -0.0006722222222221852\n",
      "eigvec_45 -0.00043888888888887756\n",
      "eigvec_46 0.00047222222222231824\n",
      "eigvec_47 -0.0005055555555555369\n",
      "eigvec_48 -0.0007555555555555094\n",
      "eigvec_49 0.00016666666666675933\n",
      "eigvec_50 0.0004833333333333911\n",
      "eigvec_51 -1.666666666666483e-05\n",
      "eigvec_52 0.0002277777777778267\n",
      "eigvec_53 0.0007055555555556259\n",
      "eigvec_54 0.00033333333333340764\n",
      "eigvec_55 -0.00022222222222223476\n",
      "eigvec_56 -0.00014444444444439153\n",
      "eigvec_57 -0.0004999999999999449\n",
      "eigvec_58 0.0005111111111111288\n",
      "eigvec_59 -0.00029999999999996696\n",
      "eigvec_60 -0.00015555555555557543\n",
      "eigvec_61 0.0006333333333333746\n",
      "eigvec_62 2.7777777777848733e-05\n",
      "eigvec_63 -0.00013888888888879958\n",
      "eigvec_64 1.666666666666483e-05\n",
      "eigvec_65 -6.111111111106737e-05\n",
      "eigvec_66 3.888888888892161e-05\n",
      "eigvec_67 0.00011111111111117289\n",
      "eigvec_68 -0.0009666666666666712\n",
      "eigvec_69 0.0005722222222223072\n",
      "eigvec_70 0.00012222222222224577\n",
      "eigvec_71 -0.00010555555555546992\n",
      "eigvec_72 0.00012222222222224577\n",
      "eigvec_73 -0.0008611111111110903\n",
      "eigvec_74 -0.0008388888888888335\n",
      "eigvec_75 -0.0005222222222222017\n",
      "eigvec_76 -2.777777777773771e-05\n",
      "eigvec_77 -0.0002055555555554589\n",
      "eigvec_78 0.001194444444444498\n",
      "eigvec_79 -0.00043888888888887756\n",
      "eigvec_80 0.00011666666666665382\n",
      "eigvec_81 5.555555555591951e-06\n",
      "eigvec_82 0.0004888888888889831\n",
      "eigvec_83 -0.0009722222222221522\n",
      "eigvec_84 -0.00028888888888878306\n",
      "eigvec_85 0.00021111111111116188\n",
      "eigvec_86 0.00021111111111116188\n",
      "eigvec_87 0.0003388888888888886\n",
      "eigvec_88 0.0004166666666667318\n",
      "eigvec_89 0.0003666666666667373\n",
      "eigvec_90 -0.00037777777777769916\n",
      "eigvec_91 -8.888888888880508e-05\n",
      "eigvec_92 -0.0008555555555554983\n",
      "eigvec_93 0.0007055555555556259\n",
      "eigvec_94 -0.0003333333333332966\n",
      "eigvec_95 0.0002666666666667483\n",
      "eigvec_96 7.777777777784323e-05\n",
      "eigvec_97 -4.444444444440254e-05\n",
      "eigvec_98 -0.00039999999999995595\n",
      "eigvec_99 0.0003055555555555589\n",
      "eigvec_100 -0.0005388888888888665\n",
      "eigvec_101 0.00014444444444450255\n",
      "eigvec_102 -0.0004722222222222072\n",
      "eigvec_103 0.00010555555555558094\n",
      "eigvec_104 0.0001888888888889051\n",
      "eigvec_105 -0.0004833333333332801\n",
      "eigvec_106 -0.0002666666666666373\n",
      "eigvec_107 -0.0007666666666666933\n",
      "eigvec_108 -5.555555555547542e-05\n",
      "eigvec_109 0.0006444444444444475\n",
      "eigvec_110 -0.00036111111111103433\n",
      "eigvec_111 0.00016111111111116738\n",
      "eigvec_112 -4.444444444440254e-05\n",
      "eigvec_113 -0.0004833333333332801\n",
      "eigvec_114 -0.000488888888888872\n",
      "eigvec_115 -0.00039999999999995595\n",
      "eigvec_116 0.00020555555555556992\n",
      "eigvec_117 0.00023333333333341866\n",
      "eigvec_118 7.777777777784323e-05\n",
      "eigvec_119 -0.0004444444444443585\n",
      "eigvec_120 0.0007444444444445475\n",
      "eigvec_121 0.0003555555555555534\n",
      "eigvec_122 0.0013222222222222246\n",
      "eigvec_123 0.0005722222222223072\n",
      "eigvec_124 8.88888888889161e-05\n",
      "eigvec_125 0.000694444444444442\n",
      "eigvec_126 0.0003666666666667373\n",
      "eigvec_127 0.0009777777777778551\n",
      "eigvec_128 6.666666666677035e-05\n",
      "eigvec_129 0.0005388888888889776\n",
      "eigvec_130 0.0002666666666667483\n",
      "eigvec_131 -9.999999999998899e-05\n",
      "eigvec_132 -0.00036111111111103433\n",
      "eigvec_133 0.0009111111111111958\n",
      "eigvec_134 0.0012000000000000899\n",
      "eigvec_135 0.0003388888888888886\n",
      "eigvec_136 0.0006444444444445585\n",
      "eigvec_137 0.0005222222222222017\n",
      "eigvec_138 -5.555555555547542e-05\n",
      "eigvec_139 -0.0006555555555555204\n",
      "eigvec_140 0.0003166666666667428\n",
      "eigvec_141 -8.888888888880508e-05\n",
      "eigvec_142 0.0001500000000000945\n",
      "eigvec_143 0.00015555555555557543\n",
      "eigvec_144 8.88888888889161e-05\n",
      "eigvec_145 0.0006111111111111178\n",
      "eigvec_146 0.0005777777777777882\n",
      "eigvec_147 0.0005333333333333856\n",
      "eigvec_148 -0.0004444444444443585\n",
      "eigvec_149 0.0002388888888888996\n",
      "eigvec_150 -0.00029999999999996696\n",
      "eigvec_151 -0.0001777777777777212\n",
      "eigvec_152 -0.0005388888888888665\n",
      "eigvec_153 -0.0004111111111110288\n",
      "eigvec_154 0.001388888888888884\n",
      "eigvec_155 -0.00028333333333330213\n",
      "eigvec_156 0.0024444444444444713\n",
      "eigvec_157 0.005316666666666747\n",
      "eigvec_158 -0.0015555555555555323\n",
      "eigvec_159 0.0013500000000000734\n"
     ]
    }
   ],
   "source": [
    "out = {}\n",
    "for x in X_test.columns:\n",
    "    temp = get_feature_importance(RF_classifier, x, X_test, Y_test,num_tests=10)\n",
    "    print(x, temp)\n",
    "    out[x] = temp\n"
   ]
  },
  {
   "cell_type": "code",
   "execution_count": 35,
   "metadata": {},
   "outputs": [
    {
     "name": "stdout",
     "output_type": "stream",
     "text": [
      "['non_white_population', 'foreign_born_population', 'mean_household_income', 'total_housing_units', 'entertainment_industry', 'armed_forces_population', 'degree', 'incarcerated', 'eigvec_1', 'eigvec_4', 'eigvec_5', 'eigvec_7', 'eigvec_9', 'eigvec_14', 'eigvec_16', 'eigvec_19', 'eigvec_20', 'eigvec_21', 'eigvec_22', 'eigvec_23', 'eigvec_24', 'eigvec_25', 'eigvec_26', 'eigvec_27', 'eigvec_28', 'eigvec_29', 'eigvec_38', 'eigvec_39', 'eigvec_40', 'eigvec_41', 'eigvec_42', 'eigvec_44', 'eigvec_46', 'eigvec_49', 'eigvec_50', 'eigvec_51', 'eigvec_52', 'eigvec_53', 'eigvec_55', 'eigvec_56', 'eigvec_58', 'eigvec_59', 'eigvec_60', 'eigvec_62', 'eigvec_65', 'eigvec_66', 'eigvec_67', 'eigvec_70', 'eigvec_72', 'eigvec_73', 'eigvec_74', 'eigvec_76', 'eigvec_82', 'eigvec_84', 'eigvec_85', 'eigvec_86', 'eigvec_87', 'eigvec_88', 'eigvec_89', 'eigvec_90', 'eigvec_91', 'eigvec_93', 'eigvec_94', 'eigvec_96', 'eigvec_97', 'eigvec_98', 'eigvec_101', 'eigvec_102', 'eigvec_104', 'eigvec_105', 'eigvec_106', 'eigvec_107', 'eigvec_108', 'eigvec_109', 'eigvec_110', 'eigvec_113', 'eigvec_115', 'eigvec_116', 'eigvec_118', 'eigvec_119', 'eigvec_121', 'eigvec_122', 'eigvec_124', 'eigvec_126', 'eigvec_129', 'eigvec_131', 'eigvec_132', 'eigvec_135', 'eigvec_136', 'eigvec_138', 'eigvec_141', 'eigvec_145', 'eigvec_146', 'eigvec_152', 'eigvec_153', 'eigvec_154', 'eigvec_155']\n"
     ]
    }
   ],
   "source": [
    "drop_cols = [k for k,v in out.items() if v < 0.0]\n",
    "print(drop_cols)"
   ]
  },
  {
   "cell_type": "code",
   "execution_count": 41,
   "metadata": {},
   "outputs": [
    {
     "data": {
      "text/plain": [
       "<BarContainer object of 21 artists>"
      ]
     },
     "execution_count": 41,
     "metadata": {},
     "output_type": "execute_result"
    },
    {
     "data": {
      "image/png": "[encoded data removed]",
      "text/plain": [
       "<Figure size 1440x1440 with 1 Axes>"
      ]
     },
     "metadata": {
      "needs_background": "light"
     },
     "output_type": "display_data"
    }
   ],
   "source": [
    "import matplotlib.pyplot as plt\n",
    "%matplotlib inline\n",
    "plt.figure(figsize=(20,20))\n",
    "out2 = {k:v for k,v in out.items() if 'eigvec' not in k and k != 'partisanship_2010'}\n",
    "plt.barh(list(out2.keys()), list(out2.values()))"
   ]
  },
  {
   "cell_type": "code",
   "execution_count": 43,
   "metadata": {},
   "outputs": [],
   "source": [
    "df_out = pd.Series(out2)"
   ]
  },
  {
   "cell_type": "code",
   "execution_count": 55,
   "metadata": {},
   "outputs": [],
   "source": [
    "df_out = df_out.sort_values(ascending=True)"
   ]
  },
  {
   "cell_type": "code",
   "execution_count": 58,
   "metadata": {},
   "outputs": [
    {
     "data": {
      "text/plain": [
       "21"
      ]
     },
     "execution_count": 58,
     "metadata": {},
     "output_type": "execute_result"
    }
   ],
   "source": [
    "len(df_out)"
   ]
  },
  {
   "cell_type": "code",
   "execution_count": 341,
   "metadata": {},
   "outputs": [
    {
     "data": {
      "image/png": "[encoded data removed]",
      "text/plain": [
       "<Figure size 1080x864 with 1 Axes>"
      ]
     },
     "metadata": {
      "needs_background": "light"
     },
     "output_type": "display_data"
    }
   ],
   "source": [
    "plt.figure(figsize=(15,12))\n",
    "colors = {\n",
    "    'h':'#44AD62',\n",
    "    'd':'#E67A1C',\n",
    "    'e':'#CC62AA',\n",
    "    'i':'#707070',\n",
    "    'o':'#4E6EF5'\n",
    "}\n",
    "#df_out = df_out.drop('armed_forces_population')\n",
    "col_list = [colors[x] for x in 'hihieeididediddohdoo']\n",
    "plt.barh([x.replace('_',' ').title() for x in list(df_out.index)], df_out, color=col_list)\n",
    "plt.xlabel(\"Feature Importance\", fontsize=20)\n",
    "ax = plt.gca()\n",
    "ax.set_position((0.25, 0.15, 0.73, 0.80))\n",
    "ax.set_yticklabels([x.replace('_',' ').title() for x in list(df_out.index)], fontdict={'fontsize':14})\n",
    "plt.savefig(\"feature_importance.png\")"
   ]
  },
  {
   "cell_type": "markdown",
   "metadata": {},
   "source": [
    "## df_out.loc[:]"
   ]
  },
  {
   "cell_type": "code",
   "execution_count": 16,
   "metadata": {},
   "outputs": [
    {
     "name": "stdout",
     "output_type": "stream",
     "text": [
      "0.4905333333333333\n"
     ]
    }
   ],
   "source": [
    "drop_cols = ['non_white_population',\n",
    " 'armed_forces_population',\n",
    " 'eigvec_1',\n",
    " 'eigvec_7',\n",
    " 'eigvec_14',\n",
    " 'eigvec_25',\n",
    " 'eigvec_44',\n",
    " 'eigvec_46',\n",
    " 'eigvec_49',\n",
    " 'eigvec_52',\n",
    " 'eigvec_53',\n",
    " 'eigvec_56',\n",
    " 'eigvec_58',\n",
    " 'eigvec_65',\n",
    " 'eigvec_70',\n",
    " 'eigvec_72',\n",
    " 'eigvec_74',\n",
    " 'eigvec_87',\n",
    " 'eigvec_93',\n",
    " 'eigvec_98',\n",
    " 'eigvec_102',\n",
    " 'eigvec_108',\n",
    " 'eigvec_110',\n",
    " 'eigvec_122',\n",
    " 'eigvec_124',\n",
    " 'eigvec_132']\n",
    "reg_class2 = RandomForestClassifier(n_estimators=100, n_jobs = -1)\n",
    "reg_class2.fit(X_train.drop(columns=drop_cols), Y_train)\n",
    "print(reg_class2.score(X_test.drop(columns=drop_cols), Y_test))"
   ]
  },
  {
   "cell_type": "code",
   "execution_count": 40,
   "metadata": {},
   "outputs": [],
   "source": [
    "temp = list(X_train.columns)"
   ]
  },
  {
   "cell_type": "code",
   "execution_count": 46,
   "metadata": {},
   "outputs": [
    {
     "data": {
      "text/plain": [
       "['non_white_population',\n",
       " 'armed_forces_population',\n",
       " 'eigvec_1',\n",
       " 'eigvec_7',\n",
       " 'eigvec_14',\n",
       " 'eigvec_25',\n",
       " 'eigvec_44',\n",
       " 'eigvec_46',\n",
       " 'eigvec_49',\n",
       " 'eigvec_52',\n",
       " 'eigvec_53',\n",
       " 'eigvec_56',\n",
       " 'eigvec_58',\n",
       " 'eigvec_65',\n",
       " 'eigvec_70',\n",
       " 'eigvec_72',\n",
       " 'eigvec_74',\n",
       " 'eigvec_87',\n",
       " 'eigvec_93',\n",
       " 'eigvec_98',\n",
       " 'eigvec_102',\n",
       " 'eigvec_108',\n",
       " 'eigvec_110',\n",
       " 'eigvec_122',\n",
       " 'eigvec_124',\n",
       " 'eigvec_132']"
      ]
     },
     "execution_count": 46,
     "metadata": {},
     "output_type": "execute_result"
    }
   ],
   "source": [
    "[x for x in X_train.columns if x not in temp]"
   ]
  },
  {
   "cell_type": "code",
   "execution_count": 157,
   "metadata": {},
   "outputs": [],
   "source": [
    "df3 = df2.drop(columns = ['density', 'partisanship_2010'] + [x for x in df2.columns if 'eigvec' in x])\n",
    "scaler.fit(df3.drop(columns=['categorization']))\n",
    "train, test = train_test_split(df3, test_size=0.2)\n",
    "Y_train = train['categorization']\n",
    "X_train = train.drop(columns=['categorization'])\n",
    "X_train = pd.DataFrame(scaler.transform(X_train), columns=X_train.columns)\n",
    "Y_test = test['categorization']\n",
    "X_test = pd.DataFrame(scaler.transform(test[X_train.columns]), columns=X_train.columns)"
   ]
  },
  {
   "cell_type": "code",
   "execution_count": 158,
   "metadata": {},
   "outputs": [],
   "source": [
    "dems_df = pd.concat(map(lambda x:df3.groupby(by='categorization').get_group(x), ['DsD', 'DsN', 'DsR']))"
   ]
  },
  {
   "cell_type": "code",
   "execution_count": 159,
   "metadata": {},
   "outputs": [
    {
     "data": {
      "text/plain": [
       "(30000, 22)"
      ]
     },
     "execution_count": 159,
     "metadata": {},
     "output_type": "execute_result"
    }
   ],
   "source": [
    "dems_df.shape"
   ]
  },
  {
   "cell_type": "code",
   "execution_count": 160,
   "metadata": {},
   "outputs": [],
   "source": [
    "dems_df = dems_df.sample(frac = 1)\n",
    "train, test = train_test_split(dems_df, test_size=0.2)"
   ]
  },
  {
   "cell_type": "code",
   "execution_count": 162,
   "metadata": {},
   "outputs": [],
   "source": [
    "Y_train = train['categorization']\n",
    "X_train = train.drop(columns=['categorization'])\n",
    "X_train = pd.DataFrame(scaler.transform(X_train), columns=X_train.columns)\n",
    "Y_test = test['categorization']\n",
    "X_test = pd.DataFrame(scaler.transform(test[X_train.columns]), columns=X_train.columns)"
   ]
  },
  {
   "cell_type": "code",
   "execution_count": 163,
   "metadata": {},
   "outputs": [],
   "source": [
    "RF_classifier = RandomForestClassifier(n_estimators=100, n_jobs = -1)"
   ]
  },
  {
   "cell_type": "code",
   "execution_count": 164,
   "metadata": {},
   "outputs": [
    {
     "data": {
      "text/plain": [
       "RandomForestClassifier(bootstrap=True, class_weight=None, criterion='gini',\n",
       "                       max_depth=None, max_features='auto', max_leaf_nodes=None,\n",
       "                       min_impurity_decrease=0.0, min_impurity_split=None,\n",
       "                       min_samples_leaf=1, min_samples_split=2,\n",
       "                       min_weight_fraction_leaf=0.0, n_estimators=100,\n",
       "                       n_jobs=-1, oob_score=False, random_state=None, verbose=0,\n",
       "                       warm_start=False)"
      ]
     },
     "execution_count": 164,
     "metadata": {},
     "output_type": "execute_result"
    }
   ],
   "source": [
    "RF_classifier.fit(X_train, Y_train)"
   ]
  },
  {
   "cell_type": "code",
   "execution_count": 165,
   "metadata": {},
   "outputs": [
    {
     "data": {
      "text/plain": [
       "0.9543333333333334"
      ]
     },
     "execution_count": 165,
     "metadata": {},
     "output_type": "execute_result"
    }
   ],
   "source": [
    "RF_classifier.score(X_test, Y_test)"
   ]
  },
  {
   "cell_type": "code",
   "execution_count": 166,
   "metadata": {},
   "outputs": [
    {
     "name": "stdout",
     "output_type": "stream",
     "text": [
      "total_population -0.0019333333333333425\n",
      "non_white_population -0.0008333333333333526\n",
      "hispanic_population -0.0018166666666666886\n",
      "foreign_born_population -0.0026999999999999247\n",
      "median_household_income -0.0009333333333333416\n",
      "mean_household_income -0.0020000000000000018\n",
      "poverty_population -0.0020166666666666666\n",
      "total_housing_units -0.0015499999999999403\n",
      "units_paying_rent -0.001783333333333248\n",
      "agriculture_industry -0.0022499999999999742\n",
      "information_industry -0.0013666666666666272\n",
      "financial_industry -0.0021333333333333204\n",
      "entertainment_industry -0.0009333333333333416\n",
      "government_employee -0.002083333333333326\n",
      "armed_forces_population -0.0011999999999999789\n",
      "degree -0.0018333333333333535\n",
      "veteran_population -0.002449999999999952\n",
      "incarcerated -0.0018666666666666831\n",
      "political_influence_2010 0.31448333333333334\n",
      "political_interest_2010 0.0649333333333334\n",
      "partisanship_influence_2010 0.38136666666666674\n"
     ]
    }
   ],
   "source": [
    "out = {}\n",
    "for x in X_test.columns:\n",
    "    temp = get_feature_importance(RF_classifier, x, X_test, Y_test,num_tests=10)\n",
    "    print(x, temp)\n",
    "    out[x] = temp"
   ]
  },
  {
   "cell_type": "code",
   "execution_count": 167,
   "metadata": {},
   "outputs": [],
   "source": [
    "dems_out= out"
   ]
  },
  {
   "cell_type": "code",
   "execution_count": 168,
   "metadata": {},
   "outputs": [
    {
     "name": "stdout",
     "output_type": "stream",
     "text": [
      "0.8893333333333333\n",
      "total_population -0.007650000000000046\n",
      "non_white_population -0.0028333333333333544\n",
      "hispanic_population -0.004683333333333373\n",
      "foreign_born_population 0.00876666666666659\n",
      "median_household_income -0.004216666666666646\n",
      "mean_household_income -0.0035166666666667235\n",
      "poverty_population -0.004566666666666719\n",
      "total_housing_units -0.002466666666666728\n",
      "units_paying_rent -0.005800000000000027\n",
      "agriculture_industry -0.003066666666666662\n",
      "information_industry -0.004133333333333322\n",
      "financial_industry -0.005016666666666669\n",
      "entertainment_industry -0.004266666666666752\n",
      "government_employee -0.004666666666666708\n",
      "armed_forces_population -0.00385000000000002\n",
      "degree -0.004483333333333395\n",
      "veteran_population -0.004366666666666741\n",
      "incarcerated -0.005133333333333323\n",
      "political_influence_2010 0.23788333333333334\n",
      "political_interest_2010 0.06523333333333325\n",
      "partisanship_influence_2010 0.3552166666666666\n"
     ]
    }
   ],
   "source": [
    "reps_df = pd.concat(map(lambda x:df3.groupby(by='categorization').get_group(x), ['RsD', 'RsN', 'RsR']))\n",
    "reps_df = reps_df.sample(frac = 1)\n",
    "train, test = train_test_split(reps_df, test_size=0.2)\n",
    "Y_train = train['categorization']\n",
    "X_train = train.drop(columns=['categorization'])\n",
    "X_train = pd.DataFrame(scaler.transform(X_train), columns=X_train.columns)\n",
    "Y_test = test['categorization']\n",
    "X_test = pd.DataFrame(scaler.transform(test[X_train.columns]), columns=X_train.columns)\n",
    "RF_classifier = RandomForestClassifier(n_estimators=100, n_jobs = -1)\n",
    "RF_classifier.fit(X_train, Y_train)\n",
    "print(RF_classifier.score(X_test, Y_test))\n",
    "reps_out = {}\n",
    "for x in X_test.columns:\n",
    "    temp = get_feature_importance(RF_classifier, x, X_test, Y_test,num_tests=10)\n",
    "    print(x, temp)\n",
    "    reps_out[x] = temp"
   ]
  },
  {
   "cell_type": "code",
   "execution_count": 169,
   "metadata": {},
   "outputs": [
    {
     "name": "stdout",
     "output_type": "stream",
     "text": [
      "0.5315\n",
      "total_population -0.008300000000000085\n",
      "non_white_population -0.0044000000000000705\n",
      "hispanic_population -0.004383333333333406\n",
      "foreign_born_population -0.0017333333333333645\n",
      "median_household_income -0.006033333333333335\n",
      "mean_household_income -0.007033333333333336\n",
      "poverty_population -0.004533333333333389\n",
      "total_housing_units -0.0012666666666666382\n",
      "units_paying_rent -0.005116666666666658\n",
      "agriculture_industry -0.004383333333333406\n",
      "information_industry -0.005850000000000022\n",
      "financial_industry -0.004316666666666635\n",
      "entertainment_industry -0.0020999999999999908\n",
      "government_employee -0.00491666666666668\n",
      "armed_forces_population -0.0030999999999999917\n",
      "degree -0.0031333333333333213\n",
      "veteran_population -0.0025333333333333874\n",
      "incarcerated -0.0054833333333333956\n",
      "political_influence_2010 0.06598333333333328\n",
      "political_interest_2010 0.0027333333333333654\n",
      "partisanship_influence_2010 0.07931666666666665\n"
     ]
    }
   ],
   "source": [
    "n_df = pd.concat(map(lambda x:df3.groupby(by='categorization').get_group(x), ['NsD', 'NsN', 'NsR']))\n",
    "n_df = n_df.sample(frac = 1)\n",
    "train, test = train_test_split(n_df, test_size=0.2)\n",
    "Y_train = train['categorization']\n",
    "X_train = train.drop(columns=['categorization'])\n",
    "X_train = pd.DataFrame(scaler.transform(X_train), columns=X_train.columns)\n",
    "Y_test = test['categorization']\n",
    "X_test = pd.DataFrame(scaler.transform(test[X_train.columns]), columns=X_train.columns)\n",
    "RF_classifier = RandomForestClassifier(n_estimators=100, n_jobs = -1)\n",
    "RF_classifier.fit(X_train, Y_train)\n",
    "print(RF_classifier.score(X_test, Y_test))\n",
    "n_out = {}\n",
    "for x in X_test.columns:\n",
    "    temp = get_feature_importance(RF_classifier, x, X_test, Y_test,num_tests=10)\n",
    "    print(x, temp)\n",
    "    n_out[x] = temp"
   ]
  },
  {
   "cell_type": "code",
   "execution_count": 175,
   "metadata": {},
   "outputs": [
    {
     "name": "stdout",
     "output_type": "stream",
     "text": [
      "0.5361666666666667\n",
      "total_population 0.0038166666666666904\n",
      "non_white_population -0.002283333333333304\n",
      "hispanic_population -0.00019999999999997797\n",
      "foreign_born_population 0.028850000000000042\n",
      "median_household_income -0.0017333333333333645\n",
      "mean_household_income -0.0022999999999999687\n",
      "poverty_population -0.0015999999999999348\n",
      "total_housing_units 0.0011666666666666492\n",
      "units_paying_rent 0.0014166666666667327\n",
      "agriculture_industry 0.005199999999999982\n",
      "information_industry 0.00028333333333330213\n",
      "financial_industry -0.0004999999999999449\n",
      "entertainment_industry -0.0017500000000000293\n",
      "government_employee -0.0004166666666666208\n",
      "armed_forces_population -0.0012166666666666437\n",
      "degree -0.0015333333333333865\n",
      "veteran_population 0.006066666666666665\n",
      "incarcerated 0.000500000000000056\n"
     ]
    }
   ],
   "source": [
    "reps_df_n_infl = pd.concat(map(lambda x:df3.groupby(by='categorization').get_group(x), ['RsD', 'RsN', 'RsR']))\n",
    "reps_df_n_infl = reps_df_n_infl.sample(frac = 1)\n",
    "train, test = train_test_split(reps_df_n_infl, test_size=0.2)\n",
    "Y_train = train['categorization']\n",
    "X_train = train.drop(columns=['categorization'])\n",
    "X_train = pd.DataFrame(scaler.transform(X_train), columns=X_train.columns)\n",
    "Y_test = test['categorization']\n",
    "X_test = pd.DataFrame(scaler.transform(test[X_train.columns]), columns=X_train.columns)\n",
    "X_train = X_train.drop(columns=[x for x in X_train if 'influence' in x or 'interest' in x])\n",
    "X_test = X_test.drop(columns=[x for x in X_test if 'influence' in x or 'interest' in x])\n",
    "RF_classifier = RandomForestClassifier(n_estimators=100, n_jobs = -1)\n",
    "RF_classifier.fit(X_train, Y_train)\n",
    "print(RF_classifier.score(X_test, Y_test))\n",
    "reps_out_n_infl = {}\n",
    "for x in X_test.columns:\n",
    "    temp = get_feature_importance(RF_classifier, x, X_test, Y_test,num_tests=10)\n",
    "    print(x, temp)\n",
    "    reps_out_n_infl[x] = temp"
   ]
  },
  {
   "cell_type": "code",
   "execution_count": 174,
   "metadata": {},
   "outputs": [
    {
     "name": "stdout",
     "output_type": "stream",
     "text": [
      "0.5038333333333334\n",
      "total_population 0.002883333333333349\n",
      "non_white_population 0.0063333333333333575\n",
      "hispanic_population 0.0028000000000000247\n",
      "foreign_born_population 0.007966666666666677\n",
      "median_household_income 0.0023000000000000798\n",
      "mean_household_income 0.0033833333333332938\n",
      "poverty_population 0.0027166666666667005\n",
      "total_housing_units 0.00018333333333331314\n",
      "units_paying_rent 0.0010333333333333306\n",
      "agriculture_industry 0.003983333333333339\n",
      "information_industry 0.0012666666666667492\n",
      "financial_industry 0.0028000000000000247\n",
      "entertainment_industry 0.001583333333333381\n",
      "government_employee 0.007000000000000006\n",
      "armed_forces_population 0.004666666666666708\n",
      "degree 0.0007333333333333636\n",
      "veteran_population 0.0034166666666667345\n",
      "incarcerated 0.004083333333333383\n"
     ]
    }
   ],
   "source": [
    "dems_df_n_infl = pd.concat(map(lambda x:df3.groupby(by='categorization').get_group(x), ['DsD', 'DsN', 'DsR']))\n",
    "dems_df_n_infl = dems_df_n_infl.sample(frac = 1)\n",
    "train, test = train_test_split(dems_df_n_infl, test_size=0.2)\n",
    "Y_train = train['categorization']\n",
    "X_train = train.drop(columns=['categorization'])\n",
    "X_train = pd.DataFrame(scaler.transform(X_train), columns=X_train.columns)\n",
    "Y_test = test['categorization']\n",
    "X_test = pd.DataFrame(scaler.transform(test[X_train.columns]), columns=X_train.columns)\n",
    "X_train = X_train.drop(columns=[x for x in X_train if 'influence' in x or 'interest' in x])\n",
    "X_test = X_test.drop(columns=[x for x in X_test if 'influence' in x or 'interest' in x])\n",
    "RF_classifier = RandomForestClassifier(n_estimators=100, n_jobs = -1)\n",
    "RF_classifier.fit(X_train, Y_train)\n",
    "print(RF_classifier.score(X_test, Y_test))\n",
    "dems_out_n_infl = {}\n",
    "for x in X_test.columns:\n",
    "    temp = get_feature_importance(RF_classifier, x, X_test, Y_test,num_tests=10)\n",
    "    print(x, temp)\n",
    "    dems_out_n_infl[x] = temp"
   ]
  },
  {
   "cell_type": "code",
   "execution_count": 245,
   "metadata": {},
   "outputs": [
    {
     "data": {
      "text/plain": [
       "<BarContainer object of 18 artists>"
      ]
     },
     "execution_count": 245,
     "metadata": {},
     "output_type": "execute_result"
    },
    {
     "data": {
      "image/png": "[encoded data removed]",
      "text/plain": [
       "<Figure size 1440x1440 with 1 Axes>"
      ]
     },
     "metadata": {
      "needs_background": "light"
     },
     "output_type": "display_data"
    }
   ],
   "source": [
    "plt.figure(figsize=(20,20))\n",
    "dat = pd.Series(dems_out_n_infl).sort_values()\n",
    "plt.barh([x.replace('_', ' ').title() for x in dat.index], dat)"
   ]
  },
  {
   "cell_type": "code",
   "execution_count": 183,
   "metadata": {},
   "outputs": [
    {
     "data": {
      "text/plain": [
       "<BarContainer object of 18 artists>"
      ]
     },
     "execution_count": 183,
     "metadata": {},
     "output_type": "execute_result"
    },
    {
     "data": {
      "image/png": "[encoded data removed]",
      "text/plain": [
       "<Figure size 1440x1440 with 1 Axes>"
      ]
     },
     "metadata": {
      "needs_background": "light"
     },
     "output_type": "display_data"
    }
   ],
   "source": [
    "plt.figure(figsize=(20,20))\n",
    "dat = pd.Series(reps_out_n_infl).sort_values()\n",
    "plt.barh([x.replace('_', ' ').title() for x in dat.index], dat)"
   ]
  },
  {
   "cell_type": "code",
   "execution_count": 179,
   "metadata": {},
   "outputs": [
    {
     "name": "stdout",
     "output_type": "stream",
     "text": [
      "0.4746666666666667\n",
      "total_population 0.007633333333333325\n",
      "non_white_population -0.002899999999999958\n",
      "hispanic_population -0.0006333333333333191\n",
      "foreign_born_population 0.010333333333333361\n",
      "median_household_income 0.0009666666666666712\n",
      "mean_household_income 0.00040000000000001146\n",
      "poverty_population -0.0007999999999999674\n",
      "total_housing_units 0.0022833333333333594\n",
      "units_paying_rent 0.00438333333333335\n",
      "agriculture_industry 0.0013000000000000234\n",
      "information_industry 0.0007166666666666988\n",
      "financial_industry 0.0011666666666667047\n",
      "entertainment_industry -0.0022166666666666446\n",
      "government_employee -0.0003333333333332966\n",
      "armed_forces_population -0.0015666666666666607\n",
      "degree 0.0008166666666666877\n",
      "veteran_population 0.004816666666666691\n",
      "incarcerated -0.0004333333333333411\n"
     ]
    }
   ],
   "source": [
    "n_df_n_infl = pd.concat(map(lambda x:df3.groupby(by='categorization').get_group(x), ['NsD', 'NsN', 'NsR']))\n",
    "n_df_n_infl = n_df_n_infl.sample(frac = 1)\n",
    "train, test = train_test_split(n_df_n_infl, test_size=0.2)\n",
    "Y_train = train['categorization']\n",
    "X_train = train.drop(columns=['categorization'])\n",
    "X_train = pd.DataFrame(scaler.transform(X_train), columns=X_train.columns)\n",
    "Y_test = test['categorization']\n",
    "X_test = pd.DataFrame(scaler.transform(test[X_train.columns]), columns=X_train.columns)\n",
    "X_train = X_train.drop(columns=[x for x in X_train if 'influence' in x or 'interest' in x])\n",
    "X_test = X_test.drop(columns=[x for x in X_test if 'influence' in x or 'interest' in x])\n",
    "RF_classifier = RandomForestClassifier(n_estimators=100, n_jobs = -1)\n",
    "RF_classifier.fit(X_train, Y_train)\n",
    "print(RF_classifier.score(X_test, Y_test))\n",
    "n_out_n_infl = {}\n",
    "for x in X_test.columns:\n",
    "    temp = get_feature_importance(RF_classifier, x, X_test, Y_test,num_tests=10)\n",
    "    print(x, temp)\n",
    "    n_out_n_infl[x] = temp"
   ]
  },
  {
   "cell_type": "code",
   "execution_count": 184,
   "metadata": {},
   "outputs": [
    {
     "data": {
      "text/plain": [
       "<BarContainer object of 18 artists>"
      ]
     },
     "execution_count": 184,
     "metadata": {},
     "output_type": "execute_result"
    },
    {
     "data": {
      "image/png": "[encoded data removed]",
      "text/plain": [
       "<Figure size 1440x1440 with 1 Axes>"
      ]
     },
     "metadata": {
      "needs_background": "light"
     },
     "output_type": "display_data"
    }
   ],
   "source": [
    "plt.figure(figsize=(20,20))\n",
    "dat = pd.Series(n_out_n_infl).sort_values()\n",
    "plt.barh([x.replace('_', ' ').title() for x in dat.index], dat)"
   ]
  },
  {
   "cell_type": "code",
   "execution_count": 187,
   "metadata": {},
   "outputs": [
    {
     "name": "stdout",
     "output_type": "stream",
     "text": [
      "0.8856666666666667\n",
      "total_population 0.00708333333333333\n",
      "non_white_population 0.0005333333333333856\n",
      "hispanic_population -4.999999999999449e-05\n",
      "foreign_born_population 0.03300000000000003\n",
      "median_household_income 0.00018333333333342416\n",
      "mean_household_income 0.0002166666666666428\n",
      "poverty_population 6.666666666665932e-05\n",
      "total_housing_units 0.0016000000000000458\n",
      "units_paying_rent 0.00226666666666675\n",
      "agriculture_industry 0.004616666666666713\n",
      "information_industry 0.0007500000000000284\n",
      "financial_industry 0.0012166666666667547\n",
      "entertainment_industry 0.0013500000000000734\n",
      "government_employee 0.002383333333333404\n",
      "armed_forces_population 0.0020499999999999963\n",
      "degree 0.0014166666666667327\n",
      "veteran_population 0.0017500000000000293\n",
      "incarcerated 0.0008500000000000174\n",
      "partisanship_influence_2010 0.4503666666666667\n"
     ]
    }
   ],
   "source": [
    "reps_df_n_interest = pd.concat(map(lambda x:df3.groupby(by='categorization').get_group(x), ['RsD', 'RsN', 'RsR']))\n",
    "reps_df_n_interest = reps_df_n_interest.sample(frac = 1)\n",
    "train, test = train_test_split(reps_df_n_interest, test_size=0.2)\n",
    "Y_train = train['categorization']\n",
    "X_train = train.drop(columns=['categorization'])\n",
    "X_train = pd.DataFrame(scaler.transform(X_train), columns=X_train.columns)\n",
    "Y_test = test['categorization']\n",
    "X_test = pd.DataFrame(scaler.transform(test[X_train.columns]), columns=X_train.columns)\n",
    "X_train = X_train.drop(columns=[x for x in X_train if 'interest' in x or 'political' in x])\n",
    "X_test = X_test[X_train.columns]\n",
    "RF_classifier = RandomForestClassifier(n_estimators=100, n_jobs = -1)\n",
    "RF_classifier.fit(X_train, Y_train)\n",
    "print(RF_classifier.score(X_test, Y_test))\n",
    "reps_out_n_interest = {}\n",
    "for x in X_test.columns:\n",
    "    temp = get_feature_importance(RF_classifier, x, X_test, Y_test,num_tests=10)\n",
    "    print(x, temp)\n",
    "    reps_out_n_interest[x] = temp"
   ]
  },
  {
   "cell_type": "code",
   "execution_count": 191,
   "metadata": {},
   "outputs": [
    {
     "data": {
      "text/plain": [
       "<BarContainer object of 19 artists>"
      ]
     },
     "execution_count": 191,
     "metadata": {},
     "output_type": "execute_result"
    },
    {
     "data": {
      "image/png": "[encoded data removed]",
      "text/plain": [
       "<Figure size 1440x864 with 1 Axes>"
      ]
     },
     "metadata": {
      "needs_background": "light"
     },
     "output_type": "display_data"
    }
   ],
   "source": [
    "plt.figure(figsize=(20,12))\n",
    "dat = pd.Series(reps_out_n_interest).sort_values()\n",
    "plt.barh([x.replace('_', ' ').title() for x in dat.index], dat)"
   ]
  },
  {
   "cell_type": "code",
   "execution_count": 195,
   "metadata": {},
   "outputs": [
    {
     "data": {
      "text/plain": [
       "0.06128333333333402"
      ]
     },
     "execution_count": 195,
     "metadata": {},
     "output_type": "execute_result"
    }
   ],
   "source": [
    "sum({k:v for k,v in reps_out_n_interest.items() if 'influence' not in k}.values())"
   ]
  },
  {
   "cell_type": "code",
   "execution_count": 197,
   "metadata": {},
   "outputs": [
    {
     "name": "stdout",
     "output_type": "stream",
     "text": [
      "0.9523333333333334\n",
      "total_population 0.0015500000000000513\n",
      "non_white_population 0.002650000000000041\n",
      "hispanic_population 0.0025166666666667226\n",
      "foreign_born_population 0.003466666666666729\n",
      "median_household_income 0.0006833333333333691\n",
      "mean_household_income 0.0020999999999999908\n",
      "poverty_population 0.002066666666666661\n",
      "total_housing_units 0.0014000000000000679\n",
      "units_paying_rent 0.001183333333333425\n",
      "agriculture_industry 0.002866666666666684\n",
      "information_industry 0.0009333333333333416\n",
      "financial_industry 0.0019166666666666776\n",
      "entertainment_industry 0.0012666666666667492\n",
      "government_employee 0.002650000000000041\n",
      "armed_forces_population 0.0020499999999999963\n",
      "degree 0.0015500000000000513\n",
      "veteran_population 0.0012333333333334195\n",
      "incarcerated 0.0008666666666666822\n",
      "partisanship_influence_2010 0.5102666666666666\n"
     ]
    }
   ],
   "source": [
    "dems_df_n_interest = pd.concat(map(lambda x:df3.groupby(by='categorization').get_group(x), ['DsD', 'DsN', 'DsR']))\n",
    "dems_df_n_interest = dems_df_n_interest.sample(frac = 1)\n",
    "train, test = train_test_split(dems_df_n_interest, test_size=0.2)\n",
    "Y_train = train['categorization']\n",
    "X_train = train.drop(columns=['categorization'])\n",
    "X_train = pd.DataFrame(scaler.transform(X_train), columns=X_train.columns)\n",
    "Y_test = test['categorization']\n",
    "X_test = pd.DataFrame(scaler.transform(test[X_train.columns]), columns=X_train.columns)\n",
    "X_train = X_train.drop(columns=[x for x in X_train if 'interest' in x or 'political' in x])\n",
    "X_test = X_test[X_train.columns]\n",
    "RF_classifier = RandomForestClassifier(n_estimators=100, n_jobs = -1)\n",
    "RF_classifier.fit(X_train, Y_train)\n",
    "print(RF_classifier.score(X_test, Y_test))\n",
    "dems_out_n_interest = {}\n",
    "for x in X_test.columns:\n",
    "    temp = get_feature_importance(RF_classifier, x, X_test, Y_test,num_tests=10)\n",
    "    print(x, temp)\n",
    "    dems_out_n_interest[x] = temp"
   ]
  },
  {
   "cell_type": "code",
   "execution_count": 199,
   "metadata": {},
   "outputs": [
    {
     "data": {
      "text/plain": [
       "0.0329500000000007"
      ]
     },
     "execution_count": 199,
     "metadata": {},
     "output_type": "execute_result"
    }
   ],
   "source": [
    "sum({k:v for k,v in dems_out_n_interest.items() if 'influence' not in k}.values())"
   ]
  },
  {
   "cell_type": "code",
   "execution_count": 198,
   "metadata": {},
   "outputs": [
    {
     "name": "stdout",
     "output_type": "stream",
     "text": [
      "0.508\n",
      "total_population 0.0033166666666667455\n",
      "non_white_population -0.0008833333333333471\n",
      "hispanic_population -0.0012166666666666437\n",
      "foreign_born_population 0.0022999999999999687\n",
      "median_household_income -0.0005333333333332746\n",
      "mean_household_income 0.0003166666666666318\n",
      "poverty_population -0.0005833333333333801\n",
      "total_housing_units 0.0007000000000000339\n",
      "units_paying_rent 0.002066666666666661\n",
      "agriculture_industry 0.00336666666666674\n",
      "information_industry 0.0003500000000000725\n",
      "financial_industry -0.0003333333333332966\n",
      "entertainment_industry -6.666666666665932e-05\n",
      "government_employee -0.0010166666666666657\n",
      "armed_forces_population -0.00044999999999995044\n",
      "degree 0.0014500000000000624\n",
      "veteran_population -0.0001666666666666483\n",
      "incarcerated -0.0013166666666666327\n",
      "partisanship_influence_2010 0.10005000000000003\n"
     ]
    }
   ],
   "source": [
    "n_df_n_interest = pd.concat(map(lambda x:df3.groupby(by='categorization').get_group(x), ['NsD', 'NsN', 'NsR']))\n",
    "n_df_n_interest = n_df_n_interest.sample(frac = 1)\n",
    "train, test = train_test_split(n_df_n_interest, test_size=0.2)\n",
    "Y_train = train['categorization']\n",
    "X_train = train.drop(columns=['categorization'])\n",
    "X_train = pd.DataFrame(scaler.transform(X_train), columns=X_train.columns)\n",
    "Y_test = test['categorization']\n",
    "X_test = pd.DataFrame(scaler.transform(test[X_train.columns]), columns=X_train.columns)\n",
    "X_train = X_train.drop(columns=[x for x in X_train if 'interest' in x or 'political' in x])\n",
    "X_test = X_test[X_train.columns]\n",
    "RF_classifier = RandomForestClassifier(n_estimators=100, n_jobs = -1)\n",
    "RF_classifier.fit(X_train, Y_train)\n",
    "print(RF_classifier.score(X_test, Y_test))\n",
    "n_out_n_interest = {}\n",
    "for x in X_test.columns:\n",
    "    temp = get_feature_importance(RF_classifier, x, X_test, Y_test,num_tests=10)\n",
    "    print(x, temp)\n",
    "    n_out_n_interest[x] = temp"
   ]
  },
  {
   "cell_type": "code",
   "execution_count": 200,
   "metadata": {},
   "outputs": [
    {
     "data": {
      "text/plain": [
       "0.007300000000000417"
      ]
     },
     "execution_count": 200,
     "metadata": {},
     "output_type": "execute_result"
    }
   ],
   "source": [
    "sum({k:v for k,v in n_out_n_interest.items() if 'influence' not in k}.values())"
   ]
  },
  {
   "cell_type": "code",
   "execution_count": 203,
   "metadata": {},
   "outputs": [
    {
     "data": {
      "text/plain": [
       "<BarContainer object of 6 artists>"
      ]
     },
     "execution_count": 203,
     "metadata": {},
     "output_type": "execute_result"
    },
    {
     "data": {
      "image/png": "[encoded data removed]",
      "text/plain": [
       "<Figure size 1440x720 with 1 Axes>"
      ]
     },
     "metadata": {
      "needs_background": "light"
     },
     "output_type": "display_data"
    }
   ],
   "source": [
    "data = {\"Demographics (D)\" : 0.03295,\n",
    "       \"Twitter Influence (D)\" : 0.51026667,\n",
    "       \"Demographics (R)\" : 0.0612833333,\n",
    "       \"Twitter Influence(R)\" : 0.4503666667,\n",
    "       \"Demographics (N}\" : 0.0073,\n",
    "       \"Twitter Influence (N)\":0.10005}\n",
    "data_series = pd.Series(data)\n",
    "plt.figure(figsize=(20,10))\n",
    "plt.barh(data_series.index, data_series)"
   ]
  },
  {
   "cell_type": "code",
   "execution_count": 220,
   "metadata": {},
   "outputs": [],
   "source": [
    "data = pd.DataFrame({'Demographics':[0.03295, 0.061283333,0.0073], 'Twitter Influence':[0.5102666667, 0.45102666667, 0.10005], 'Random Guess':[0.33333333]*3, 'total':[0.9523333, 0.88566667, 0.508]}, index=['Democrat','Republican','Non-Partisan'])"
   ]
  },
  {
   "cell_type": "code",
   "execution_count": 221,
   "metadata": {},
   "outputs": [],
   "source": [
    "data['sum_all'] = data['Demographics'] + data['Twitter Influence'] + data['Random Guess']\n",
    "data['other'] = data['total'] - data['sum_all']"
   ]
  },
  {
   "cell_type": "code",
   "execution_count": 222,
   "metadata": {},
   "outputs": [
    {
     "data": {
      "text/html": [
       "<div>\n",
       "<style scoped>\n",
       "    .dataframe tbody tr th:only-of-type {\n",
       "        vertical-align: middle;\n",
       "    }\n",
       "\n",
       "    .dataframe tbody tr th {\n",
       "        vertical-align: top;\n",
       "    }\n",
       "\n",
       "    .dataframe thead th {\n",
       "        text-align: right;\n",
       "    }\n",
       "</style>\n",
       "<table border=\"1\" class=\"dataframe\">\n",
       "  <thead>\n",
       "    <tr style=\"text-align: right;\">\n",
       "      <th></th>\n",
       "      <th>Demographics</th>\n",
       "      <th>Twitter Influence</th>\n",
       "      <th>Random Guess</th>\n",
       "      <th>total</th>\n",
       "      <th>sum_all</th>\n",
       "      <th>other</th>\n",
       "    </tr>\n",
       "  </thead>\n",
       "  <tbody>\n",
       "    <tr>\n",
       "      <td>Democrat</td>\n",
       "      <td>0.032950</td>\n",
       "      <td>0.510267</td>\n",
       "      <td>0.333333</td>\n",
       "      <td>0.952333</td>\n",
       "      <td>0.876550</td>\n",
       "      <td>0.075783</td>\n",
       "    </tr>\n",
       "    <tr>\n",
       "      <td>Republican</td>\n",
       "      <td>0.061283</td>\n",
       "      <td>0.451027</td>\n",
       "      <td>0.333333</td>\n",
       "      <td>0.885667</td>\n",
       "      <td>0.845643</td>\n",
       "      <td>0.040023</td>\n",
       "    </tr>\n",
       "    <tr>\n",
       "      <td>Non-Partisan</td>\n",
       "      <td>0.007300</td>\n",
       "      <td>0.100050</td>\n",
       "      <td>0.333333</td>\n",
       "      <td>0.508000</td>\n",
       "      <td>0.440683</td>\n",
       "      <td>0.067317</td>\n",
       "    </tr>\n",
       "  </tbody>\n",
       "</table>\n",
       "</div>"
      ],
      "text/plain": [
       "              Demographics  Twitter Influence  Random Guess     total  \\\n",
       "Democrat          0.032950           0.510267      0.333333  0.952333   \n",
       "Republican        0.061283           0.451027      0.333333  0.885667   \n",
       "Non-Partisan      0.007300           0.100050      0.333333  0.508000   \n",
       "\n",
       "               sum_all     other  \n",
       "Democrat      0.876550  0.075783  \n",
       "Republican    0.845643  0.040023  \n",
       "Non-Partisan  0.440683  0.067317  "
      ]
     },
     "execution_count": 222,
     "metadata": {},
     "output_type": "execute_result"
    }
   ],
   "source": [
    "data"
   ]
  },
  {
   "cell_type": "code",
   "execution_count": 351,
   "metadata": {},
   "outputs": [
    {
     "data": {
      "image/png": "[encoded data removed]",
      "text/plain": [
       "<Figure size 1080x360 with 1 Axes>"
      ]
     },
     "metadata": {
      "needs_background": "light"
     },
     "output_type": "display_data"
    }
   ],
   "source": [
    "f = plt.figure(figsize=(15,5))\n",
    "plt.barh(data.index, [1,1,1], color=\"white\", edgecolor=\"black\")\n",
    "plt.barh(data.index,data['Random Guess'], color=\"grey\", edgecolor='black', label='Random')\n",
    "plt.barh(data.index, data['Twitter Influence'], left=data['Random Guess'], color='#00ACEE', edgecolor='black',label='Twitter')\n",
    "plt.barh(data.index, data['Demographics'], left=data['Random Guess']+data['Twitter Influence'], color=\"navy\", edgecolor='black', label='Demographics')\n",
    "\n",
    "plt.barh(data.index, data['other'], left=data['sum_all'], color='darkorchid', edgecolor='black', label='Other')\n",
    "ax = plt.gca()\n",
    "ax.set_yticklabels(['Democrat', 'Republican', 'Non-Partisan'],fontdict={'fontsize':13})\n",
    "ax.set_frame_on(False)\n",
    "plt.xticks([0.3333333, 0.666666666, 1])\n",
    "plt.title(\"Feature Importance for Each Party\", fontsize=18)\n",
    "plt.savefig(\"party_features.png\")"
   ]
  },
  {
   "cell_type": "code",
   "execution_count": 252,
   "metadata": {},
   "outputs": [],
   "source": [
    "dems_dat = pd.Series(dems_out_n_infl).sort_values()\n",
    "reps_dat = pd.Series(reps_out_n_infl)[dems_dat.index]\n",
    "n_dat = pd.Series(n_out_n_infl)[dems_dat.index]"
   ]
  },
  {
   "cell_type": "code",
   "execution_count": 304,
   "metadata": {},
   "outputs": [],
   "source": [
    "import matplotlib as matplot"
   ]
  },
  {
   "cell_type": "code",
   "execution_count": 333,
   "metadata": {},
   "outputs": [
    {
     "data": {
      "image/png": "[encoded data removed]",
      "text/plain": [
       "<Figure size 1080x864 with 1 Axes>"
      ]
     },
     "metadata": {
      "needs_background": "light"
     },
     "output_type": "display_data"
    }
   ],
   "source": [
    "import numpy as np\n",
    "plt.figure(figsize=(15,12))\n",
    "width = 0.25\n",
    "reps_dat.loc[reps_dat<0] = -0.025*max(reps_dat)\n",
    "n_dat.loc[n_dat<0] = -0.025 * max(n_dat)\n",
    "plt.barh(np.arange(len(dems_dat.index)), n_dat/max(n_dat), height=width,label='Non-partisan', color=\"grey\")\n",
    "plt.barh(np.arange(len(dems_dat.index)) + width,reps_dat/max(reps_dat),height=width,label='Republican', color=\"red\")\n",
    "plt.barh(np.arange(len(dems_dat.index))+ 2*width,dems_dat/max(dems_dat),height=width,label='Democrat', color=\"blue\")\n",
    "plt.axvline(x=0.0, color='black', linewidth=1.0)\n",
    "#matplot.pyplot.yticks(np.arange(len(dems_dat.index)), [x.replace(\"_\", \" \").title() for x in dems_dat.index])\n",
    "ax = plt.gca()\n",
    "ax.set_yticks(np.arange(len(dems_dat.index))+width)\n",
    "ax.set_yticklabels([x.replace('_', ' ').title() for x in dems_dat.index], fontdict={'fontsize':14})\n",
    "ax.set_position((0.25,0.15,0.73,0.80))\n",
    "plt.xlabel(\"Relative Feature Importance\", fontsize=18)\n",
    "plt.title(\"Relative Feature Importance By Party\", fontsize=24)\n",
    "plt.legend(loc='best',prop={'size':16})\n",
    "plt.savefig(\"all_features_by_party.png\")"
   ]
  },
  {
   "cell_type": "code",
   "execution_count": 331,
   "metadata": {},
   "outputs": [
    {
     "data": {
      "text/plain": [
       "<matplotlib.axes._subplots.AxesSubplot at 0x14f9c84b588>"
      ]
     },
     "execution_count": 331,
     "metadata": {},
     "output_type": "execute_result"
    },
    {
     "data": {
      "image/png": "[encoded data removed]",
      "text/plain": [
       "<Figure size 432x288 with 1 Axes>"
      ]
     },
     "metadata": {
      "needs_background": "light"
     },
     "output_type": "display_data"
    }
   ],
   "source": [
    "plt.gca()"
   ]
  },
  {
   "cell_type": "code",
   "execution_count": 285,
   "metadata": {},
   "outputs": [
    {
     "data": {
      "text/plain": [
       "Index(['total_housing_units', 'degree', 'units_paying_rent',\n",
       "       'information_industry', 'entertainment_industry',\n",
       "       'median_household_income', 'poverty_population', 'hispanic_population',\n",
       "       'financial_industry', 'total_population', 'mean_household_income',\n",
       "       'veteran_population', 'agriculture_industry', 'incarcerated',\n",
       "       'armed_forces_population', 'non_white_population',\n",
       "       'government_employee', 'foreign_born_population'],\n",
       "      dtype='object')"
      ]
     },
     "execution_count": 285,
     "metadata": {},
     "output_type": "execute_result"
    }
   ],
   "source": [
    "labels"
   ]
  },
  {
   "cell_type": "code",
   "execution_count": 288,
   "metadata": {},
   "outputs": [
    {
     "data": {
      "text/plain": [
       "(array([ 0.25,  1.25,  2.25,  3.25,  4.25,  5.25,  6.25,  7.25,  8.25,\n",
       "         9.25, 10.25, 11.25, 12.25, 13.25, 14.25, 15.25, 16.25, 17.25]),\n",
       " Index(['total_housing_units', 'degree', 'units_paying_rent',\n",
       "        'information_industry', 'entertainment_industry',\n",
       "        'median_household_income', 'poverty_population', 'hispanic_population',\n",
       "        'financial_industry', 'total_population', 'mean_household_income',\n",
       "        'veteran_population', 'agriculture_industry', 'incarcerated',\n",
       "        'armed_forces_population', 'non_white_population',\n",
       "        'government_employee', 'foreign_born_population'],\n",
       "       dtype='object'))"
      ]
     },
     "execution_count": 288,
     "metadata": {},
     "output_type": "execute_result"
    }
   ],
   "source": [
    "plt.yticks"
   ]
  },
  {
   "cell_type": "code",
   "execution_count": 299,
   "metadata": {},
   "outputs": [
    {
     "ename": "ImportError",
     "evalue": "cannot import name 'yticks' from 'matplotlib.pyplot' (C:\\Users\\ericj\\Anaconda3\\lib\\site-packages\\matplotlib\\pyplot.py)",
     "output_type": "error",
     "traceback": [
      "\u001b[1;31m---------------------------------------------------------------------------\u001b[0m",
      "\u001b[1;31mImportError\u001b[0m                               Traceback (most recent call last)",
      "\u001b[1;32m<ipython-input-299-ea174149cfbc>\u001b[0m in \u001b[0;36m<module>\u001b[1;34m\u001b[0m\n\u001b[1;32m----> 1\u001b[1;33m \u001b[1;32mfrom\u001b[0m \u001b[0mmatplotlib\u001b[0m\u001b[1;33m.\u001b[0m\u001b[0mpyplot\u001b[0m \u001b[1;32mimport\u001b[0m \u001b[0myticks\u001b[0m\u001b[1;33m\u001b[0m\u001b[1;33m\u001b[0m\u001b[0m\n\u001b[0m",
      "\u001b[1;31mImportError\u001b[0m: cannot import name 'yticks' from 'matplotlib.pyplot' (C:\\Users\\ericj\\Anaconda3\\lib\\site-packages\\matplotlib\\pyplot.py)"
     ]
    }
   ],
   "source": [
    "from matplotlib.pyplot import yticks"
   ]
  },
  {
   "cell_type": "code",
   "execution_count": 300,
   "metadata": {},
   "outputs": [
    {
     "ename": "NameError",
     "evalue": "name 'yticks' is not defined",
     "output_type": "error",
     "traceback": [
      "\u001b[1;31m---------------------------------------------------------------------------\u001b[0m",
      "\u001b[1;31mNameError\u001b[0m                                 Traceback (most recent call last)",
      "\u001b[1;32m<ipython-input-300-778ed38acddb>\u001b[0m in \u001b[0;36m<module>\u001b[1;34m\u001b[0m\n\u001b[1;32m----> 1\u001b[1;33m \u001b[0myticks\u001b[0m\u001b[1;33m\u001b[0m\u001b[1;33m\u001b[0m\u001b[0m\n\u001b[0m",
      "\u001b[1;31mNameError\u001b[0m: name 'yticks' is not defined"
     ]
    }
   ],
   "source": [
    "yticks"
   ]
  },
  {
   "cell_type": "code",
   "execution_count": 295,
   "metadata": {},
   "outputs": [],
   "source": [
    "del yticks"
   ]
  },
  {
   "cell_type": "code",
   "execution_count": 297,
   "metadata": {},
   "outputs": [],
   "source": [
    "del plt.yticks"
   ]
  },
  {
   "cell_type": "code",
   "execution_count": 298,
   "metadata": {},
   "outputs": [
    {
     "ename": "AttributeError",
     "evalue": "module 'matplotlib.pyplot' has no attribute 'yticks'",
     "output_type": "error",
     "traceback": [
      "\u001b[1;31m---------------------------------------------------------------------------\u001b[0m",
      "\u001b[1;31mAttributeError\u001b[0m                            Traceback (most recent call last)",
      "\u001b[1;32m<ipython-input-298-40d474888f21>\u001b[0m in \u001b[0;36m<module>\u001b[1;34m\u001b[0m\n\u001b[1;32m----> 1\u001b[1;33m \u001b[0mplt\u001b[0m\u001b[1;33m.\u001b[0m\u001b[0myticks\u001b[0m\u001b[1;33m(\u001b[0m\u001b[1;33m)\u001b[0m\u001b[1;33m\u001b[0m\u001b[1;33m\u001b[0m\u001b[0m\n\u001b[0m",
      "\u001b[1;31mAttributeError\u001b[0m: module 'matplotlib.pyplot' has no attribute 'yticks'"
     ]
    }
   ],
   "source": []
  },
  {
   "cell_type": "code",
   "execution_count": null,
   "metadata": {},
   "outputs": [],
   "source": []
  }
 ],
 "metadata": {
  "kernelspec": {
   "display_name": "Python 3",
   "language": "python",
   "name": "python3"
  },
  "language_info": {
   "codemirror_mode": {
    "name": "ipython",
    "version": 3
   },
   "file_extension": ".py",
   "mimetype": "text/x-python",
   "name": "python",
   "nbconvert_exporter": "python",
   "pygments_lexer": "ipython3",
   "version": "3.7.4"
  }
 },
 "nbformat": 4,
 "nbformat_minor": 4
}
