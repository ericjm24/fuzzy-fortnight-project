{
 "cells": [
  {
   "cell_type": "code",
   "execution_count": 1,
   "metadata": {},
   "outputs": [],
   "source": [
    "import censusScrape\n",
    "import requests"
   ]
  },
  {
   "cell_type": "code",
   "execution_count": 2,
   "metadata": {},
   "outputs": [],
   "source": [
    "cn = censusScrape.census(\"e65848a4151cc08c06a88a2aee66683367563a1e\")"
   ]
  },
  {
   "cell_type": "code",
   "execution_count": 3,
   "metadata": {},
   "outputs": [
    {
     "data": {
      "text/plain": [
       "[['NAME', 'B00001_001E', 'state', 'county', 'tract'],\n",
       " ['Census Tract 21, Merced County, California', '249', '06', '047', '002100']]"
      ]
     },
     "execution_count": 3,
     "metadata": {},
     "output_type": "execute_result"
    }
   ],
   "source": [
    "cn.get_population_from_coord([-121.0, 37.0])"
   ]
  },
  {
   "cell_type": "code",
   "execution_count": 11,
   "metadata": {},
   "outputs": [
    {
     "data": {
      "text/plain": [
       "[{'SUFFIX': '',\n",
       "  'POP100': 0,\n",
       "  'GEOID': '060470021001362',\n",
       "  'CENTLAT': '+36.9977308',\n",
       "  'BLOCK': '1362',\n",
       "  'AREAWATER': 0,\n",
       "  'STATE': '06',\n",
       "  'BASENAME': '1362',\n",
       "  'OID': 210403978906132,\n",
       "  'LSADC': 'BK',\n",
       "  'FUNCSTAT': 'S',\n",
       "  'INTPTLAT': '+36.9977308',\n",
       "  'NAME': 'Block 1362',\n",
       "  'OBJECTID': 1024930,\n",
       "  'TRACT': '002100',\n",
       "  'CENTLON': '-120.9944372',\n",
       "  'BLKGRP': '1',\n",
       "  'AREALAND': 4159401,\n",
       "  'HU100': 0,\n",
       "  'INTPTLON': '-120.9944372',\n",
       "  'MTFCC': 'G5040',\n",
       "  'LWBLKTYP': 'L',\n",
       "  'UR': '',\n",
       "  'COUNTY': '047'}]"
      ]
     },
     "execution_count": 11,
     "metadata": {},
     "output_type": "execute_result"
    }
   ],
   "source": [
    "requests.get(\"https://geocoding.geo.census.gov/geocoder/geographies/coordinates?x=-121.0&y=37.0&benchmark=9&vintage=910&format=json\").json()[\"result\"][\"geographies\"][\"Census Blocks\"]"
   ]
  },
  {
   "cell_type": "code",
   "execution_count": null,
   "metadata": {},
   "outputs": [],
   "source": []
  }
 ],
 "metadata": {
  "kernelspec": {
   "display_name": "Python 3",
   "language": "python",
   "name": "python3"
  },
  "language_info": {
   "codemirror_mode": {
    "name": "ipython",
    "version": 3
   },
   "file_extension": ".py",
   "mimetype": "text/x-python",
   "name": "python",
   "nbconvert_exporter": "python",
   "pygments_lexer": "ipython3",
   "version": "3.7.3"
  }
 },
 "nbformat": 4,
 "nbformat_minor": 4
}
