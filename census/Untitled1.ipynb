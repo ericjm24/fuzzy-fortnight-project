{
 "cells": [
  {
   "cell_type": "code",
   "execution_count": 1,
   "metadata": {},
   "outputs": [],
   "source": [
    "import pandas as pd"
   ]
  },
  {
   "cell_type": "code",
   "execution_count": 2,
   "metadata": {},
   "outputs": [],
   "source": [
    "tracts = pd.read_csv(\"2019_Gaz_tracts_national.txt\", delimiter='\\t')"
   ]
  },
  {
   "cell_type": "code",
   "execution_count": 3,
   "metadata": {},
   "outputs": [
    {
     "data": {
      "text/html": [
       "<div>\n",
       "<style scoped>\n",
       "    .dataframe tbody tr th:only-of-type {\n",
       "        vertical-align: middle;\n",
       "    }\n",
       "\n",
       "    .dataframe tbody tr th {\n",
       "        vertical-align: top;\n",
       "    }\n",
       "\n",
       "    .dataframe thead th {\n",
       "        text-align: right;\n",
       "    }\n",
       "</style>\n",
       "<table border=\"1\" class=\"dataframe\">\n",
       "  <thead>\n",
       "    <tr style=\"text-align: right;\">\n",
       "      <th></th>\n",
       "      <th>USPS</th>\n",
       "      <th>GEOID</th>\n",
       "      <th>ALAND</th>\n",
       "      <th>AWATER</th>\n",
       "      <th>ALAND_SQMI</th>\n",
       "      <th>AWATER_SQMI</th>\n",
       "      <th>INTPTLAT</th>\n",
       "      <th>INTPTLONG</th>\n",
       "    </tr>\n",
       "  </thead>\n",
       "  <tbody>\n",
       "    <tr>\n",
       "      <th>0</th>\n",
       "      <td>AL</td>\n",
       "      <td>1001020100</td>\n",
       "      <td>9817813</td>\n",
       "      <td>28435</td>\n",
       "      <td>3.791</td>\n",
       "      <td>0.011</td>\n",
       "      <td>32.481959</td>\n",
       "      <td>-86.491338</td>\n",
       "    </tr>\n",
       "    <tr>\n",
       "      <th>1</th>\n",
       "      <td>AL</td>\n",
       "      <td>1001020200</td>\n",
       "      <td>3325680</td>\n",
       "      <td>5669</td>\n",
       "      <td>1.284</td>\n",
       "      <td>0.002</td>\n",
       "      <td>32.475758</td>\n",
       "      <td>-86.472468</td>\n",
       "    </tr>\n",
       "    <tr>\n",
       "      <th>2</th>\n",
       "      <td>AL</td>\n",
       "      <td>1001020300</td>\n",
       "      <td>5349273</td>\n",
       "      <td>9054</td>\n",
       "      <td>2.065</td>\n",
       "      <td>0.003</td>\n",
       "      <td>32.474024</td>\n",
       "      <td>-86.459703</td>\n",
       "    </tr>\n",
       "    <tr>\n",
       "      <th>3</th>\n",
       "      <td>AL</td>\n",
       "      <td>1001020400</td>\n",
       "      <td>6384276</td>\n",
       "      <td>8408</td>\n",
       "      <td>2.465</td>\n",
       "      <td>0.003</td>\n",
       "      <td>32.471030</td>\n",
       "      <td>-86.444835</td>\n",
       "    </tr>\n",
       "    <tr>\n",
       "      <th>4</th>\n",
       "      <td>AL</td>\n",
       "      <td>1001020500</td>\n",
       "      <td>11408866</td>\n",
       "      <td>43534</td>\n",
       "      <td>4.405</td>\n",
       "      <td>0.017</td>\n",
       "      <td>32.458922</td>\n",
       "      <td>-86.421826</td>\n",
       "    </tr>\n",
       "  </tbody>\n",
       "</table>\n",
       "</div>"
      ],
      "text/plain": [
       "  USPS       GEOID     ALAND  AWATER  ALAND_SQMI  AWATER_SQMI   INTPTLAT  \\\n",
       "0   AL  1001020100   9817813   28435       3.791        0.011  32.481959   \n",
       "1   AL  1001020200   3325680    5669       1.284        0.002  32.475758   \n",
       "2   AL  1001020300   5349273    9054       2.065        0.003  32.474024   \n",
       "3   AL  1001020400   6384276    8408       2.465        0.003  32.471030   \n",
       "4   AL  1001020500  11408866   43534       4.405        0.017  32.458922   \n",
       "\n",
       "   INTPTLONG                                                                                                                               \n",
       "0                                         -86.491338                                                                                       \n",
       "1                                         -86.472468                                                                                       \n",
       "2                                         -86.459703                                                                                       \n",
       "3                                         -86.444835                                                                                       \n",
       "4                                         -86.421826                                                                                       "
      ]
     },
     "execution_count": 3,
     "metadata": {},
     "output_type": "execute_result"
    }
   ],
   "source": [
    "tracts.head()"
   ]
  },
  {
   "cell_type": "code",
   "execution_count": null,
   "metadata": {},
   "outputs": [],
   "source": []
  }
 ],
 "metadata": {
  "kernelspec": {
   "display_name": "Python 3",
   "language": "python",
   "name": "python3"
  },
  "language_info": {
   "codemirror_mode": {
    "name": "ipython",
    "version": 3
   },
   "file_extension": ".py",
   "mimetype": "text/x-python",
   "name": "python",
   "nbconvert_exporter": "python",
   "pygments_lexer": "ipython3",
   "version": "3.7.4"
  }
 },
 "nbformat": 4,
 "nbformat_minor": 4
}
